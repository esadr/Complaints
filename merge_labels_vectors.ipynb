{
 "cells": [
  {
   "cell_type": "code",
   "execution_count": 1,
   "metadata": {
    "collapsed": false
   },
   "outputs": [],
   "source": [
    "import pandas as pd\n"
   ]
  },
  {
   "cell_type": "markdown",
   "metadata": {},
   "source": [
    "## Read the vectors (centeroid) from Topmine->FastText->word2vec in 100 dimension"
   ]
  },
  {
   "cell_type": "code",
   "execution_count": 2,
   "metadata": {
    "collapsed": true
   },
   "outputs": [],
   "source": [
    "chunks=pd.read_table('./vectors.txt',chunksize=10000,sep=' ', header=None, index_col=False) #read it in chunks http://stackoverflow.com/a/26017289/2674061"
   ]
  },
  {
   "cell_type": "markdown",
   "metadata": {},
   "source": [
    "merge chunks"
   ]
  },
  {
   "cell_type": "code",
   "execution_count": 3,
   "metadata": {
    "collapsed": false
   },
   "outputs": [],
   "source": [
    "df=pd.DataFrame()\n",
    "df=pd.concat(chunks)"
   ]
  },
  {
   "cell_type": "code",
   "execution_count": 4,
   "metadata": {
    "collapsed": false
   },
   "outputs": [
    {
     "data": {
      "text/html": [
       "<div>\n",
       "<table border=\"1\" class=\"dataframe\">\n",
       "  <thead>\n",
       "    <tr style=\"text-align: right;\">\n",
       "      <th></th>\n",
       "      <th>0</th>\n",
       "      <th>1</th>\n",
       "      <th>2</th>\n",
       "      <th>3</th>\n",
       "      <th>4</th>\n",
       "      <th>5</th>\n",
       "      <th>6</th>\n",
       "      <th>7</th>\n",
       "      <th>8</th>\n",
       "      <th>9</th>\n",
       "      <th>...</th>\n",
       "      <th>91</th>\n",
       "      <th>92</th>\n",
       "      <th>93</th>\n",
       "      <th>94</th>\n",
       "      <th>95</th>\n",
       "      <th>96</th>\n",
       "      <th>97</th>\n",
       "      <th>98</th>\n",
       "      <th>99</th>\n",
       "      <th>100</th>\n",
       "    </tr>\n",
       "  </thead>\n",
       "  <tbody>\n",
       "    <tr>\n",
       "      <th>0</th>\n",
       "      <td>456748</td>\n",
       "      <td>0.000000</td>\n",
       "      <td>0.000000</td>\n",
       "      <td>0.000000</td>\n",
       "      <td>0.000000</td>\n",
       "      <td>0.000000</td>\n",
       "      <td>0.000000</td>\n",
       "      <td>0.000000</td>\n",
       "      <td>0.000000</td>\n",
       "      <td>0.000000</td>\n",
       "      <td>...</td>\n",
       "      <td>0.000000</td>\n",
       "      <td>0.000000</td>\n",
       "      <td>0.000000</td>\n",
       "      <td>0.000000</td>\n",
       "      <td>0.000000</td>\n",
       "      <td>0.000000</td>\n",
       "      <td>0.000000</td>\n",
       "      <td>0.000000</td>\n",
       "      <td>0.000000</td>\n",
       "      <td>0.000000</td>\n",
       "    </tr>\n",
       "    <tr>\n",
       "      <th>1</th>\n",
       "      <td>385661</td>\n",
       "      <td>0.000000</td>\n",
       "      <td>0.000000</td>\n",
       "      <td>0.000000</td>\n",
       "      <td>0.000000</td>\n",
       "      <td>0.000000</td>\n",
       "      <td>0.000000</td>\n",
       "      <td>0.000000</td>\n",
       "      <td>0.000000</td>\n",
       "      <td>0.000000</td>\n",
       "      <td>...</td>\n",
       "      <td>0.000000</td>\n",
       "      <td>0.000000</td>\n",
       "      <td>0.000000</td>\n",
       "      <td>0.000000</td>\n",
       "      <td>0.000000</td>\n",
       "      <td>0.000000</td>\n",
       "      <td>0.000000</td>\n",
       "      <td>0.000000</td>\n",
       "      <td>0.000000</td>\n",
       "      <td>0.000000</td>\n",
       "    </tr>\n",
       "    <tr>\n",
       "      <th>2</th>\n",
       "      <td>376859</td>\n",
       "      <td>0.000000</td>\n",
       "      <td>0.000000</td>\n",
       "      <td>0.000000</td>\n",
       "      <td>0.000000</td>\n",
       "      <td>0.000000</td>\n",
       "      <td>0.000000</td>\n",
       "      <td>0.000000</td>\n",
       "      <td>0.000000</td>\n",
       "      <td>0.000000</td>\n",
       "      <td>...</td>\n",
       "      <td>0.000000</td>\n",
       "      <td>0.000000</td>\n",
       "      <td>0.000000</td>\n",
       "      <td>0.000000</td>\n",
       "      <td>0.000000</td>\n",
       "      <td>0.000000</td>\n",
       "      <td>0.000000</td>\n",
       "      <td>0.000000</td>\n",
       "      <td>0.000000</td>\n",
       "      <td>0.000000</td>\n",
       "    </tr>\n",
       "    <tr>\n",
       "      <th>3</th>\n",
       "      <td>186229</td>\n",
       "      <td>0.000000</td>\n",
       "      <td>0.000000</td>\n",
       "      <td>0.000000</td>\n",
       "      <td>0.000000</td>\n",
       "      <td>0.000000</td>\n",
       "      <td>0.000000</td>\n",
       "      <td>0.000000</td>\n",
       "      <td>0.000000</td>\n",
       "      <td>0.000000</td>\n",
       "      <td>...</td>\n",
       "      <td>0.000000</td>\n",
       "      <td>0.000000</td>\n",
       "      <td>0.000000</td>\n",
       "      <td>0.000000</td>\n",
       "      <td>0.000000</td>\n",
       "      <td>0.000000</td>\n",
       "      <td>0.000000</td>\n",
       "      <td>0.000000</td>\n",
       "      <td>0.000000</td>\n",
       "      <td>0.000000</td>\n",
       "    </tr>\n",
       "    <tr>\n",
       "      <th>4</th>\n",
       "      <td>114446</td>\n",
       "      <td>0.279541</td>\n",
       "      <td>0.263423</td>\n",
       "      <td>0.104596</td>\n",
       "      <td>-0.395094</td>\n",
       "      <td>-0.547253</td>\n",
       "      <td>-0.178229</td>\n",
       "      <td>-0.282684</td>\n",
       "      <td>-0.292041</td>\n",
       "      <td>0.177561</td>\n",
       "      <td>...</td>\n",
       "      <td>-0.015873</td>\n",
       "      <td>-0.047978</td>\n",
       "      <td>-0.555125</td>\n",
       "      <td>-0.042998</td>\n",
       "      <td>0.146759</td>\n",
       "      <td>0.266276</td>\n",
       "      <td>-0.079415</td>\n",
       "      <td>0.361403</td>\n",
       "      <td>-0.167115</td>\n",
       "      <td>-0.023925</td>\n",
       "    </tr>\n",
       "  </tbody>\n",
       "</table>\n",
       "<p>5 rows × 101 columns</p>\n",
       "</div>"
      ],
      "text/plain": [
       "      0         1         2         3         4         5         6    \\\n",
       "0  456748  0.000000  0.000000  0.000000  0.000000  0.000000  0.000000   \n",
       "1  385661  0.000000  0.000000  0.000000  0.000000  0.000000  0.000000   \n",
       "2  376859  0.000000  0.000000  0.000000  0.000000  0.000000  0.000000   \n",
       "3  186229  0.000000  0.000000  0.000000  0.000000  0.000000  0.000000   \n",
       "4  114446  0.279541  0.263423  0.104596 -0.395094 -0.547253 -0.178229   \n",
       "\n",
       "        7         8         9      ...          91        92        93   \\\n",
       "0  0.000000  0.000000  0.000000    ...     0.000000  0.000000  0.000000   \n",
       "1  0.000000  0.000000  0.000000    ...     0.000000  0.000000  0.000000   \n",
       "2  0.000000  0.000000  0.000000    ...     0.000000  0.000000  0.000000   \n",
       "3  0.000000  0.000000  0.000000    ...     0.000000  0.000000  0.000000   \n",
       "4 -0.282684 -0.292041  0.177561    ...    -0.015873 -0.047978 -0.555125   \n",
       "\n",
       "        94        95        96        97        98        99        100  \n",
       "0  0.000000  0.000000  0.000000  0.000000  0.000000  0.000000  0.000000  \n",
       "1  0.000000  0.000000  0.000000  0.000000  0.000000  0.000000  0.000000  \n",
       "2  0.000000  0.000000  0.000000  0.000000  0.000000  0.000000  0.000000  \n",
       "3  0.000000  0.000000  0.000000  0.000000  0.000000  0.000000  0.000000  \n",
       "4 -0.042998  0.146759  0.266276 -0.079415  0.361403 -0.167115 -0.023925  \n",
       "\n",
       "[5 rows x 101 columns]"
      ]
     },
     "execution_count": 4,
     "metadata": {},
     "output_type": "execute_result"
    }
   ],
   "source": [
    "df.head()"
   ]
  },
  {
   "cell_type": "code",
   "execution_count": 5,
   "metadata": {
    "collapsed": false
   },
   "outputs": [
    {
     "data": {
      "text/plain": [
       "1022180"
      ]
     },
     "execution_count": 5,
     "metadata": {},
     "output_type": "execute_result"
    }
   ],
   "source": [
    "len(df)"
   ]
  },
  {
   "cell_type": "code",
   "execution_count": 6,
   "metadata": {
    "collapsed": false
   },
   "outputs": [],
   "source": [
    "df.rename(columns = {0:'CMPLID'},inplace=True) #http://stackoverflow.com/a/19758398/2674061"
   ]
  },
  {
   "cell_type": "code",
   "execution_count": 7,
   "metadata": {
    "collapsed": false
   },
   "outputs": [
    {
     "data": {
      "text/plain": [
       "Index(['CMPLID',        1,        2,        3,        4,        5,        6,\n",
       "              7,        8,        9,\n",
       "       ...\n",
       "             91,       92,       93,       94,       95,       96,       97,\n",
       "             98,       99,      100],\n",
       "      dtype='object', length=101)"
      ]
     },
     "execution_count": 7,
     "metadata": {},
     "output_type": "execute_result"
    }
   ],
   "source": [
    "df.columns\n"
   ]
  },
  {
   "cell_type": "markdown",
   "metadata": {
    "collapsed": true
   },
   "source": [
    "## add the ODINO column to vectors"
   ]
  },
  {
   "cell_type": "code",
   "execution_count": 8,
   "metadata": {
    "collapsed": true
   },
   "outputs": [],
   "source": [
    "import pandas as pd\n",
    "import numpy as np\n",
    "# alldata = pd.read_csv('./FLAT_CMPL.txt', sep='\\t',index_col=False, low_memory=False, encoding = \"ISO-8859-1\", error_bad_lines=False, names = [\"CMPLID\",\"ODINO\",\"MFR_NAME\",\"MAKETXT\",\"MODELTXT\",\"YEARTXT\",\"CRASH\",\"FAILDATE\",\"FIRE\",\"INJURED\",\"DEATHS\",\"COMPDESC\",\"CITY\",\"STATE\",\"VIN\",\"DATEA\",\"LDATE\",\"MILES\",\"OCCURENCES\",\"CDESCR\",\"CMPL_TYPE\",\"POLICE_RPT_YN\",\"PURCH_DT\",\"ORIG_OWNER_YN\",\"ANTI_BRAKES_YN\",\"CRUISE_CONT_YN\",\"NUM_CYLS\",\"DRIVE_TRAIN\",\"FUEL_SYS\",\"FUEL_TYPE\",\"TRANS_TYPE\",\"VEH_SPEED\",\"DOT\",\"TIRE_SIZE\",\"LOC_OF_TIRE\",\"TIRE_FAIL_TYPE\",\"ORIG_EQUIP_YN\",\"MANUF_DT\",\"SEAT_TYPE\",\"RESTRAINT_TYPE\",\"DEALER_NAME\",\"DEALER_TEL\",\"DEALER_CITY\",\"DEALER_STATE\",\"DEALER_ZIP\",\"PROD_TYPE\",\"REPAIRED_YN\",\"MEDICAL_ATTN\",\"VEHICLES_TOWED_YN\"],dtype={'ODINO':np.int32})\n",
    "alldata = pd.read_table('./FLAT_CMPL.txt', sep='\\t',index_col=False, low_memory=False, encoding = \"ISO-8859-1\", error_bad_lines=False, names = [\"CMPLID\",\"ODINO\",\"MFR_NAME\",\"MAKETXT\",\"MODELTXT\",\"YEARTXT\",\"CRASH\",\"FAILDATE\",\"FIRE\",\"INJURED\",\"DEATHS\",\"COMPDESC\",\"CITY\",\"STATE\",\"VIN\",\"DATEA\",\"LDATE\",\"MILES\",\"OCCURENCES\",\"CDESCR\",\"CMPL_TYPE\",\"POLICE_RPT_YN\",\"PURCH_DT\",\"ORIG_OWNER_YN\",\"ANTI_BRAKES_YN\",\"CRUISE_CONT_YN\",\"NUM_CYLS\",\"DRIVE_TRAIN\",\"FUEL_SYS\",\"FUEL_TYPE\",\"TRANS_TYPE\",\"VEH_SPEED\",\"DOT\",\"TIRE_SIZE\",\"LOC_OF_TIRE\",\"TIRE_FAIL_TYPE\",\"ORIG_EQUIP_YN\",\"MANUF_DT\",\"SEAT_TYPE\",\"RESTRAINT_TYPE\",\"DEALER_NAME\",\"DEALER_TEL\",\"DEALER_CITY\",\"DEALER_STATE\",\"DEALER_ZIP\",\"PROD_TYPE\",\"REPAIRED_YN\",\"MEDICAL_ATTN\",\"VEHICLES_TOWED_YN\"],dtype={'ODINO':np.int32})"
   ]
  },
  {
   "cell_type": "code",
   "execution_count": 9,
   "metadata": {
    "collapsed": false
   },
   "outputs": [
    {
     "data": {
      "text/plain": [
       "Index(['CMPLID', 'ODINO', 'MFR_NAME', 'MAKETXT', 'MODELTXT', 'YEARTXT',\n",
       "       'CRASH', 'FAILDATE', 'FIRE', 'INJURED', 'DEATHS', 'COMPDESC', 'CITY',\n",
       "       'STATE', 'VIN', 'DATEA', 'LDATE', 'MILES', 'OCCURENCES', 'CDESCR',\n",
       "       'CMPL_TYPE', 'POLICE_RPT_YN', 'PURCH_DT', 'ORIG_OWNER_YN',\n",
       "       'ANTI_BRAKES_YN', 'CRUISE_CONT_YN', 'NUM_CYLS', 'DRIVE_TRAIN',\n",
       "       'FUEL_SYS', 'FUEL_TYPE', 'TRANS_TYPE', 'VEH_SPEED', 'DOT', 'TIRE_SIZE',\n",
       "       'LOC_OF_TIRE', 'TIRE_FAIL_TYPE', 'ORIG_EQUIP_YN', 'MANUF_DT',\n",
       "       'SEAT_TYPE', 'RESTRAINT_TYPE', 'DEALER_NAME', 'DEALER_TEL',\n",
       "       'DEALER_CITY', 'DEALER_STATE', 'DEALER_ZIP', 'PROD_TYPE', 'REPAIRED_YN',\n",
       "       'MEDICAL_ATTN', 'VEHICLES_TOWED_YN'],\n",
       "      dtype='object')"
      ]
     },
     "execution_count": 9,
     "metadata": {},
     "output_type": "execute_result"
    }
   ],
   "source": [
    "alldata.columns"
   ]
  },
  {
   "cell_type": "code",
   "execution_count": 10,
   "metadata": {
    "collapsed": true
   },
   "outputs": [],
   "source": [
    "cmp_keys=alldata.filter(items=['CMPLID', 'ODINO','COMPDESC','FAILDATE']) #http://pandas.pydata.org/pandas-docs/stable/generated/pandas.DataFrame.filter.html"
   ]
  },
  {
   "cell_type": "code",
   "execution_count": 11,
   "metadata": {
    "collapsed": false
   },
   "outputs": [
    {
     "data": {
      "text/plain": [
       "Index(['CMPLID', 'ODINO', 'COMPDESC', 'FAILDATE'], dtype='object')"
      ]
     },
     "execution_count": 11,
     "metadata": {},
     "output_type": "execute_result"
    }
   ],
   "source": [
    "cmp_keys.columns"
   ]
  },
  {
   "cell_type": "code",
   "execution_count": 12,
   "metadata": {
    "collapsed": false
   },
   "outputs": [],
   "source": [
    "df=pd.merge(df,cmp_keys,on='CMPLID')"
   ]
  },
  {
   "cell_type": "code",
   "execution_count": 13,
   "metadata": {
    "collapsed": false
   },
   "outputs": [
    {
     "data": {
      "text/html": [
       "<div>\n",
       "<table border=\"1\" class=\"dataframe\">\n",
       "  <thead>\n",
       "    <tr style=\"text-align: right;\">\n",
       "      <th></th>\n",
       "      <th>CMPLID</th>\n",
       "      <th>1</th>\n",
       "      <th>2</th>\n",
       "      <th>3</th>\n",
       "      <th>4</th>\n",
       "      <th>5</th>\n",
       "      <th>6</th>\n",
       "      <th>7</th>\n",
       "      <th>8</th>\n",
       "      <th>9</th>\n",
       "      <th>...</th>\n",
       "      <th>94</th>\n",
       "      <th>95</th>\n",
       "      <th>96</th>\n",
       "      <th>97</th>\n",
       "      <th>98</th>\n",
       "      <th>99</th>\n",
       "      <th>100</th>\n",
       "      <th>ODINO</th>\n",
       "      <th>COMPDESC</th>\n",
       "      <th>FAILDATE</th>\n",
       "    </tr>\n",
       "  </thead>\n",
       "  <tbody>\n",
       "    <tr>\n",
       "      <th>0</th>\n",
       "      <td>456748</td>\n",
       "      <td>0.000000</td>\n",
       "      <td>0.000000</td>\n",
       "      <td>0.000000</td>\n",
       "      <td>0.000000</td>\n",
       "      <td>0.000000</td>\n",
       "      <td>0.000000</td>\n",
       "      <td>0.000000</td>\n",
       "      <td>0.000000</td>\n",
       "      <td>0.000000</td>\n",
       "      <td>...</td>\n",
       "      <td>0.000000</td>\n",
       "      <td>0.000000</td>\n",
       "      <td>0.000000</td>\n",
       "      <td>0.000000</td>\n",
       "      <td>0.000000</td>\n",
       "      <td>0.000000</td>\n",
       "      <td>0.000000</td>\n",
       "      <td>10053038</td>\n",
       "      <td>STEERING:RACK AND PINION</td>\n",
       "      <td>20031223.0</td>\n",
       "    </tr>\n",
       "    <tr>\n",
       "      <th>1</th>\n",
       "      <td>385661</td>\n",
       "      <td>0.000000</td>\n",
       "      <td>0.000000</td>\n",
       "      <td>0.000000</td>\n",
       "      <td>0.000000</td>\n",
       "      <td>0.000000</td>\n",
       "      <td>0.000000</td>\n",
       "      <td>0.000000</td>\n",
       "      <td>0.000000</td>\n",
       "      <td>0.000000</td>\n",
       "      <td>...</td>\n",
       "      <td>0.000000</td>\n",
       "      <td>0.000000</td>\n",
       "      <td>0.000000</td>\n",
       "      <td>0.000000</td>\n",
       "      <td>0.000000</td>\n",
       "      <td>0.000000</td>\n",
       "      <td>0.000000</td>\n",
       "      <td>9007157</td>\n",
       "      <td>EXTERIOR LIGHTING:BRAKE LIGHTS</td>\n",
       "      <td>NaN</td>\n",
       "    </tr>\n",
       "    <tr>\n",
       "      <th>2</th>\n",
       "      <td>376859</td>\n",
       "      <td>0.000000</td>\n",
       "      <td>0.000000</td>\n",
       "      <td>0.000000</td>\n",
       "      <td>0.000000</td>\n",
       "      <td>0.000000</td>\n",
       "      <td>0.000000</td>\n",
       "      <td>0.000000</td>\n",
       "      <td>0.000000</td>\n",
       "      <td>0.000000</td>\n",
       "      <td>...</td>\n",
       "      <td>0.000000</td>\n",
       "      <td>0.000000</td>\n",
       "      <td>0.000000</td>\n",
       "      <td>0.000000</td>\n",
       "      <td>0.000000</td>\n",
       "      <td>0.000000</td>\n",
       "      <td>0.000000</td>\n",
       "      <td>8016397</td>\n",
       "      <td>FUEL SYSTEM, OTHER:STORAGE</td>\n",
       "      <td>20020808.0</td>\n",
       "    </tr>\n",
       "    <tr>\n",
       "      <th>3</th>\n",
       "      <td>186229</td>\n",
       "      <td>0.000000</td>\n",
       "      <td>0.000000</td>\n",
       "      <td>0.000000</td>\n",
       "      <td>0.000000</td>\n",
       "      <td>0.000000</td>\n",
       "      <td>0.000000</td>\n",
       "      <td>0.000000</td>\n",
       "      <td>0.000000</td>\n",
       "      <td>0.000000</td>\n",
       "      <td>...</td>\n",
       "      <td>0.000000</td>\n",
       "      <td>0.000000</td>\n",
       "      <td>0.000000</td>\n",
       "      <td>0.000000</td>\n",
       "      <td>0.000000</td>\n",
       "      <td>0.000000</td>\n",
       "      <td>0.000000</td>\n",
       "      <td>851553</td>\n",
       "      <td>VEHICLE SPEED CONTROL</td>\n",
       "      <td>19990602.0</td>\n",
       "    </tr>\n",
       "    <tr>\n",
       "      <th>4</th>\n",
       "      <td>114446</td>\n",
       "      <td>0.279541</td>\n",
       "      <td>0.263423</td>\n",
       "      <td>0.104596</td>\n",
       "      <td>-0.395094</td>\n",
       "      <td>-0.547253</td>\n",
       "      <td>-0.178229</td>\n",
       "      <td>-0.282684</td>\n",
       "      <td>-0.292041</td>\n",
       "      <td>0.177561</td>\n",
       "      <td>...</td>\n",
       "      <td>-0.042998</td>\n",
       "      <td>0.146759</td>\n",
       "      <td>0.266276</td>\n",
       "      <td>-0.079415</td>\n",
       "      <td>0.361403</td>\n",
       "      <td>-0.167115</td>\n",
       "      <td>-0.023925</td>\n",
       "      <td>528801</td>\n",
       "      <td>ENGINE AND ENGINE COOLING:ENGINE:GASOLINE</td>\n",
       "      <td>NaN</td>\n",
       "    </tr>\n",
       "  </tbody>\n",
       "</table>\n",
       "<p>5 rows × 104 columns</p>\n",
       "</div>"
      ],
      "text/plain": [
       "   CMPLID         1         2         3         4         5         6  \\\n",
       "0  456748  0.000000  0.000000  0.000000  0.000000  0.000000  0.000000   \n",
       "1  385661  0.000000  0.000000  0.000000  0.000000  0.000000  0.000000   \n",
       "2  376859  0.000000  0.000000  0.000000  0.000000  0.000000  0.000000   \n",
       "3  186229  0.000000  0.000000  0.000000  0.000000  0.000000  0.000000   \n",
       "4  114446  0.279541  0.263423  0.104596 -0.395094 -0.547253 -0.178229   \n",
       "\n",
       "          7         8         9     ...            94        95        96  \\\n",
       "0  0.000000  0.000000  0.000000     ...      0.000000  0.000000  0.000000   \n",
       "1  0.000000  0.000000  0.000000     ...      0.000000  0.000000  0.000000   \n",
       "2  0.000000  0.000000  0.000000     ...      0.000000  0.000000  0.000000   \n",
       "3  0.000000  0.000000  0.000000     ...      0.000000  0.000000  0.000000   \n",
       "4 -0.282684 -0.292041  0.177561     ...     -0.042998  0.146759  0.266276   \n",
       "\n",
       "         97        98        99       100     ODINO  \\\n",
       "0  0.000000  0.000000  0.000000  0.000000  10053038   \n",
       "1  0.000000  0.000000  0.000000  0.000000   9007157   \n",
       "2  0.000000  0.000000  0.000000  0.000000   8016397   \n",
       "3  0.000000  0.000000  0.000000  0.000000    851553   \n",
       "4 -0.079415  0.361403 -0.167115 -0.023925    528801   \n",
       "\n",
       "                                    COMPDESC    FAILDATE  \n",
       "0                   STEERING:RACK AND PINION  20031223.0  \n",
       "1             EXTERIOR LIGHTING:BRAKE LIGHTS         NaN  \n",
       "2                 FUEL SYSTEM, OTHER:STORAGE  20020808.0  \n",
       "3                      VEHICLE SPEED CONTROL  19990602.0  \n",
       "4  ENGINE AND ENGINE COOLING:ENGINE:GASOLINE         NaN  \n",
       "\n",
       "[5 rows x 104 columns]"
      ]
     },
     "execution_count": 13,
     "metadata": {},
     "output_type": "execute_result"
    }
   ],
   "source": [
    "df.head()"
   ]
  },
  {
   "cell_type": "code",
   "execution_count": 14,
   "metadata": {
    "collapsed": false
   },
   "outputs": [
    {
     "data": {
      "text/plain": [
       "pandas.core.series.Series"
      ]
     },
     "execution_count": 14,
     "metadata": {},
     "output_type": "execute_result"
    }
   ],
   "source": [
    "type(df['FAILDATE'])"
   ]
  },
  {
   "cell_type": "code",
   "execution_count": 15,
   "metadata": {
    "collapsed": false
   },
   "outputs": [],
   "source": [
    "df_after_2005=df[df['FAILDATE'] >20050000]"
   ]
  },
  {
   "cell_type": "code",
   "execution_count": 16,
   "metadata": {
    "collapsed": false
   },
   "outputs": [
    {
     "data": {
      "text/plain": [
       "602303"
      ]
     },
     "execution_count": 16,
     "metadata": {},
     "output_type": "execute_result"
    }
   ],
   "source": [
    "len(df_after_2005)"
   ]
  },
  {
   "cell_type": "code",
   "execution_count": 17,
   "metadata": {
    "collapsed": true
   },
   "outputs": [],
   "source": [
    "df=df_after_2005"
   ]
  },
  {
   "cell_type": "code",
   "execution_count": 18,
   "metadata": {
    "collapsed": true
   },
   "outputs": [],
   "source": [
    "df = df.drop(\"FAILDATE\",1)"
   ]
  },
  {
   "cell_type": "code",
   "execution_count": null,
   "metadata": {
    "collapsed": true
   },
   "outputs": [],
   "source": []
  },
  {
   "cell_type": "markdown",
   "metadata": {},
   "source": [
    "### convert the COMPDESC to numeric form"
   ]
  },
  {
   "cell_type": "code",
   "execution_count": null,
   "metadata": {
    "collapsed": true
   },
   "outputs": [],
   "source": []
  },
  {
   "cell_type": "code",
   "execution_count": 19,
   "metadata": {
    "collapsed": true
   },
   "outputs": [],
   "source": [
    "cmpdesc_unique=df.filter(items=['COMPDESC']) #http://pandas.pydata.org/pandas-docs/stable/generated/pandas.DataFrame.filter.html"
   ]
  },
  {
   "cell_type": "code",
   "execution_count": null,
   "metadata": {
    "collapsed": true
   },
   "outputs": [],
   "source": []
  },
  {
   "cell_type": "code",
   "execution_count": 20,
   "metadata": {
    "collapsed": true
   },
   "outputs": [],
   "source": [
    "cmpdesc_unique= cmpdesc_unique.COMPDESC.unique()"
   ]
  },
  {
   "cell_type": "code",
   "execution_count": 21,
   "metadata": {
    "collapsed": false
   },
   "outputs": [
    {
     "data": {
      "text/plain": [
       "numpy.ndarray"
      ]
     },
     "execution_count": 21,
     "metadata": {},
     "output_type": "execute_result"
    }
   ],
   "source": [
    "type(cmpdesc_unique)"
   ]
  },
  {
   "cell_type": "code",
   "execution_count": 22,
   "metadata": {
    "collapsed": false
   },
   "outputs": [
    {
     "data": {
      "text/plain": [
       "array(['EXTERIOR LIGHTING', 'ELECTRICAL SYSTEM',\n",
       "       'STEERING:LINKAGES:TIE ROD ASSEMBLY', 'STEERING', 'POWER TRAIN',\n",
       "       'ENGINE AND ENGINE COOLING:ENGINE', 'VEHICLE SPEED CONTROL',\n",
       "       'AIR BAGS', 'EXTERIOR LIGHTING:HEADLIGHTS'], dtype=object)"
      ]
     },
     "execution_count": 22,
     "metadata": {},
     "output_type": "execute_result"
    }
   ],
   "source": [
    "cmpdesc_unique[1:10]"
   ]
  },
  {
   "cell_type": "code",
   "execution_count": null,
   "metadata": {
    "collapsed": true
   },
   "outputs": [],
   "source": []
  },
  {
   "cell_type": "code",
   "execution_count": 23,
   "metadata": {
    "collapsed": false
   },
   "outputs": [
    {
     "data": {
      "text/plain": [
       "404"
      ]
     },
     "execution_count": 23,
     "metadata": {},
     "output_type": "execute_result"
    }
   ],
   "source": [
    "len(cmpdesc_unique )"
   ]
  },
  {
   "cell_type": "code",
   "execution_count": 24,
   "metadata": {
    "collapsed": false
   },
   "outputs": [],
   "source": [
    "# cmpdesc_unique.head()"
   ]
  },
  {
   "cell_type": "markdown",
   "metadata": {},
   "source": [
    "### Below code for data frame, but later I unique the values which creates Series and below code is not required"
   ]
  },
  {
   "cell_type": "code",
   "execution_count": 25,
   "metadata": {
    "collapsed": false
   },
   "outputs": [
    {
     "data": {
      "text/plain": [
       "'\\ndic_cmp_desc={}\\nfor i, row in enumerate(cmpdesc_unique.values):\\n# #     idx=mapping_summary.index[i]\\n#     cmpdesc = str(row)[1:-1]\\n    cmpdesc = str(row)[2:-2]\\n#     dic_cmp_desc[str(cmpdesc)]=i\\n    dic_cmp_desc[cmpdesc]=i\\n#     print(type(cmpdesc),cmpdesc)\\n#     print(i,str(cmpdesc),dic_cmp_desc[str(cmpdesc)])\\n#     print(i,cmpdesc,dic_cmp_desc[cmpdesc])\\n#     if(i>10):\\n#         break\\n'"
      ]
     },
     "execution_count": 25,
     "metadata": {},
     "output_type": "execute_result"
    }
   ],
   "source": [
    "#code for using over data frame\n",
    "'''\n",
    "dic_cmp_desc={}\n",
    "for i, row in enumerate(cmpdesc_unique.values):\n",
    "# #     idx=mapping_summary.index[i]\n",
    "#     cmpdesc = str(row)[1:-1]\n",
    "    cmpdesc = str(row)[2:-2]\n",
    "#     dic_cmp_desc[str(cmpdesc)]=i\n",
    "    dic_cmp_desc[cmpdesc]=i\n",
    "#     print(type(cmpdesc),cmpdesc)\n",
    "#     print(i,str(cmpdesc),dic_cmp_desc[str(cmpdesc)])\n",
    "#     print(i,cmpdesc,dic_cmp_desc[cmpdesc])\n",
    "#     if(i>10):\n",
    "#         break\n",
    "'''"
   ]
  },
  {
   "cell_type": "code",
   "execution_count": 26,
   "metadata": {
    "collapsed": false
   },
   "outputs": [],
   "source": [
    "dic_cmp_desc={}\n",
    "for i, row in enumerate(cmpdesc_unique):\n",
    "#     print(i,row)\n",
    "#     cmpdesc = str(row)[2:-2]\n",
    "#     dic_cmp_desc[str(cmpdesc)]=i\n",
    "    dic_cmp_desc[row]=i\n",
    "#     print(type(cmpdesc),cmpdesc)\n",
    "#     print(i,str(cmpdesc),dic_cmp_desc[str(cmpdesc)])\n",
    "#     print(i,cmpdesc,dic_cmp_desc[cmpdesc])\n",
    "#     if(i>10):\n",
    "#         break"
   ]
  },
  {
   "cell_type": "code",
   "execution_count": 27,
   "metadata": {
    "collapsed": false
   },
   "outputs": [
    {
     "data": {
      "text/plain": [
       "404"
      ]
     },
     "execution_count": 27,
     "metadata": {},
     "output_type": "execute_result"
    }
   ],
   "source": [
    "len(dic_cmp_desc)"
   ]
  },
  {
   "cell_type": "code",
   "execution_count": null,
   "metadata": {
    "collapsed": true
   },
   "outputs": [],
   "source": []
  },
  {
   "cell_type": "code",
   "execution_count": 28,
   "metadata": {
    "collapsed": false
   },
   "outputs": [
    {
     "name": "stdout",
     "output_type": "stream",
     "text": [
      "0 nan\n",
      "1 ENGINE AND ENGINE COOLING:EXHAUST SYSTEM:MANIFOLD/HEADER/MUFFLER/TAIL PIPE\n",
      "2 SUSPENSION:MULTIPLE AXLE\n",
      "3 SERVICE BRAKES, AIR:DISC:CHAMBER\n",
      "4 LANE DEPARTURE: BLIND SPOT DETECTION\n",
      "5 ENGINE AND ENGINE COOLING:ENGINE:GASOLINE:TURBO-CHARGER\n",
      "6 EQUIPMENT:RECREATIONAL VEHICLE\n",
      "7 POWER TRAIN:AUTOMATIC TRANSMISSION:TORQUE CONVERTER\n",
      "8 EXTERIOR LIGHTING:TURN SIGNAL\n",
      "9 FUEL SYSTEM, OTHER:DELIVERY:FUEL PUMP\n",
      "10 STEERING:LINKAGES\n",
      "11 ENGINE AND ENGINE COOLING:COOLING SYSTEM:RADIATOR ASSEMBLY\n"
     ]
    }
   ],
   "source": [
    "for i, row in enumerate(dic_cmp_desc):\n",
    "    print(i,row)\n",
    "    if(i>10):\n",
    "        break\n",
    "    "
   ]
  },
  {
   "cell_type": "code",
   "execution_count": 29,
   "metadata": {
    "collapsed": false
   },
   "outputs": [],
   "source": [
    "# for x in dic_cmp_desc.keys():\n",
    "#     val = dic_cmp_desc[x]\n",
    "#     print(x)        #for dubug uncomment this line"
   ]
  },
  {
   "cell_type": "code",
   "execution_count": null,
   "metadata": {
    "collapsed": true
   },
   "outputs": [],
   "source": []
  },
  {
   "cell_type": "code",
   "execution_count": 30,
   "metadata": {
    "collapsed": false
   },
   "outputs": [
    {
     "name": "stdout",
     "output_type": "stream",
     "text": [
      "139\n"
     ]
    }
   ],
   "source": [
    "a='EXTERIOR LIGHTING:BRAKE LIGHTS'\n",
    "if a in dic_cmp_desc:\n",
    "    print(dic_cmp_desc[a])\n",
    "# if a in d:\n",
    "#     print(d[a])"
   ]
  },
  {
   "cell_type": "code",
   "execution_count": null,
   "metadata": {
    "collapsed": true
   },
   "outputs": [],
   "source": []
  },
  {
   "cell_type": "code",
   "execution_count": 31,
   "metadata": {
    "collapsed": true
   },
   "outputs": [],
   "source": [
    "# a=df.head(10)"
   ]
  },
  {
   "cell_type": "code",
   "execution_count": 32,
   "metadata": {
    "collapsed": false
   },
   "outputs": [],
   "source": [
    "# a"
   ]
  },
  {
   "cell_type": "code",
   "execution_count": 33,
   "metadata": {
    "collapsed": false
   },
   "outputs": [],
   "source": [
    "# for i, row in enumerate(a.values):\n",
    "# #     idx=mapping_summary.index[i]\n",
    "#     cmpdesc = str(row)[1:-1]\n",
    "#     print(row)\n",
    "#     dic_cmp_desc[str(cmpdesc)]=i\n",
    "#     dic_cmp_desc[cmpdesc]=i\n",
    "#     print(type(cmpdesc),cmpdesc)"
   ]
  },
  {
   "cell_type": "code",
   "execution_count": 34,
   "metadata": {
    "collapsed": false
   },
   "outputs": [],
   "source": [
    "comp_desc_id=[]\n",
    "for row in df['COMPDESC']:\n",
    "#     print(row)\n",
    "#     print(a.ix[i]['COMPDESC'])\n",
    "#     tmp=dic_cmp_desc[str(row)]\n",
    "    comp_desc_id.append(dic_cmp_desc[row])\n",
    "    "
   ]
  },
  {
   "cell_type": "code",
   "execution_count": 83,
   "metadata": {
    "collapsed": false
   },
   "outputs": [
    {
     "data": {
      "text/plain": [
       "[1, 2, 3, 4, 5, 6, 7, 5, 8, 2, 2, 9, 10, 11, 12, 13, 14, 8, 11]"
      ]
     },
     "execution_count": 83,
     "metadata": {},
     "output_type": "execute_result"
    }
   ],
   "source": [
    "comp_desc_id[1:20]"
   ]
  },
  {
   "cell_type": "code",
   "execution_count": 84,
   "metadata": {
    "collapsed": false
   },
   "outputs": [
    {
     "data": {
      "text/plain": [
       "602303"
      ]
     },
     "execution_count": 84,
     "metadata": {},
     "output_type": "execute_result"
    }
   ],
   "source": [
    "len(comp_desc_id)"
   ]
  },
  {
   "cell_type": "code",
   "execution_count": 95,
   "metadata": {
    "collapsed": false
   },
   "outputs": [
    {
     "name": "stdout",
     "output_type": "stream",
     "text": [
      "min value before:0\n",
      "max value before:403\n",
      "min value after:0\n",
      "max value after:1\n"
     ]
    }
   ],
   "source": [
    "min_value = min(comp_desc_id)\n",
    "max_value = max(comp_desc_id)\n",
    "print('min value before:%d' % min_value)\n",
    "print('max value before:%d' % max_value)\n",
    "\n",
    "comp_desc_id_scaled=[]\n",
    "\n",
    "for row in comp_desc_id:\n",
    "    comp_desc_id_scaled.append( (row - min_value)/(max_value - min_value) )\n",
    "    \n",
    "\n",
    "    \n",
    "print('min value after:%d' % min(comp_desc_id_scaled))\n",
    "print('max value after:%d' % max(comp_desc_id_scaled))\n"
   ]
  },
  {
   "cell_type": "markdown",
   "metadata": {
    "collapsed": true
   },
   "source": [
    "#### comp_desc_id should be normalized"
   ]
  },
  {
   "cell_type": "code",
   "execution_count": null,
   "metadata": {
    "collapsed": true
   },
   "outputs": [],
   "source": []
  },
  {
   "cell_type": "code",
   "execution_count": null,
   "metadata": {
    "collapsed": true
   },
   "outputs": [],
   "source": []
  },
  {
   "cell_type": "code",
   "execution_count": 96,
   "metadata": {
    "collapsed": true
   },
   "outputs": [],
   "source": [
    "df['comp_desc_id']=comp_desc_id_scaled"
   ]
  },
  {
   "cell_type": "code",
   "execution_count": 97,
   "metadata": {
    "collapsed": false
   },
   "outputs": [
    {
     "data": {
      "text/plain": [
       "602303"
      ]
     },
     "execution_count": 97,
     "metadata": {},
     "output_type": "execute_result"
    }
   ],
   "source": [
    "len(df)"
   ]
  },
  {
   "cell_type": "code",
   "execution_count": 99,
   "metadata": {
    "collapsed": false
   },
   "outputs": [
    {
     "data": {
      "text/html": [
       "<div>\n",
       "<table border=\"1\" class=\"dataframe\">\n",
       "  <thead>\n",
       "    <tr style=\"text-align: right;\">\n",
       "      <th></th>\n",
       "      <th>CMPLID</th>\n",
       "      <th>1</th>\n",
       "      <th>2</th>\n",
       "      <th>3</th>\n",
       "      <th>4</th>\n",
       "      <th>5</th>\n",
       "      <th>6</th>\n",
       "      <th>7</th>\n",
       "      <th>8</th>\n",
       "      <th>9</th>\n",
       "      <th>...</th>\n",
       "      <th>94</th>\n",
       "      <th>95</th>\n",
       "      <th>96</th>\n",
       "      <th>97</th>\n",
       "      <th>98</th>\n",
       "      <th>99</th>\n",
       "      <th>100</th>\n",
       "      <th>ODINO</th>\n",
       "      <th>COMPDESC</th>\n",
       "      <th>comp_desc_id</th>\n",
       "    </tr>\n",
       "  </thead>\n",
       "  <tbody>\n",
       "    <tr>\n",
       "      <th>11</th>\n",
       "      <td>672784</td>\n",
       "      <td>0.240301</td>\n",
       "      <td>0.040469</td>\n",
       "      <td>-0.241411</td>\n",
       "      <td>-0.423423</td>\n",
       "      <td>-0.318242</td>\n",
       "      <td>0.020620</td>\n",
       "      <td>0.135733</td>\n",
       "      <td>-0.097865</td>\n",
       "      <td>-0.369228</td>\n",
       "      <td>...</td>\n",
       "      <td>0.131405</td>\n",
       "      <td>-0.014125</td>\n",
       "      <td>-0.045160</td>\n",
       "      <td>-0.015071</td>\n",
       "      <td>-0.041557</td>\n",
       "      <td>0.213869</td>\n",
       "      <td>0.023100</td>\n",
       "      <td>10225820</td>\n",
       "      <td>ELECTRICAL SYSTEM:IGNITION</td>\n",
       "      <td>0.000000</td>\n",
       "    </tr>\n",
       "    <tr>\n",
       "      <th>12</th>\n",
       "      <td>696668</td>\n",
       "      <td>0.253811</td>\n",
       "      <td>-0.039038</td>\n",
       "      <td>-0.310773</td>\n",
       "      <td>-0.401073</td>\n",
       "      <td>-0.122986</td>\n",
       "      <td>-0.040100</td>\n",
       "      <td>-0.078501</td>\n",
       "      <td>-0.007027</td>\n",
       "      <td>-0.144336</td>\n",
       "      <td>...</td>\n",
       "      <td>0.190260</td>\n",
       "      <td>0.249070</td>\n",
       "      <td>0.188204</td>\n",
       "      <td>0.012993</td>\n",
       "      <td>-0.041436</td>\n",
       "      <td>-0.062629</td>\n",
       "      <td>0.120601</td>\n",
       "      <td>10245257</td>\n",
       "      <td>EXTERIOR LIGHTING</td>\n",
       "      <td>0.002481</td>\n",
       "    </tr>\n",
       "    <tr>\n",
       "      <th>14</th>\n",
       "      <td>1215488</td>\n",
       "      <td>0.284717</td>\n",
       "      <td>0.270654</td>\n",
       "      <td>-0.012842</td>\n",
       "      <td>-0.401517</td>\n",
       "      <td>-0.538466</td>\n",
       "      <td>-0.051798</td>\n",
       "      <td>-0.201790</td>\n",
       "      <td>-0.138203</td>\n",
       "      <td>0.377546</td>\n",
       "      <td>...</td>\n",
       "      <td>-0.176188</td>\n",
       "      <td>0.236951</td>\n",
       "      <td>0.218079</td>\n",
       "      <td>-0.194566</td>\n",
       "      <td>0.470594</td>\n",
       "      <td>-0.206242</td>\n",
       "      <td>-0.014044</td>\n",
       "      <td>10760844</td>\n",
       "      <td>ELECTRICAL SYSTEM</td>\n",
       "      <td>0.004963</td>\n",
       "    </tr>\n",
       "    <tr>\n",
       "      <th>53</th>\n",
       "      <td>524664</td>\n",
       "      <td>0.295829</td>\n",
       "      <td>-0.052278</td>\n",
       "      <td>-0.069486</td>\n",
       "      <td>-0.747175</td>\n",
       "      <td>-0.466575</td>\n",
       "      <td>-0.451943</td>\n",
       "      <td>-0.292682</td>\n",
       "      <td>0.153607</td>\n",
       "      <td>-0.031511</td>\n",
       "      <td>...</td>\n",
       "      <td>0.224925</td>\n",
       "      <td>0.163774</td>\n",
       "      <td>0.123745</td>\n",
       "      <td>-0.517694</td>\n",
       "      <td>0.316205</td>\n",
       "      <td>0.144381</td>\n",
       "      <td>0.383255</td>\n",
       "      <td>10108548</td>\n",
       "      <td>STEERING:LINKAGES:TIE ROD ASSEMBLY</td>\n",
       "      <td>0.007444</td>\n",
       "    </tr>\n",
       "    <tr>\n",
       "      <th>58</th>\n",
       "      <td>811382</td>\n",
       "      <td>0.192729</td>\n",
       "      <td>-0.019037</td>\n",
       "      <td>-0.282743</td>\n",
       "      <td>-0.485621</td>\n",
       "      <td>-0.080791</td>\n",
       "      <td>-0.048456</td>\n",
       "      <td>0.069818</td>\n",
       "      <td>-0.078325</td>\n",
       "      <td>-0.114975</td>\n",
       "      <td>...</td>\n",
       "      <td>0.141354</td>\n",
       "      <td>0.183732</td>\n",
       "      <td>0.056628</td>\n",
       "      <td>0.009870</td>\n",
       "      <td>0.108594</td>\n",
       "      <td>-0.008479</td>\n",
       "      <td>0.081730</td>\n",
       "      <td>10351315</td>\n",
       "      <td>STEERING</td>\n",
       "      <td>0.009926</td>\n",
       "    </tr>\n",
       "  </tbody>\n",
       "</table>\n",
       "<p>5 rows × 104 columns</p>\n",
       "</div>"
      ],
      "text/plain": [
       "     CMPLID         1         2         3         4         5         6  \\\n",
       "11   672784  0.240301  0.040469 -0.241411 -0.423423 -0.318242  0.020620   \n",
       "12   696668  0.253811 -0.039038 -0.310773 -0.401073 -0.122986 -0.040100   \n",
       "14  1215488  0.284717  0.270654 -0.012842 -0.401517 -0.538466 -0.051798   \n",
       "53   524664  0.295829 -0.052278 -0.069486 -0.747175 -0.466575 -0.451943   \n",
       "58   811382  0.192729 -0.019037 -0.282743 -0.485621 -0.080791 -0.048456   \n",
       "\n",
       "           7         8         9      ...             94        95        96  \\\n",
       "11  0.135733 -0.097865 -0.369228      ...       0.131405 -0.014125 -0.045160   \n",
       "12 -0.078501 -0.007027 -0.144336      ...       0.190260  0.249070  0.188204   \n",
       "14 -0.201790 -0.138203  0.377546      ...      -0.176188  0.236951  0.218079   \n",
       "53 -0.292682  0.153607 -0.031511      ...       0.224925  0.163774  0.123745   \n",
       "58  0.069818 -0.078325 -0.114975      ...       0.141354  0.183732  0.056628   \n",
       "\n",
       "          97        98        99       100     ODINO  \\\n",
       "11 -0.015071 -0.041557  0.213869  0.023100  10225820   \n",
       "12  0.012993 -0.041436 -0.062629  0.120601  10245257   \n",
       "14 -0.194566  0.470594 -0.206242 -0.014044  10760844   \n",
       "53 -0.517694  0.316205  0.144381  0.383255  10108548   \n",
       "58  0.009870  0.108594 -0.008479  0.081730  10351315   \n",
       "\n",
       "                              COMPDESC  comp_desc_id  \n",
       "11          ELECTRICAL SYSTEM:IGNITION      0.000000  \n",
       "12                   EXTERIOR LIGHTING      0.002481  \n",
       "14                   ELECTRICAL SYSTEM      0.004963  \n",
       "53  STEERING:LINKAGES:TIE ROD ASSEMBLY      0.007444  \n",
       "58                            STEERING      0.009926  \n",
       "\n",
       "[5 rows x 104 columns]"
      ]
     },
     "execution_count": 99,
     "metadata": {},
     "output_type": "execute_result"
    }
   ],
   "source": [
    "df.head()"
   ]
  },
  {
   "cell_type": "markdown",
   "metadata": {},
   "source": [
    "## Read the mapping table"
   ]
  },
  {
   "cell_type": "code",
   "execution_count": 100,
   "metadata": {
    "collapsed": true
   },
   "outputs": [],
   "source": [
    "mapping = pd.read_csv('./voq_map_filtered', sep=',',index_col=False, low_memory=False, encoding = \"ISO-8859-1\", error_bad_lines=False)"
   ]
  },
  {
   "cell_type": "code",
   "execution_count": 101,
   "metadata": {
    "collapsed": false
   },
   "outputs": [
    {
     "data": {
      "text/html": [
       "<div>\n",
       "<table border=\"1\" class=\"dataframe\">\n",
       "  <thead>\n",
       "    <tr style=\"text-align: right;\">\n",
       "      <th></th>\n",
       "      <th>Unnamed: 0</th>\n",
       "      <th>voq.rowno</th>\n",
       "      <th>voq.odino</th>\n",
       "      <th>voq.ecode</th>\n",
       "      <th>voq.datea</th>\n",
       "      <th>voq.compdesc</th>\n",
       "      <th>voq.defect_id</th>\n",
       "      <th>fa.fa_id</th>\n",
       "      <th>fa.fa_path</th>\n",
       "      <th>fa.fa_label</th>\n",
       "      <th>fo.fo_id</th>\n",
       "      <th>fo.fo_path</th>\n",
       "      <th>fo.fo_label</th>\n",
       "    </tr>\n",
       "  </thead>\n",
       "  <tbody>\n",
       "    <tr>\n",
       "      <th>0</th>\n",
       "      <td>1</td>\n",
       "      <td>1810</td>\n",
       "      <td>10003620</td>\n",
       "      <td>e53</td>\n",
       "      <td>20030113</td>\n",
       "      <td>air bags</td>\n",
       "      <td>7</td>\n",
       "      <td>990</td>\n",
       "      <td>00005/00990</td>\n",
       "      <td>Failure</td>\n",
       "      <td>12764</td>\n",
       "      <td>65/77/004/12764</td>\n",
       "      <td>SBE, front</td>\n",
       "    </tr>\n",
       "    <tr>\n",
       "      <th>1</th>\n",
       "      <td>123</td>\n",
       "      <td>68281</td>\n",
       "      <td>10060969</td>\n",
       "      <td>e46</td>\n",
       "      <td>20040227</td>\n",
       "      <td>air bags</td>\n",
       "      <td>34</td>\n",
       "      <td>624</td>\n",
       "      <td>00005/00527/00049/00624</td>\n",
       "      <td>Accidental activation</td>\n",
       "      <td>15450</td>\n",
       "      <td>72/12</td>\n",
       "      <td>Airbags</td>\n",
       "    </tr>\n",
       "    <tr>\n",
       "      <th>2</th>\n",
       "      <td>142</td>\n",
       "      <td>75256</td>\n",
       "      <td>10066641</td>\n",
       "      <td>e53</td>\n",
       "      <td>20040406</td>\n",
       "      <td>air bags</td>\n",
       "      <td>34</td>\n",
       "      <td>624</td>\n",
       "      <td>00005/00527/00049/00624</td>\n",
       "      <td>Accidental activation</td>\n",
       "      <td>15450</td>\n",
       "      <td>72/12</td>\n",
       "      <td>Airbags</td>\n",
       "    </tr>\n",
       "    <tr>\n",
       "      <th>3</th>\n",
       "      <td>170</td>\n",
       "      <td>93260</td>\n",
       "      <td>10079790</td>\n",
       "      <td>e46</td>\n",
       "      <td>20040701</td>\n",
       "      <td>tires</td>\n",
       "      <td>7</td>\n",
       "      <td>990</td>\n",
       "      <td>00005/00990</td>\n",
       "      <td>Failure</td>\n",
       "      <td>12764</td>\n",
       "      <td>65/77/004/12764</td>\n",
       "      <td>SBE, front</td>\n",
       "    </tr>\n",
       "    <tr>\n",
       "      <th>4</th>\n",
       "      <td>207</td>\n",
       "      <td>108798</td>\n",
       "      <td>10094713</td>\n",
       "      <td>e46</td>\n",
       "      <td>20040930</td>\n",
       "      <td>air bags:side/window</td>\n",
       "      <td>34</td>\n",
       "      <td>624</td>\n",
       "      <td>00005/00527/00049/00624</td>\n",
       "      <td>Accidental activation</td>\n",
       "      <td>15450</td>\n",
       "      <td>72/12</td>\n",
       "      <td>Airbags</td>\n",
       "    </tr>\n",
       "  </tbody>\n",
       "</table>\n",
       "</div>"
      ],
      "text/plain": [
       "   Unnamed: 0  voq.rowno  voq.odino voq.ecode  voq.datea  \\\n",
       "0           1       1810   10003620       e53   20030113   \n",
       "1         123      68281   10060969       e46   20040227   \n",
       "2         142      75256   10066641       e53   20040406   \n",
       "3         170      93260   10079790       e46   20040701   \n",
       "4         207     108798   10094713       e46   20040930   \n",
       "\n",
       "           voq.compdesc  voq.defect_id  fa.fa_id               fa.fa_path  \\\n",
       "0              air bags              7       990              00005/00990   \n",
       "1              air bags             34       624  00005/00527/00049/00624   \n",
       "2              air bags             34       624  00005/00527/00049/00624   \n",
       "3                 tires              7       990              00005/00990   \n",
       "4  air bags:side/window             34       624  00005/00527/00049/00624   \n",
       "\n",
       "             fa.fa_label  fo.fo_id       fo.fo_path fo.fo_label  \n",
       "0                Failure     12764  65/77/004/12764  SBE, front  \n",
       "1  Accidental activation     15450            72/12     Airbags  \n",
       "2  Accidental activation     15450            72/12     Airbags  \n",
       "3                Failure     12764  65/77/004/12764  SBE, front  \n",
       "4  Accidental activation     15450            72/12     Airbags  "
      ]
     },
     "execution_count": 101,
     "metadata": {},
     "output_type": "execute_result"
    }
   ],
   "source": [
    "mapping.head()\n"
   ]
  },
  {
   "cell_type": "markdown",
   "metadata": {},
   "source": [
    "#### filter the ODINO and fo_path columns from the Mapping table"
   ]
  },
  {
   "cell_type": "code",
   "execution_count": 102,
   "metadata": {
    "collapsed": false
   },
   "outputs": [],
   "source": [
    "mapping_summary=mapping.filter(items=['voq.odino', 'fo.fo_path']) #http://pandas.pydata.org/pandas-docs/stable/generated/pandas.DataFrame.filter.html"
   ]
  },
  {
   "cell_type": "code",
   "execution_count": null,
   "metadata": {
    "collapsed": true
   },
   "outputs": [],
   "source": [
    "        "
   ]
  },
  {
   "cell_type": "code",
   "execution_count": null,
   "metadata": {
    "collapsed": false
   },
   "outputs": [],
   "source": []
  },
  {
   "cell_type": "code",
   "execution_count": 103,
   "metadata": {
    "collapsed": true
   },
   "outputs": [],
   "source": [
    "#http://stackoverflow.com/a/19758398/2674061\n",
    "mapping_summary.rename(columns = {'voq.odino':'ODINO'},inplace=True) \n",
    "mapping_summary.rename(columns = {'fo.fo_path':'fo_path'},inplace=True) "
   ]
  },
  {
   "cell_type": "code",
   "execution_count": 104,
   "metadata": {
    "collapsed": false
   },
   "outputs": [
    {
     "data": {
      "text/plain": [
       "Index(['ODINO', 'fo_path'], dtype='object')"
      ]
     },
     "execution_count": 104,
     "metadata": {},
     "output_type": "execute_result"
    }
   ],
   "source": [
    "mapping_summary.columns"
   ]
  },
  {
   "cell_type": "code",
   "execution_count": 105,
   "metadata": {
    "collapsed": false
   },
   "outputs": [
    {
     "data": {
      "text/html": [
       "<div>\n",
       "<table border=\"1\" class=\"dataframe\">\n",
       "  <thead>\n",
       "    <tr style=\"text-align: right;\">\n",
       "      <th></th>\n",
       "      <th>ODINO</th>\n",
       "      <th>fo_path</th>\n",
       "    </tr>\n",
       "  </thead>\n",
       "  <tbody>\n",
       "    <tr>\n",
       "      <th>0</th>\n",
       "      <td>10003620</td>\n",
       "      <td>65/77/004/12764</td>\n",
       "    </tr>\n",
       "    <tr>\n",
       "      <th>1</th>\n",
       "      <td>10060969</td>\n",
       "      <td>72/12</td>\n",
       "    </tr>\n",
       "    <tr>\n",
       "      <th>2</th>\n",
       "      <td>10066641</td>\n",
       "      <td>72/12</td>\n",
       "    </tr>\n",
       "    <tr>\n",
       "      <th>3</th>\n",
       "      <td>10079790</td>\n",
       "      <td>65/77/004/12764</td>\n",
       "    </tr>\n",
       "    <tr>\n",
       "      <th>4</th>\n",
       "      <td>10094713</td>\n",
       "      <td>72/12</td>\n",
       "    </tr>\n",
       "  </tbody>\n",
       "</table>\n",
       "</div>"
      ],
      "text/plain": [
       "      ODINO          fo_path\n",
       "0  10003620  65/77/004/12764\n",
       "1  10060969            72/12\n",
       "2  10066641            72/12\n",
       "3  10079790  65/77/004/12764\n",
       "4  10094713            72/12"
      ]
     },
     "execution_count": 105,
     "metadata": {},
     "output_type": "execute_result"
    }
   ],
   "source": [
    "mapping_summary.head()"
   ]
  },
  {
   "cell_type": "markdown",
   "metadata": {},
   "source": [
    "#### number of unique fo_path"
   ]
  },
  {
   "cell_type": "code",
   "execution_count": 106,
   "metadata": {
    "collapsed": false
   },
   "outputs": [
    {
     "data": {
      "text/plain": [
       "394"
      ]
     },
     "execution_count": 106,
     "metadata": {},
     "output_type": "execute_result"
    }
   ],
   "source": [
    "#https://chrisalbon.com/python/pandas_list_unique_values_in_column.html\n",
    "len(mapping_summary.fo_path.unique() )"
   ]
  },
  {
   "cell_type": "code",
   "execution_count": 107,
   "metadata": {
    "collapsed": false
   },
   "outputs": [],
   "source": [
    "# mapping_summary.fo_path.unique()"
   ]
  },
  {
   "cell_type": "code",
   "execution_count": 108,
   "metadata": {
    "collapsed": true
   },
   "outputs": [],
   "source": [
    "import re"
   ]
  },
  {
   "cell_type": "code",
   "execution_count": 109,
   "metadata": {
    "collapsed": false
   },
   "outputs": [],
   "source": [
    "# http://stackoverflow.com/a/32230237/2674061\n",
    "# mapping_summary['L1'] = mapping_summary['fo_path'].str.split(('/'), expand=True)"
   ]
  },
  {
   "cell_type": "code",
   "execution_count": null,
   "metadata": {
    "collapsed": true
   },
   "outputs": [],
   "source": []
  },
  {
   "cell_type": "code",
   "execution_count": 110,
   "metadata": {
    "collapsed": false
   },
   "outputs": [],
   "source": [
    "# mapping_summary.head()"
   ]
  },
  {
   "cell_type": "code",
   "execution_count": 111,
   "metadata": {
    "collapsed": true
   },
   "outputs": [],
   "source": [
    "a='65/77/004/12764'"
   ]
  },
  {
   "cell_type": "code",
   "execution_count": 112,
   "metadata": {
    "collapsed": false
   },
   "outputs": [
    {
     "data": {
      "text/plain": [
       "['65', '77', '004', '12764']"
      ]
     },
     "execution_count": 112,
     "metadata": {},
     "output_type": "execute_result"
    }
   ],
   "source": [
    "a.split('/')"
   ]
  },
  {
   "cell_type": "code",
   "execution_count": 113,
   "metadata": {
    "collapsed": false
   },
   "outputs": [],
   "source": [
    "# mapping_summary['L1'] = mapping_summary['fo_path'].str.split('../', expand=True)"
   ]
  },
  {
   "cell_type": "code",
   "execution_count": 114,
   "metadata": {
    "collapsed": false
   },
   "outputs": [],
   "source": [
    "# mapping_summary['L2'] = mapping_summary['fo_path'].str.split(('((\\d)+/(\\d)+)'), expand=True)"
   ]
  },
  {
   "cell_type": "code",
   "execution_count": 115,
   "metadata": {
    "collapsed": false
   },
   "outputs": [],
   "source": [
    "# mapping_summary['L3'] = mapping_summary['fo_path'].str.extract('(\\d)+/(\\d)+)', expand=True)"
   ]
  },
  {
   "cell_type": "code",
   "execution_count": 116,
   "metadata": {
    "collapsed": false
   },
   "outputs": [
    {
     "data": {
      "text/html": [
       "<div>\n",
       "<table border=\"1\" class=\"dataframe\">\n",
       "  <thead>\n",
       "    <tr style=\"text-align: right;\">\n",
       "      <th></th>\n",
       "      <th>ODINO</th>\n",
       "      <th>fo_path</th>\n",
       "    </tr>\n",
       "  </thead>\n",
       "  <tbody>\n",
       "    <tr>\n",
       "      <th>0</th>\n",
       "      <td>10003620</td>\n",
       "      <td>65/77/004/12764</td>\n",
       "    </tr>\n",
       "    <tr>\n",
       "      <th>1</th>\n",
       "      <td>10060969</td>\n",
       "      <td>72/12</td>\n",
       "    </tr>\n",
       "    <tr>\n",
       "      <th>2</th>\n",
       "      <td>10066641</td>\n",
       "      <td>72/12</td>\n",
       "    </tr>\n",
       "    <tr>\n",
       "      <th>3</th>\n",
       "      <td>10079790</td>\n",
       "      <td>65/77/004/12764</td>\n",
       "    </tr>\n",
       "    <tr>\n",
       "      <th>4</th>\n",
       "      <td>10094713</td>\n",
       "      <td>72/12</td>\n",
       "    </tr>\n",
       "  </tbody>\n",
       "</table>\n",
       "</div>"
      ],
      "text/plain": [
       "      ODINO          fo_path\n",
       "0  10003620  65/77/004/12764\n",
       "1  10060969            72/12\n",
       "2  10066641            72/12\n",
       "3  10079790  65/77/004/12764\n",
       "4  10094713            72/12"
      ]
     },
     "execution_count": 116,
     "metadata": {},
     "output_type": "execute_result"
    }
   ],
   "source": [
    "mapping_summary.head()"
   ]
  },
  {
   "cell_type": "code",
   "execution_count": 117,
   "metadata": {
    "collapsed": false
   },
   "outputs": [],
   "source": [
    "# mapping_summary['L3'] = mapping_summary['fo_path'].str.extract('((\\d)+/(\\d)+/(\\d)*))', expand=True)(\\d)"
   ]
  },
  {
   "cell_type": "code",
   "execution_count": 118,
   "metadata": {
    "collapsed": true
   },
   "outputs": [],
   "source": [
    "mapping_summary['parts'] = mapping_summary['fo_path'].str.split('/')"
   ]
  },
  {
   "cell_type": "code",
   "execution_count": 119,
   "metadata": {
    "collapsed": false
   },
   "outputs": [],
   "source": [
    "# mapping_summary.head(20)"
   ]
  },
  {
   "cell_type": "code",
   "execution_count": 120,
   "metadata": {
    "collapsed": false
   },
   "outputs": [],
   "source": [
    "unique_l1={}\n",
    "lst1=[]\n",
    "for i,row in enumerate(mapping_summary.values):\n",
    "#     print(mapping_summary.ix[i])\n",
    "    idx=mapping_summary.index[i]\n",
    "    odino,fo_path,parts = row\n",
    "    lst1.append((odino, parts[0]))\n",
    "    unique_l1[parts[0]]=''\n",
    "    "
   ]
  },
  {
   "cell_type": "code",
   "execution_count": 121,
   "metadata": {
    "collapsed": false
   },
   "outputs": [
    {
     "data": {
      "text/plain": [
       "49"
      ]
     },
     "execution_count": 121,
     "metadata": {},
     "output_type": "execute_result"
    }
   ],
   "source": [
    "len(unique_l1)"
   ]
  },
  {
   "cell_type": "markdown",
   "metadata": {},
   "source": [
    "##### check the unique lables in L1"
   ]
  },
  {
   "cell_type": "code",
   "execution_count": 122,
   "metadata": {
    "collapsed": false
   },
   "outputs": [],
   "source": [
    "# for i in unique_l1.items():\n",
    "#     print(i)"
   ]
  },
  {
   "cell_type": "markdown",
   "metadata": {},
   "source": [
    "###### debug info"
   ]
  },
  {
   "cell_type": "code",
   "execution_count": 123,
   "metadata": {
    "collapsed": false
   },
   "outputs": [],
   "source": [
    "# len(lst1)"
   ]
  },
  {
   "cell_type": "code",
   "execution_count": 124,
   "metadata": {
    "collapsed": false
   },
   "outputs": [],
   "source": [
    "# lst1[1:20]"
   ]
  },
  {
   "cell_type": "code",
   "execution_count": null,
   "metadata": {
    "collapsed": true
   },
   "outputs": [],
   "source": []
  },
  {
   "cell_type": "code",
   "execution_count": 125,
   "metadata": {
    "collapsed": false
   },
   "outputs": [],
   "source": [
    "l1=pd.DataFrame(lst1,columns=['ODINO','L1'])"
   ]
  },
  {
   "cell_type": "code",
   "execution_count": 126,
   "metadata": {
    "collapsed": false
   },
   "outputs": [
    {
     "data": {
      "text/html": [
       "<div>\n",
       "<table border=\"1\" class=\"dataframe\">\n",
       "  <thead>\n",
       "    <tr style=\"text-align: right;\">\n",
       "      <th></th>\n",
       "      <th>ODINO</th>\n",
       "      <th>L1</th>\n",
       "    </tr>\n",
       "  </thead>\n",
       "  <tbody>\n",
       "    <tr>\n",
       "      <th>0</th>\n",
       "      <td>10003620</td>\n",
       "      <td>65</td>\n",
       "    </tr>\n",
       "    <tr>\n",
       "      <th>1</th>\n",
       "      <td>10060969</td>\n",
       "      <td>72</td>\n",
       "    </tr>\n",
       "    <tr>\n",
       "      <th>2</th>\n",
       "      <td>10066641</td>\n",
       "      <td>72</td>\n",
       "    </tr>\n",
       "    <tr>\n",
       "      <th>3</th>\n",
       "      <td>10079790</td>\n",
       "      <td>65</td>\n",
       "    </tr>\n",
       "    <tr>\n",
       "      <th>4</th>\n",
       "      <td>10094713</td>\n",
       "      <td>72</td>\n",
       "    </tr>\n",
       "  </tbody>\n",
       "</table>\n",
       "</div>"
      ],
      "text/plain": [
       "      ODINO  L1\n",
       "0  10003620  65\n",
       "1  10060969  72\n",
       "2  10066641  72\n",
       "3  10079790  65\n",
       "4  10094713  72"
      ]
     },
     "execution_count": 126,
     "metadata": {},
     "output_type": "execute_result"
    }
   ],
   "source": [
    "l1.head()"
   ]
  },
  {
   "cell_type": "code",
   "execution_count": null,
   "metadata": {
    "collapsed": true
   },
   "outputs": [],
   "source": []
  },
  {
   "cell_type": "markdown",
   "metadata": {},
   "source": [
    "## create L1 training data"
   ]
  },
  {
   "cell_type": "code",
   "execution_count": 127,
   "metadata": {
    "collapsed": true
   },
   "outputs": [],
   "source": [
    "train_L1=pd.merge(df,l1,on='ODINO')"
   ]
  },
  {
   "cell_type": "code",
   "execution_count": 128,
   "metadata": {
    "collapsed": false
   },
   "outputs": [
    {
     "data": {
      "text/html": [
       "<div>\n",
       "<table border=\"1\" class=\"dataframe\">\n",
       "  <thead>\n",
       "    <tr style=\"text-align: right;\">\n",
       "      <th></th>\n",
       "      <th>CMPLID</th>\n",
       "      <th>1</th>\n",
       "      <th>2</th>\n",
       "      <th>3</th>\n",
       "      <th>4</th>\n",
       "      <th>5</th>\n",
       "      <th>6</th>\n",
       "      <th>7</th>\n",
       "      <th>8</th>\n",
       "      <th>9</th>\n",
       "      <th>...</th>\n",
       "      <th>95</th>\n",
       "      <th>96</th>\n",
       "      <th>97</th>\n",
       "      <th>98</th>\n",
       "      <th>99</th>\n",
       "      <th>100</th>\n",
       "      <th>ODINO</th>\n",
       "      <th>COMPDESC</th>\n",
       "      <th>comp_desc_id</th>\n",
       "      <th>L1</th>\n",
       "    </tr>\n",
       "  </thead>\n",
       "  <tbody>\n",
       "    <tr>\n",
       "      <th>0</th>\n",
       "      <td>1042649</td>\n",
       "      <td>0.118763</td>\n",
       "      <td>0.544907</td>\n",
       "      <td>-0.102826</td>\n",
       "      <td>-1.201483</td>\n",
       "      <td>-0.378267</td>\n",
       "      <td>-0.281807</td>\n",
       "      <td>0.224272</td>\n",
       "      <td>-0.264937</td>\n",
       "      <td>-0.170182</td>\n",
       "      <td>...</td>\n",
       "      <td>-0.187273</td>\n",
       "      <td>-0.234017</td>\n",
       "      <td>-0.043267</td>\n",
       "      <td>0.398510</td>\n",
       "      <td>0.527573</td>\n",
       "      <td>-0.010714</td>\n",
       "      <td>10566324</td>\n",
       "      <td>ELECTRONIC STABILITY CONTROL</td>\n",
       "      <td>0.039702</td>\n",
       "      <td>34</td>\n",
       "    </tr>\n",
       "    <tr>\n",
       "      <th>1</th>\n",
       "      <td>1042649</td>\n",
       "      <td>0.118763</td>\n",
       "      <td>0.544907</td>\n",
       "      <td>-0.102826</td>\n",
       "      <td>-1.201483</td>\n",
       "      <td>-0.378267</td>\n",
       "      <td>-0.281807</td>\n",
       "      <td>0.224272</td>\n",
       "      <td>-0.264937</td>\n",
       "      <td>-0.170182</td>\n",
       "      <td>...</td>\n",
       "      <td>-0.187273</td>\n",
       "      <td>-0.234017</td>\n",
       "      <td>-0.043267</td>\n",
       "      <td>0.398510</td>\n",
       "      <td>0.527573</td>\n",
       "      <td>-0.010714</td>\n",
       "      <td>10566324</td>\n",
       "      <td>ELECTRONIC STABILITY CONTROL</td>\n",
       "      <td>0.039702</td>\n",
       "      <td>34</td>\n",
       "    </tr>\n",
       "    <tr>\n",
       "      <th>2</th>\n",
       "      <td>1042649</td>\n",
       "      <td>0.118763</td>\n",
       "      <td>0.544907</td>\n",
       "      <td>-0.102826</td>\n",
       "      <td>-1.201483</td>\n",
       "      <td>-0.378267</td>\n",
       "      <td>-0.281807</td>\n",
       "      <td>0.224272</td>\n",
       "      <td>-0.264937</td>\n",
       "      <td>-0.170182</td>\n",
       "      <td>...</td>\n",
       "      <td>-0.187273</td>\n",
       "      <td>-0.234017</td>\n",
       "      <td>-0.043267</td>\n",
       "      <td>0.398510</td>\n",
       "      <td>0.527573</td>\n",
       "      <td>-0.010714</td>\n",
       "      <td>10566324</td>\n",
       "      <td>ELECTRONIC STABILITY CONTROL</td>\n",
       "      <td>0.039702</td>\n",
       "      <td>34</td>\n",
       "    </tr>\n",
       "    <tr>\n",
       "      <th>3</th>\n",
       "      <td>1042648</td>\n",
       "      <td>-0.004839</td>\n",
       "      <td>-0.373360</td>\n",
       "      <td>0.754713</td>\n",
       "      <td>0.272901</td>\n",
       "      <td>-0.322312</td>\n",
       "      <td>-0.197168</td>\n",
       "      <td>-0.312100</td>\n",
       "      <td>-0.187853</td>\n",
       "      <td>0.207566</td>\n",
       "      <td>...</td>\n",
       "      <td>0.263224</td>\n",
       "      <td>0.265058</td>\n",
       "      <td>-0.487920</td>\n",
       "      <td>-0.005418</td>\n",
       "      <td>0.052286</td>\n",
       "      <td>0.071508</td>\n",
       "      <td>10566324</td>\n",
       "      <td>SERVICE BRAKES</td>\n",
       "      <td>0.029777</td>\n",
       "      <td>34</td>\n",
       "    </tr>\n",
       "    <tr>\n",
       "      <th>4</th>\n",
       "      <td>1042648</td>\n",
       "      <td>-0.004839</td>\n",
       "      <td>-0.373360</td>\n",
       "      <td>0.754713</td>\n",
       "      <td>0.272901</td>\n",
       "      <td>-0.322312</td>\n",
       "      <td>-0.197168</td>\n",
       "      <td>-0.312100</td>\n",
       "      <td>-0.187853</td>\n",
       "      <td>0.207566</td>\n",
       "      <td>...</td>\n",
       "      <td>0.263224</td>\n",
       "      <td>0.265058</td>\n",
       "      <td>-0.487920</td>\n",
       "      <td>-0.005418</td>\n",
       "      <td>0.052286</td>\n",
       "      <td>0.071508</td>\n",
       "      <td>10566324</td>\n",
       "      <td>SERVICE BRAKES</td>\n",
       "      <td>0.029777</td>\n",
       "      <td>34</td>\n",
       "    </tr>\n",
       "  </tbody>\n",
       "</table>\n",
       "<p>5 rows × 105 columns</p>\n",
       "</div>"
      ],
      "text/plain": [
       "    CMPLID         1         2         3         4         5         6  \\\n",
       "0  1042649  0.118763  0.544907 -0.102826 -1.201483 -0.378267 -0.281807   \n",
       "1  1042649  0.118763  0.544907 -0.102826 -1.201483 -0.378267 -0.281807   \n",
       "2  1042649  0.118763  0.544907 -0.102826 -1.201483 -0.378267 -0.281807   \n",
       "3  1042648 -0.004839 -0.373360  0.754713  0.272901 -0.322312 -0.197168   \n",
       "4  1042648 -0.004839 -0.373360  0.754713  0.272901 -0.322312 -0.197168   \n",
       "\n",
       "          7         8         9 ...        95        96        97        98  \\\n",
       "0  0.224272 -0.264937 -0.170182 ... -0.187273 -0.234017 -0.043267  0.398510   \n",
       "1  0.224272 -0.264937 -0.170182 ... -0.187273 -0.234017 -0.043267  0.398510   \n",
       "2  0.224272 -0.264937 -0.170182 ... -0.187273 -0.234017 -0.043267  0.398510   \n",
       "3 -0.312100 -0.187853  0.207566 ...  0.263224  0.265058 -0.487920 -0.005418   \n",
       "4 -0.312100 -0.187853  0.207566 ...  0.263224  0.265058 -0.487920 -0.005418   \n",
       "\n",
       "         99       100     ODINO                      COMPDESC  comp_desc_id  \\\n",
       "0  0.527573 -0.010714  10566324  ELECTRONIC STABILITY CONTROL      0.039702   \n",
       "1  0.527573 -0.010714  10566324  ELECTRONIC STABILITY CONTROL      0.039702   \n",
       "2  0.527573 -0.010714  10566324  ELECTRONIC STABILITY CONTROL      0.039702   \n",
       "3  0.052286  0.071508  10566324                SERVICE BRAKES      0.029777   \n",
       "4  0.052286  0.071508  10566324                SERVICE BRAKES      0.029777   \n",
       "\n",
       "   L1  \n",
       "0  34  \n",
       "1  34  \n",
       "2  34  \n",
       "3  34  \n",
       "4  34  \n",
       "\n",
       "[5 rows x 105 columns]"
      ]
     },
     "execution_count": 128,
     "metadata": {},
     "output_type": "execute_result"
    }
   ],
   "source": [
    "train_L1.head()"
   ]
  },
  {
   "cell_type": "code",
   "execution_count": 129,
   "metadata": {
    "collapsed": false
   },
   "outputs": [
    {
     "data": {
      "text/plain": [
       "10245"
      ]
     },
     "execution_count": 129,
     "metadata": {},
     "output_type": "execute_result"
    }
   ],
   "source": [
    "#https://chrisalbon.com/python/pandas_list_unique_values_in_column.html\n",
    "len(train_L1.ODINO.unique() )"
   ]
  },
  {
   "cell_type": "code",
   "execution_count": null,
   "metadata": {
    "collapsed": true
   },
   "outputs": [],
   "source": []
  },
  {
   "cell_type": "code",
   "execution_count": 130,
   "metadata": {
    "collapsed": false
   },
   "outputs": [
    {
     "data": {
      "text/plain": [
       "16547"
      ]
     },
     "execution_count": 130,
     "metadata": {},
     "output_type": "execute_result"
    }
   ],
   "source": [
    "len(train_L1)"
   ]
  },
  {
   "cell_type": "markdown",
   "metadata": {
    "collapsed": true
   },
   "source": [
    "### remove useless columns\n",
    "\n"
   ]
  },
  {
   "cell_type": "code",
   "execution_count": 131,
   "metadata": {
    "collapsed": false
   },
   "outputs": [],
   "source": [
    "# http://stackoverflow.com/a/18145399/2674061\n",
    "train_L1 = train_L1.drop(\"CMPLID\",1)\n",
    "train_L1 = train_L1.drop(\"ODINO\",1)\n",
    "train_L1 = train_L1.drop(\"COMPDESC\",1)\n"
   ]
  },
  {
   "cell_type": "code",
   "execution_count": 72,
   "metadata": {
    "collapsed": false
   },
   "outputs": [
    {
     "data": {
      "text/plain": [
       "Index([             1,              2,              3,              4,\n",
       "                    5,              6,              7,              8,\n",
       "                    9,             10,\n",
       "       ...\n",
       "                   93,             94,             95,             96,\n",
       "                   97,             98,             99,            100,\n",
       "       'comp_desc_id',           'L1'],\n",
       "      dtype='object', length=102)"
      ]
     },
     "execution_count": 72,
     "metadata": {},
     "output_type": "execute_result"
    }
   ],
   "source": [
    "train_L1.columns"
   ]
  },
  {
   "cell_type": "code",
   "execution_count": 132,
   "metadata": {
    "collapsed": false
   },
   "outputs": [
    {
     "data": {
      "text/html": [
       "<div>\n",
       "<table border=\"1\" class=\"dataframe\">\n",
       "  <thead>\n",
       "    <tr style=\"text-align: right;\">\n",
       "      <th></th>\n",
       "      <th>1</th>\n",
       "      <th>2</th>\n",
       "      <th>3</th>\n",
       "      <th>4</th>\n",
       "      <th>5</th>\n",
       "      <th>6</th>\n",
       "      <th>7</th>\n",
       "      <th>8</th>\n",
       "      <th>9</th>\n",
       "      <th>10</th>\n",
       "      <th>...</th>\n",
       "      <th>93</th>\n",
       "      <th>94</th>\n",
       "      <th>95</th>\n",
       "      <th>96</th>\n",
       "      <th>97</th>\n",
       "      <th>98</th>\n",
       "      <th>99</th>\n",
       "      <th>100</th>\n",
       "      <th>comp_desc_id</th>\n",
       "      <th>L1</th>\n",
       "    </tr>\n",
       "  </thead>\n",
       "  <tbody>\n",
       "    <tr>\n",
       "      <th>0</th>\n",
       "      <td>0.118763</td>\n",
       "      <td>0.544907</td>\n",
       "      <td>-0.102826</td>\n",
       "      <td>-1.201483</td>\n",
       "      <td>-0.378267</td>\n",
       "      <td>-0.281807</td>\n",
       "      <td>0.224272</td>\n",
       "      <td>-0.264937</td>\n",
       "      <td>-0.170182</td>\n",
       "      <td>-0.494990</td>\n",
       "      <td>...</td>\n",
       "      <td>-0.280367</td>\n",
       "      <td>-0.090935</td>\n",
       "      <td>-0.187273</td>\n",
       "      <td>-0.234017</td>\n",
       "      <td>-0.043267</td>\n",
       "      <td>0.398510</td>\n",
       "      <td>0.527573</td>\n",
       "      <td>-0.010714</td>\n",
       "      <td>0.039702</td>\n",
       "      <td>34</td>\n",
       "    </tr>\n",
       "    <tr>\n",
       "      <th>1</th>\n",
       "      <td>0.118763</td>\n",
       "      <td>0.544907</td>\n",
       "      <td>-0.102826</td>\n",
       "      <td>-1.201483</td>\n",
       "      <td>-0.378267</td>\n",
       "      <td>-0.281807</td>\n",
       "      <td>0.224272</td>\n",
       "      <td>-0.264937</td>\n",
       "      <td>-0.170182</td>\n",
       "      <td>-0.494990</td>\n",
       "      <td>...</td>\n",
       "      <td>-0.280367</td>\n",
       "      <td>-0.090935</td>\n",
       "      <td>-0.187273</td>\n",
       "      <td>-0.234017</td>\n",
       "      <td>-0.043267</td>\n",
       "      <td>0.398510</td>\n",
       "      <td>0.527573</td>\n",
       "      <td>-0.010714</td>\n",
       "      <td>0.039702</td>\n",
       "      <td>34</td>\n",
       "    </tr>\n",
       "    <tr>\n",
       "      <th>2</th>\n",
       "      <td>0.118763</td>\n",
       "      <td>0.544907</td>\n",
       "      <td>-0.102826</td>\n",
       "      <td>-1.201483</td>\n",
       "      <td>-0.378267</td>\n",
       "      <td>-0.281807</td>\n",
       "      <td>0.224272</td>\n",
       "      <td>-0.264937</td>\n",
       "      <td>-0.170182</td>\n",
       "      <td>-0.494990</td>\n",
       "      <td>...</td>\n",
       "      <td>-0.280367</td>\n",
       "      <td>-0.090935</td>\n",
       "      <td>-0.187273</td>\n",
       "      <td>-0.234017</td>\n",
       "      <td>-0.043267</td>\n",
       "      <td>0.398510</td>\n",
       "      <td>0.527573</td>\n",
       "      <td>-0.010714</td>\n",
       "      <td>0.039702</td>\n",
       "      <td>34</td>\n",
       "    </tr>\n",
       "    <tr>\n",
       "      <th>3</th>\n",
       "      <td>-0.004839</td>\n",
       "      <td>-0.373360</td>\n",
       "      <td>0.754713</td>\n",
       "      <td>0.272901</td>\n",
       "      <td>-0.322312</td>\n",
       "      <td>-0.197168</td>\n",
       "      <td>-0.312100</td>\n",
       "      <td>-0.187853</td>\n",
       "      <td>0.207566</td>\n",
       "      <td>0.686602</td>\n",
       "      <td>...</td>\n",
       "      <td>-1.271248</td>\n",
       "      <td>-0.215866</td>\n",
       "      <td>0.263224</td>\n",
       "      <td>0.265058</td>\n",
       "      <td>-0.487920</td>\n",
       "      <td>-0.005418</td>\n",
       "      <td>0.052286</td>\n",
       "      <td>0.071508</td>\n",
       "      <td>0.029777</td>\n",
       "      <td>34</td>\n",
       "    </tr>\n",
       "    <tr>\n",
       "      <th>4</th>\n",
       "      <td>-0.004839</td>\n",
       "      <td>-0.373360</td>\n",
       "      <td>0.754713</td>\n",
       "      <td>0.272901</td>\n",
       "      <td>-0.322312</td>\n",
       "      <td>-0.197168</td>\n",
       "      <td>-0.312100</td>\n",
       "      <td>-0.187853</td>\n",
       "      <td>0.207566</td>\n",
       "      <td>0.686602</td>\n",
       "      <td>...</td>\n",
       "      <td>-1.271248</td>\n",
       "      <td>-0.215866</td>\n",
       "      <td>0.263224</td>\n",
       "      <td>0.265058</td>\n",
       "      <td>-0.487920</td>\n",
       "      <td>-0.005418</td>\n",
       "      <td>0.052286</td>\n",
       "      <td>0.071508</td>\n",
       "      <td>0.029777</td>\n",
       "      <td>34</td>\n",
       "    </tr>\n",
       "  </tbody>\n",
       "</table>\n",
       "<p>5 rows × 102 columns</p>\n",
       "</div>"
      ],
      "text/plain": [
       "          1         2         3         4         5         6         7  \\\n",
       "0  0.118763  0.544907 -0.102826 -1.201483 -0.378267 -0.281807  0.224272   \n",
       "1  0.118763  0.544907 -0.102826 -1.201483 -0.378267 -0.281807  0.224272   \n",
       "2  0.118763  0.544907 -0.102826 -1.201483 -0.378267 -0.281807  0.224272   \n",
       "3 -0.004839 -0.373360  0.754713  0.272901 -0.322312 -0.197168 -0.312100   \n",
       "4 -0.004839 -0.373360  0.754713  0.272901 -0.322312 -0.197168 -0.312100   \n",
       "\n",
       "          8         9        10 ...        93        94        95        96  \\\n",
       "0 -0.264937 -0.170182 -0.494990 ... -0.280367 -0.090935 -0.187273 -0.234017   \n",
       "1 -0.264937 -0.170182 -0.494990 ... -0.280367 -0.090935 -0.187273 -0.234017   \n",
       "2 -0.264937 -0.170182 -0.494990 ... -0.280367 -0.090935 -0.187273 -0.234017   \n",
       "3 -0.187853  0.207566  0.686602 ... -1.271248 -0.215866  0.263224  0.265058   \n",
       "4 -0.187853  0.207566  0.686602 ... -1.271248 -0.215866  0.263224  0.265058   \n",
       "\n",
       "         97        98        99       100  comp_desc_id  L1  \n",
       "0 -0.043267  0.398510  0.527573 -0.010714      0.039702  34  \n",
       "1 -0.043267  0.398510  0.527573 -0.010714      0.039702  34  \n",
       "2 -0.043267  0.398510  0.527573 -0.010714      0.039702  34  \n",
       "3 -0.487920 -0.005418  0.052286  0.071508      0.029777  34  \n",
       "4 -0.487920 -0.005418  0.052286  0.071508      0.029777  34  \n",
       "\n",
       "[5 rows x 102 columns]"
      ]
     },
     "execution_count": 132,
     "metadata": {},
     "output_type": "execute_result"
    }
   ],
   "source": [
    "train_L1.head()"
   ]
  },
  {
   "cell_type": "code",
   "execution_count": 133,
   "metadata": {
    "collapsed": false
   },
   "outputs": [
    {
     "data": {
      "text/plain": [
       "16547"
      ]
     },
     "execution_count": 133,
     "metadata": {},
     "output_type": "execute_result"
    }
   ],
   "source": [
    "len(train_L1)"
   ]
  },
  {
   "cell_type": "code",
   "execution_count": 134,
   "metadata": {
    "collapsed": false,
    "scrolled": false
   },
   "outputs": [
    {
     "data": {
      "text/plain": [
       "Index([             1,              2,              3,              4,\n",
       "                    5,              6,              7,              8,\n",
       "                    9,             10,\n",
       "       ...\n",
       "                   92,             93,             94,             95,\n",
       "                   96,             97,             98,             99,\n",
       "                  100, 'comp_desc_id'],\n",
       "      dtype='object', length=101)"
      ]
     },
     "execution_count": 134,
     "metadata": {},
     "output_type": "execute_result"
    }
   ],
   "source": [
    "train_L1_data=train_L1\n",
    "train_L1_data=train_L1_data.drop(\"L1\",1)\n",
    "train_L1_data.columns"
   ]
  },
  {
   "cell_type": "code",
   "execution_count": 238,
   "metadata": {
    "collapsed": true
   },
   "outputs": [],
   "source": [
    "real_lbl=train_L1['L1']"
   ]
  },
  {
   "cell_type": "code",
   "execution_count": 239,
   "metadata": {
    "collapsed": false
   },
   "outputs": [
    {
     "data": {
      "text/plain": [
       "0    34\n",
       "1    34\n",
       "2    34\n",
       "3    34\n",
       "4    34\n",
       "Name: L1, dtype: object"
      ]
     },
     "execution_count": 239,
     "metadata": {},
     "output_type": "execute_result"
    }
   ],
   "source": [
    "real_lbl.head()"
   ]
  },
  {
   "cell_type": "code",
   "execution_count": 248,
   "metadata": {
    "collapsed": true
   },
   "outputs": [],
   "source": [
    "unique_l1=train_L1['L1'].value_counts().index[:]"
   ]
  },
  {
   "cell_type": "code",
   "execution_count": 250,
   "metadata": {
    "collapsed": false
   },
   "outputs": [
    {
     "data": {
      "text/plain": [
       "Index(['65', '00013', '01913', '32', '11', '72', '51', '01930', '01947', '61',\n",
       "       '36', '16', '62', '34', '63', '13', '17838', '33', '46', '64', '24',\n",
       "       '41', '31', '12', '22', '27', '17', '54', '25', '01923', '23', '18',\n",
       "       '52', '66', '02069', '01364', '02093', '37', '01925', '35', '01533',\n",
       "       '02288', '26', '01892', '71', '76', '82', '21', '83'],\n",
       "      dtype='object')"
      ]
     },
     "execution_count": 250,
     "metadata": {},
     "output_type": "execute_result"
    }
   ],
   "source": [
    "unique_l1"
   ]
  },
  {
   "cell_type": "code",
   "execution_count": 231,
   "metadata": {
    "collapsed": false
   },
   "outputs": [
    {
     "data": {
      "text/plain": [
       "337.6938775510204"
      ]
     },
     "execution_count": 231,
     "metadata": {},
     "output_type": "execute_result"
    }
   ],
   "source": [
    "train_L1['L1'].value_counts().mean()"
   ]
  },
  {
   "cell_type": "code",
   "execution_count": 233,
   "metadata": {
    "collapsed": false
   },
   "outputs": [
    {
     "data": {
      "text/plain": [
       "str"
      ]
     },
     "execution_count": 233,
     "metadata": {},
     "output_type": "execute_result"
    }
   ],
   "source": [
    "type(unique_l1)\n"
   ]
  },
  {
   "cell_type": "code",
   "execution_count": 251,
   "metadata": {
    "collapsed": false
   },
   "outputs": [
    {
     "name": "stdout",
     "output_type": "stream",
     "text": [
      "0 65\n",
      "1 00013\n",
      "2 01913\n",
      "3 32\n",
      "4 11\n",
      "5 72\n",
      "6 51\n",
      "7 01930\n",
      "8 01947\n",
      "9 61\n",
      "10 36\n",
      "11 16\n",
      "12 62\n",
      "13 34\n",
      "14 63\n",
      "15 13\n",
      "16 17838\n",
      "17 33\n",
      "18 46\n",
      "19 64\n",
      "20 24\n",
      "21 41\n",
      "22 31\n",
      "23 12\n",
      "24 22\n",
      "25 27\n",
      "26 17\n",
      "27 54\n",
      "28 25\n",
      "29 01923\n",
      "30 23\n",
      "31 18\n",
      "32 52\n",
      "33 66\n",
      "34 02069\n",
      "35 01364\n",
      "36 02093\n",
      "37 37\n",
      "38 01925\n",
      "39 35\n",
      "40 01533\n",
      "41 02288\n",
      "42 26\n",
      "43 01892\n",
      "44 71\n",
      "45 76\n",
      "46 82\n",
      "47 21\n",
      "48 83\n"
     ]
    }
   ],
   "source": [
    "train_lbls=[]\n",
    "for i,row in enumerate(unique_l1):\n",
    "    train_lbls.append([])\n",
    "    print(i,row)\n",
    "\n",
    "for i,org_lbl in enumerate(unique_l1):\n",
    "    for c_lbl in real_lbl:\n",
    "        if(c_lbl == org_lbl):   #the label we are interested for this class\n",
    "            train_lbls[i].append(1)\n",
    "        else:                        #other classes (majority class)\n",
    "            train_lbls[i].append(-1)\n",
    "    "
   ]
  },
  {
   "cell_type": "code",
   "execution_count": 252,
   "metadata": {
    "collapsed": false
   },
   "outputs": [
    {
     "data": {
      "text/plain": [
       "337.6938775510204"
      ]
     },
     "execution_count": 252,
     "metadata": {},
     "output_type": "execute_result"
    }
   ],
   "source": [
    "train_L1['L1'].value_counts().mean()"
   ]
  },
  {
   "cell_type": "code",
   "execution_count": 253,
   "metadata": {
    "collapsed": false
   },
   "outputs": [
    {
     "data": {
      "text/plain": [
       "669.8489321009139"
      ]
     },
     "execution_count": 253,
     "metadata": {},
     "output_type": "execute_result"
    }
   ],
   "source": [
    "train_L1['L1'].value_counts().std()"
   ]
  },
  {
   "cell_type": "code",
   "execution_count": null,
   "metadata": {
    "collapsed": true
   },
   "outputs": [],
   "source": []
  },
  {
   "cell_type": "code",
   "execution_count": null,
   "metadata": {
    "collapsed": true
   },
   "outputs": [],
   "source": []
  },
  {
   "cell_type": "code",
   "execution_count": 255,
   "metadata": {
    "collapsed": false
   },
   "outputs": [
    {
     "name": "stdout",
     "output_type": "stream",
     "text": [
      "i:0 ,len lbl[65]:16547, sum:-10103\n",
      "i:1 ,len lbl[00013]:16547, sum:-10835\n",
      "i:2 ,len lbl[01913]:16547, sum:-13477\n",
      "i:3 ,len lbl[32]:16547, sum:-13777\n",
      "i:4 ,len lbl[11]:16547, sum:-14201\n",
      "i:5 ,len lbl[72]:16547, sum:-14509\n",
      "i:6 ,len lbl[51]:16547, sum:-15177\n"
     ]
    }
   ],
   "source": [
    "for i,row in enumerate(unique_l1):\n",
    "    print('i:%d ,len lbl[%s]:%d, sum:%d' % (i, row, len(train_lbls[i]), sum(train_lbls[i])))\n",
    "    if(i>5): break\n"
   ]
  },
  {
   "cell_type": "markdown",
   "metadata": {
    "collapsed": true
   },
   "source": [
    "## save the file in petsc binary format"
   ]
  },
  {
   "cell_type": "code",
   "execution_count": 146,
   "metadata": {
    "collapsed": false
   },
   "outputs": [],
   "source": [
    "import sys\n",
    "from sys import argv,exit,path\n",
    "from os import environ\n",
    "import scipy.sparse\n",
    "import PetscBinaryIO\n",
    "from scipy import sparse\n"
   ]
  },
  {
   "cell_type": "code",
   "execution_count": 76,
   "metadata": {
    "collapsed": false
   },
   "outputs": [],
   "source": [
    "file_path='./'\n",
    "file_name='bmw_uniq_cmpl'"
   ]
  },
  {
   "cell_type": "code",
   "execution_count": 148,
   "metadata": {
    "collapsed": false
   },
   "outputs": [
    {
     "name": "stdout",
     "output_type": "stream",
     "text": [
      "<class 'scipy.sparse.csr.csr_matrix'>\n"
     ]
    }
   ],
   "source": [
    "tl1data=train_L1_data.as_matrix() #http://pandas.pydata.org/pandas-docs/stable/generated/pandas.DataFrame.as_matrix.html\n",
    "tl1data = sparse.csr_matrix(tl1data)\n",
    "print(type(tl1data))"
   ]
  },
  {
   "cell_type": "code",
   "execution_count": 151,
   "metadata": {
    "collapsed": false
   },
   "outputs": [
    {
     "name": "stdout",
     "output_type": "stream",
     "text": [
      "Outputing Data: ./bmw_uniq_cmpl_zsc_data.dat\n"
     ]
    }
   ],
   "source": [
    "try:\n",
    "    result_outputfile = file_path+ file_name + '_zsc_data.dat'\n",
    "    print('Outputing Data: '+ result_outputfile)\n",
    "    result_file = open(result_outputfile,'w')\n",
    "    PetscBinaryIO.PetscBinaryIO().writeMatSciPy(result_file, tl1data)\n",
    "except:\n",
    "    print(\"\\n\\nException in saving the result, error: %s\"% sys.exc_info()[0])\n",
    "        "
   ]
  },
  {
   "cell_type": "code",
   "execution_count": null,
   "metadata": {
    "collapsed": true
   },
   "outputs": [],
   "source": []
  },
  {
   "cell_type": "markdown",
   "metadata": {},
   "source": [
    "## write labels to file(they are sorted with desc order of minority class size)"
   ]
  },
  {
   "cell_type": "code",
   "execution_count": 261,
   "metadata": {
    "collapsed": false
   },
   "outputs": [
    {
     "name": "stdout",
     "output_type": "stream",
     "text": [
      "<class 'scipy.sparse.csr.csr_matrix'>\n"
     ]
    }
   ],
   "source": [
    "tl1_lbl = sparse.csr_matrix(train_lbls[0])\n",
    "print(type(tl1_lbl))"
   ]
  },
  {
   "cell_type": "code",
   "execution_count": null,
   "metadata": {
    "collapsed": true
   },
   "outputs": [],
   "source": []
  },
  {
   "cell_type": "code",
   "execution_count": 262,
   "metadata": {
    "collapsed": false
   },
   "outputs": [
    {
     "name": "stdout",
     "output_type": "stream",
     "text": [
      "Outputing Label: ./bmw_uniq_cmpl_label.dat\n"
     ]
    }
   ],
   "source": [
    "try:\n",
    "    result_outputfile = file_path+ file_name + '_label.dat'\n",
    "    print('Outputing Label: '+ result_outputfile)\n",
    "    result_file = open(result_outputfile,'w')\n",
    "    PetscBinaryIO.PetscBinaryIO().writeMatSciPy(result_file, tl1_lbl)\n",
    "except:\n",
    "    print(\"\\n\\nException in saving the result, error: %s\"% sys.exc_info()[0])\n",
    "        "
   ]
  },
  {
   "cell_type": "code",
   "execution_count": null,
   "metadata": {
    "collapsed": true
   },
   "outputs": [],
   "source": []
  },
  {
   "cell_type": "code",
   "execution_count": null,
   "metadata": {
    "collapsed": true
   },
   "outputs": [],
   "source": []
  }
 ],
 "metadata": {
  "kernelspec": {
   "display_name": "Python 3",
   "language": "python",
   "name": "python3"
  },
  "language_info": {
   "codemirror_mode": {
    "name": "ipython",
    "version": 3
   },
   "file_extension": ".py",
   "mimetype": "text/x-python",
   "name": "python",
   "nbconvert_exporter": "python",
   "pygments_lexer": "ipython3",
   "version": "3.5.1"
  }
 },
 "nbformat": 4,
 "nbformat_minor": 0
}
