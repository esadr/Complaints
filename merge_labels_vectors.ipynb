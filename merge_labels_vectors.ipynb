{
 "cells": [
  {
   "cell_type": "code",
   "execution_count": 1,
   "metadata": {
    "collapsed": false
   },
   "outputs": [],
   "source": [
    "import pandas as pd\n"
   ]
  },
  {
   "cell_type": "markdown",
   "metadata": {},
   "source": [
    "## Read the vectors (centeroid) from Topmine->FastText->word2vec in 100 dimension"
   ]
  },
  {
   "cell_type": "code",
   "execution_count": 59,
   "metadata": {
    "collapsed": true
   },
   "outputs": [],
   "source": [
    "chunks=pd.read_table('./vectors.txt',chunksize=10000,sep=' ', header=None, index_col=False) #read it in chunks http://stackoverflow.com/a/26017289/2674061"
   ]
  },
  {
   "cell_type": "markdown",
   "metadata": {},
   "source": [
    "merge chunks"
   ]
  },
  {
   "cell_type": "code",
   "execution_count": 60,
   "metadata": {
    "collapsed": false
   },
   "outputs": [],
   "source": [
    "df=pd.DataFrame()\n",
    "df=pd.concat(chunks)"
   ]
  },
  {
   "cell_type": "code",
   "execution_count": 61,
   "metadata": {
    "collapsed": false
   },
   "outputs": [
    {
     "data": {
      "text/html": [
       "<div>\n",
       "<table border=\"1\" class=\"dataframe\">\n",
       "  <thead>\n",
       "    <tr style=\"text-align: right;\">\n",
       "      <th></th>\n",
       "      <th>0</th>\n",
       "      <th>1</th>\n",
       "      <th>2</th>\n",
       "      <th>3</th>\n",
       "      <th>4</th>\n",
       "      <th>5</th>\n",
       "      <th>6</th>\n",
       "      <th>7</th>\n",
       "      <th>8</th>\n",
       "      <th>9</th>\n",
       "      <th>...</th>\n",
       "      <th>91</th>\n",
       "      <th>92</th>\n",
       "      <th>93</th>\n",
       "      <th>94</th>\n",
       "      <th>95</th>\n",
       "      <th>96</th>\n",
       "      <th>97</th>\n",
       "      <th>98</th>\n",
       "      <th>99</th>\n",
       "      <th>100</th>\n",
       "    </tr>\n",
       "  </thead>\n",
       "  <tbody>\n",
       "    <tr>\n",
       "      <th>0</th>\n",
       "      <td>456748</td>\n",
       "      <td>0.000000</td>\n",
       "      <td>0.000000</td>\n",
       "      <td>0.000000</td>\n",
       "      <td>0.000000</td>\n",
       "      <td>0.000000</td>\n",
       "      <td>0.000000</td>\n",
       "      <td>0.000000</td>\n",
       "      <td>0.000000</td>\n",
       "      <td>0.000000</td>\n",
       "      <td>...</td>\n",
       "      <td>0.000000</td>\n",
       "      <td>0.000000</td>\n",
       "      <td>0.000000</td>\n",
       "      <td>0.000000</td>\n",
       "      <td>0.000000</td>\n",
       "      <td>0.000000</td>\n",
       "      <td>0.000000</td>\n",
       "      <td>0.000000</td>\n",
       "      <td>0.000000</td>\n",
       "      <td>0.000000</td>\n",
       "    </tr>\n",
       "    <tr>\n",
       "      <th>1</th>\n",
       "      <td>385661</td>\n",
       "      <td>0.000000</td>\n",
       "      <td>0.000000</td>\n",
       "      <td>0.000000</td>\n",
       "      <td>0.000000</td>\n",
       "      <td>0.000000</td>\n",
       "      <td>0.000000</td>\n",
       "      <td>0.000000</td>\n",
       "      <td>0.000000</td>\n",
       "      <td>0.000000</td>\n",
       "      <td>...</td>\n",
       "      <td>0.000000</td>\n",
       "      <td>0.000000</td>\n",
       "      <td>0.000000</td>\n",
       "      <td>0.000000</td>\n",
       "      <td>0.000000</td>\n",
       "      <td>0.000000</td>\n",
       "      <td>0.000000</td>\n",
       "      <td>0.000000</td>\n",
       "      <td>0.000000</td>\n",
       "      <td>0.000000</td>\n",
       "    </tr>\n",
       "    <tr>\n",
       "      <th>2</th>\n",
       "      <td>376859</td>\n",
       "      <td>0.000000</td>\n",
       "      <td>0.000000</td>\n",
       "      <td>0.000000</td>\n",
       "      <td>0.000000</td>\n",
       "      <td>0.000000</td>\n",
       "      <td>0.000000</td>\n",
       "      <td>0.000000</td>\n",
       "      <td>0.000000</td>\n",
       "      <td>0.000000</td>\n",
       "      <td>...</td>\n",
       "      <td>0.000000</td>\n",
       "      <td>0.000000</td>\n",
       "      <td>0.000000</td>\n",
       "      <td>0.000000</td>\n",
       "      <td>0.000000</td>\n",
       "      <td>0.000000</td>\n",
       "      <td>0.000000</td>\n",
       "      <td>0.000000</td>\n",
       "      <td>0.000000</td>\n",
       "      <td>0.000000</td>\n",
       "    </tr>\n",
       "    <tr>\n",
       "      <th>3</th>\n",
       "      <td>186229</td>\n",
       "      <td>0.000000</td>\n",
       "      <td>0.000000</td>\n",
       "      <td>0.000000</td>\n",
       "      <td>0.000000</td>\n",
       "      <td>0.000000</td>\n",
       "      <td>0.000000</td>\n",
       "      <td>0.000000</td>\n",
       "      <td>0.000000</td>\n",
       "      <td>0.000000</td>\n",
       "      <td>...</td>\n",
       "      <td>0.000000</td>\n",
       "      <td>0.000000</td>\n",
       "      <td>0.000000</td>\n",
       "      <td>0.000000</td>\n",
       "      <td>0.000000</td>\n",
       "      <td>0.000000</td>\n",
       "      <td>0.000000</td>\n",
       "      <td>0.000000</td>\n",
       "      <td>0.000000</td>\n",
       "      <td>0.000000</td>\n",
       "    </tr>\n",
       "    <tr>\n",
       "      <th>4</th>\n",
       "      <td>114446</td>\n",
       "      <td>0.279541</td>\n",
       "      <td>0.263423</td>\n",
       "      <td>0.104596</td>\n",
       "      <td>-0.395094</td>\n",
       "      <td>-0.547253</td>\n",
       "      <td>-0.178229</td>\n",
       "      <td>-0.282684</td>\n",
       "      <td>-0.292041</td>\n",
       "      <td>0.177561</td>\n",
       "      <td>...</td>\n",
       "      <td>-0.015873</td>\n",
       "      <td>-0.047978</td>\n",
       "      <td>-0.555125</td>\n",
       "      <td>-0.042998</td>\n",
       "      <td>0.146759</td>\n",
       "      <td>0.266276</td>\n",
       "      <td>-0.079415</td>\n",
       "      <td>0.361403</td>\n",
       "      <td>-0.167115</td>\n",
       "      <td>-0.023925</td>\n",
       "    </tr>\n",
       "  </tbody>\n",
       "</table>\n",
       "<p>5 rows × 101 columns</p>\n",
       "</div>"
      ],
      "text/plain": [
       "      0         1         2         3         4         5         6    \\\n",
       "0  456748  0.000000  0.000000  0.000000  0.000000  0.000000  0.000000   \n",
       "1  385661  0.000000  0.000000  0.000000  0.000000  0.000000  0.000000   \n",
       "2  376859  0.000000  0.000000  0.000000  0.000000  0.000000  0.000000   \n",
       "3  186229  0.000000  0.000000  0.000000  0.000000  0.000000  0.000000   \n",
       "4  114446  0.279541  0.263423  0.104596 -0.395094 -0.547253 -0.178229   \n",
       "\n",
       "        7         8         9      ...          91        92        93   \\\n",
       "0  0.000000  0.000000  0.000000    ...     0.000000  0.000000  0.000000   \n",
       "1  0.000000  0.000000  0.000000    ...     0.000000  0.000000  0.000000   \n",
       "2  0.000000  0.000000  0.000000    ...     0.000000  0.000000  0.000000   \n",
       "3  0.000000  0.000000  0.000000    ...     0.000000  0.000000  0.000000   \n",
       "4 -0.282684 -0.292041  0.177561    ...    -0.015873 -0.047978 -0.555125   \n",
       "\n",
       "        94        95        96        97        98        99        100  \n",
       "0  0.000000  0.000000  0.000000  0.000000  0.000000  0.000000  0.000000  \n",
       "1  0.000000  0.000000  0.000000  0.000000  0.000000  0.000000  0.000000  \n",
       "2  0.000000  0.000000  0.000000  0.000000  0.000000  0.000000  0.000000  \n",
       "3  0.000000  0.000000  0.000000  0.000000  0.000000  0.000000  0.000000  \n",
       "4 -0.042998  0.146759  0.266276 -0.079415  0.361403 -0.167115 -0.023925  \n",
       "\n",
       "[5 rows x 101 columns]"
      ]
     },
     "execution_count": 61,
     "metadata": {},
     "output_type": "execute_result"
    }
   ],
   "source": [
    "df.head()"
   ]
  },
  {
   "cell_type": "code",
   "execution_count": 62,
   "metadata": {
    "collapsed": false
   },
   "outputs": [
    {
     "data": {
      "text/plain": [
       "1022180"
      ]
     },
     "execution_count": 62,
     "metadata": {},
     "output_type": "execute_result"
    }
   ],
   "source": [
    "len(df)"
   ]
  },
  {
   "cell_type": "code",
   "execution_count": 63,
   "metadata": {
    "collapsed": false
   },
   "outputs": [],
   "source": [
    "df.rename(columns = {0:'CMPLID'},inplace=True) #http://stackoverflow.com/a/19758398/2674061"
   ]
  },
  {
   "cell_type": "code",
   "execution_count": 64,
   "metadata": {
    "collapsed": false
   },
   "outputs": [
    {
     "data": {
      "text/plain": [
       "Index(['CMPLID',        1,        2,        3,        4,        5,        6,\n",
       "              7,        8,        9,\n",
       "       ...\n",
       "             91,       92,       93,       94,       95,       96,       97,\n",
       "             98,       99,      100],\n",
       "      dtype='object', length=101)"
      ]
     },
     "execution_count": 64,
     "metadata": {},
     "output_type": "execute_result"
    }
   ],
   "source": [
    "df.columns\n"
   ]
  },
  {
   "cell_type": "markdown",
   "metadata": {
    "collapsed": true
   },
   "source": [
    "## add the ODINO column to vectors"
   ]
  },
  {
   "cell_type": "code",
   "execution_count": 35,
   "metadata": {
    "collapsed": true
   },
   "outputs": [],
   "source": [
    "import pandas as pd\n",
    "import numpy as np\n",
    "# alldata = pd.read_csv('./FLAT_CMPL.txt', sep='\\t',index_col=False, low_memory=False, encoding = \"ISO-8859-1\", error_bad_lines=False, names = [\"CMPLID\",\"ODINO\",\"MFR_NAME\",\"MAKETXT\",\"MODELTXT\",\"YEARTXT\",\"CRASH\",\"FAILDATE\",\"FIRE\",\"INJURED\",\"DEATHS\",\"COMPDESC\",\"CITY\",\"STATE\",\"VIN\",\"DATEA\",\"LDATE\",\"MILES\",\"OCCURENCES\",\"CDESCR\",\"CMPL_TYPE\",\"POLICE_RPT_YN\",\"PURCH_DT\",\"ORIG_OWNER_YN\",\"ANTI_BRAKES_YN\",\"CRUISE_CONT_YN\",\"NUM_CYLS\",\"DRIVE_TRAIN\",\"FUEL_SYS\",\"FUEL_TYPE\",\"TRANS_TYPE\",\"VEH_SPEED\",\"DOT\",\"TIRE_SIZE\",\"LOC_OF_TIRE\",\"TIRE_FAIL_TYPE\",\"ORIG_EQUIP_YN\",\"MANUF_DT\",\"SEAT_TYPE\",\"RESTRAINT_TYPE\",\"DEALER_NAME\",\"DEALER_TEL\",\"DEALER_CITY\",\"DEALER_STATE\",\"DEALER_ZIP\",\"PROD_TYPE\",\"REPAIRED_YN\",\"MEDICAL_ATTN\",\"VEHICLES_TOWED_YN\"],dtype={'ODINO':np.int32})\n",
    "alldata = pd.read_table('./FLAT_CMPL.txt', sep='\\t',index_col=False, low_memory=False, encoding = \"ISO-8859-1\", error_bad_lines=False, names = [\"CMPLID\",\"ODINO\",\"MFR_NAME\",\"MAKETXT\",\"MODELTXT\",\"YEARTXT\",\"CRASH\",\"FAILDATE\",\"FIRE\",\"INJURED\",\"DEATHS\",\"COMPDESC\",\"CITY\",\"STATE\",\"VIN\",\"DATEA\",\"LDATE\",\"MILES\",\"OCCURENCES\",\"CDESCR\",\"CMPL_TYPE\",\"POLICE_RPT_YN\",\"PURCH_DT\",\"ORIG_OWNER_YN\",\"ANTI_BRAKES_YN\",\"CRUISE_CONT_YN\",\"NUM_CYLS\",\"DRIVE_TRAIN\",\"FUEL_SYS\",\"FUEL_TYPE\",\"TRANS_TYPE\",\"VEH_SPEED\",\"DOT\",\"TIRE_SIZE\",\"LOC_OF_TIRE\",\"TIRE_FAIL_TYPE\",\"ORIG_EQUIP_YN\",\"MANUF_DT\",\"SEAT_TYPE\",\"RESTRAINT_TYPE\",\"DEALER_NAME\",\"DEALER_TEL\",\"DEALER_CITY\",\"DEALER_STATE\",\"DEALER_ZIP\",\"PROD_TYPE\",\"REPAIRED_YN\",\"MEDICAL_ATTN\",\"VEHICLES_TOWED_YN\"],dtype={'ODINO':np.int32})"
   ]
  },
  {
   "cell_type": "code",
   "execution_count": 55,
   "metadata": {
    "collapsed": true
   },
   "outputs": [],
   "source": [
    "cmp_keys=alldata.filter(items=['CMPLID', 'ODINO','COMPDESC']) #http://pandas.pydata.org/pandas-docs/stable/generated/pandas.DataFrame.filter.html"
   ]
  },
  {
   "cell_type": "code",
   "execution_count": 56,
   "metadata": {
    "collapsed": false
   },
   "outputs": [
    {
     "data": {
      "text/plain": [
       "Index(['CMPLID', 'ODINO', 'COMPDESC'], dtype='object')"
      ]
     },
     "execution_count": 56,
     "metadata": {},
     "output_type": "execute_result"
    }
   ],
   "source": [
    "cmp_keys.columns"
   ]
  },
  {
   "cell_type": "code",
   "execution_count": 65,
   "metadata": {
    "collapsed": false
   },
   "outputs": [],
   "source": [
    "df=pd.merge(df,cmp_keys,on='CMPLID')"
   ]
  },
  {
   "cell_type": "code",
   "execution_count": 66,
   "metadata": {
    "collapsed": false
   },
   "outputs": [
    {
     "data": {
      "text/html": [
       "<div>\n",
       "<table border=\"1\" class=\"dataframe\">\n",
       "  <thead>\n",
       "    <tr style=\"text-align: right;\">\n",
       "      <th></th>\n",
       "      <th>CMPLID</th>\n",
       "      <th>1</th>\n",
       "      <th>2</th>\n",
       "      <th>3</th>\n",
       "      <th>4</th>\n",
       "      <th>5</th>\n",
       "      <th>6</th>\n",
       "      <th>7</th>\n",
       "      <th>8</th>\n",
       "      <th>9</th>\n",
       "      <th>...</th>\n",
       "      <th>93</th>\n",
       "      <th>94</th>\n",
       "      <th>95</th>\n",
       "      <th>96</th>\n",
       "      <th>97</th>\n",
       "      <th>98</th>\n",
       "      <th>99</th>\n",
       "      <th>100</th>\n",
       "      <th>ODINO</th>\n",
       "      <th>COMPDESC</th>\n",
       "    </tr>\n",
       "  </thead>\n",
       "  <tbody>\n",
       "    <tr>\n",
       "      <th>0</th>\n",
       "      <td>456748</td>\n",
       "      <td>0.000000</td>\n",
       "      <td>0.000000</td>\n",
       "      <td>0.000000</td>\n",
       "      <td>0.000000</td>\n",
       "      <td>0.000000</td>\n",
       "      <td>0.000000</td>\n",
       "      <td>0.000000</td>\n",
       "      <td>0.000000</td>\n",
       "      <td>0.000000</td>\n",
       "      <td>...</td>\n",
       "      <td>0.000000</td>\n",
       "      <td>0.000000</td>\n",
       "      <td>0.000000</td>\n",
       "      <td>0.000000</td>\n",
       "      <td>0.000000</td>\n",
       "      <td>0.000000</td>\n",
       "      <td>0.000000</td>\n",
       "      <td>0.000000</td>\n",
       "      <td>10053038</td>\n",
       "      <td>STEERING:RACK AND PINION</td>\n",
       "    </tr>\n",
       "    <tr>\n",
       "      <th>1</th>\n",
       "      <td>385661</td>\n",
       "      <td>0.000000</td>\n",
       "      <td>0.000000</td>\n",
       "      <td>0.000000</td>\n",
       "      <td>0.000000</td>\n",
       "      <td>0.000000</td>\n",
       "      <td>0.000000</td>\n",
       "      <td>0.000000</td>\n",
       "      <td>0.000000</td>\n",
       "      <td>0.000000</td>\n",
       "      <td>...</td>\n",
       "      <td>0.000000</td>\n",
       "      <td>0.000000</td>\n",
       "      <td>0.000000</td>\n",
       "      <td>0.000000</td>\n",
       "      <td>0.000000</td>\n",
       "      <td>0.000000</td>\n",
       "      <td>0.000000</td>\n",
       "      <td>0.000000</td>\n",
       "      <td>9007157</td>\n",
       "      <td>EXTERIOR LIGHTING:BRAKE LIGHTS</td>\n",
       "    </tr>\n",
       "    <tr>\n",
       "      <th>2</th>\n",
       "      <td>376859</td>\n",
       "      <td>0.000000</td>\n",
       "      <td>0.000000</td>\n",
       "      <td>0.000000</td>\n",
       "      <td>0.000000</td>\n",
       "      <td>0.000000</td>\n",
       "      <td>0.000000</td>\n",
       "      <td>0.000000</td>\n",
       "      <td>0.000000</td>\n",
       "      <td>0.000000</td>\n",
       "      <td>...</td>\n",
       "      <td>0.000000</td>\n",
       "      <td>0.000000</td>\n",
       "      <td>0.000000</td>\n",
       "      <td>0.000000</td>\n",
       "      <td>0.000000</td>\n",
       "      <td>0.000000</td>\n",
       "      <td>0.000000</td>\n",
       "      <td>0.000000</td>\n",
       "      <td>8016397</td>\n",
       "      <td>FUEL SYSTEM, OTHER:STORAGE</td>\n",
       "    </tr>\n",
       "    <tr>\n",
       "      <th>3</th>\n",
       "      <td>186229</td>\n",
       "      <td>0.000000</td>\n",
       "      <td>0.000000</td>\n",
       "      <td>0.000000</td>\n",
       "      <td>0.000000</td>\n",
       "      <td>0.000000</td>\n",
       "      <td>0.000000</td>\n",
       "      <td>0.000000</td>\n",
       "      <td>0.000000</td>\n",
       "      <td>0.000000</td>\n",
       "      <td>...</td>\n",
       "      <td>0.000000</td>\n",
       "      <td>0.000000</td>\n",
       "      <td>0.000000</td>\n",
       "      <td>0.000000</td>\n",
       "      <td>0.000000</td>\n",
       "      <td>0.000000</td>\n",
       "      <td>0.000000</td>\n",
       "      <td>0.000000</td>\n",
       "      <td>851553</td>\n",
       "      <td>VEHICLE SPEED CONTROL</td>\n",
       "    </tr>\n",
       "    <tr>\n",
       "      <th>4</th>\n",
       "      <td>114446</td>\n",
       "      <td>0.279541</td>\n",
       "      <td>0.263423</td>\n",
       "      <td>0.104596</td>\n",
       "      <td>-0.395094</td>\n",
       "      <td>-0.547253</td>\n",
       "      <td>-0.178229</td>\n",
       "      <td>-0.282684</td>\n",
       "      <td>-0.292041</td>\n",
       "      <td>0.177561</td>\n",
       "      <td>...</td>\n",
       "      <td>-0.555125</td>\n",
       "      <td>-0.042998</td>\n",
       "      <td>0.146759</td>\n",
       "      <td>0.266276</td>\n",
       "      <td>-0.079415</td>\n",
       "      <td>0.361403</td>\n",
       "      <td>-0.167115</td>\n",
       "      <td>-0.023925</td>\n",
       "      <td>528801</td>\n",
       "      <td>ENGINE AND ENGINE COOLING:ENGINE:GASOLINE</td>\n",
       "    </tr>\n",
       "  </tbody>\n",
       "</table>\n",
       "<p>5 rows × 103 columns</p>\n",
       "</div>"
      ],
      "text/plain": [
       "   CMPLID         1         2         3         4         5         6  \\\n",
       "0  456748  0.000000  0.000000  0.000000  0.000000  0.000000  0.000000   \n",
       "1  385661  0.000000  0.000000  0.000000  0.000000  0.000000  0.000000   \n",
       "2  376859  0.000000  0.000000  0.000000  0.000000  0.000000  0.000000   \n",
       "3  186229  0.000000  0.000000  0.000000  0.000000  0.000000  0.000000   \n",
       "4  114446  0.279541  0.263423  0.104596 -0.395094 -0.547253 -0.178229   \n",
       "\n",
       "          7         8         9                    ...                      \\\n",
       "0  0.000000  0.000000  0.000000                    ...                       \n",
       "1  0.000000  0.000000  0.000000                    ...                       \n",
       "2  0.000000  0.000000  0.000000                    ...                       \n",
       "3  0.000000  0.000000  0.000000                    ...                       \n",
       "4 -0.282684 -0.292041  0.177561                    ...                       \n",
       "\n",
       "         93        94        95        96        97        98        99  \\\n",
       "0  0.000000  0.000000  0.000000  0.000000  0.000000  0.000000  0.000000   \n",
       "1  0.000000  0.000000  0.000000  0.000000  0.000000  0.000000  0.000000   \n",
       "2  0.000000  0.000000  0.000000  0.000000  0.000000  0.000000  0.000000   \n",
       "3  0.000000  0.000000  0.000000  0.000000  0.000000  0.000000  0.000000   \n",
       "4 -0.555125 -0.042998  0.146759  0.266276 -0.079415  0.361403 -0.167115   \n",
       "\n",
       "        100     ODINO                                   COMPDESC  \n",
       "0  0.000000  10053038                   STEERING:RACK AND PINION  \n",
       "1  0.000000   9007157             EXTERIOR LIGHTING:BRAKE LIGHTS  \n",
       "2  0.000000   8016397                 FUEL SYSTEM, OTHER:STORAGE  \n",
       "3  0.000000    851553                      VEHICLE SPEED CONTROL  \n",
       "4 -0.023925    528801  ENGINE AND ENGINE COOLING:ENGINE:GASOLINE  \n",
       "\n",
       "[5 rows x 103 columns]"
      ]
     },
     "execution_count": 66,
     "metadata": {},
     "output_type": "execute_result"
    }
   ],
   "source": [
    "df.head()"
   ]
  },
  {
   "cell_type": "markdown",
   "metadata": {},
   "source": [
    "### convert the COMPDESC to numeric form"
   ]
  },
  {
   "cell_type": "code",
   "execution_count": null,
   "metadata": {
    "collapsed": true
   },
   "outputs": [],
   "source": []
  },
  {
   "cell_type": "code",
   "execution_count": 153,
   "metadata": {
    "collapsed": true
   },
   "outputs": [],
   "source": [
    "cmpdesc_unique=df.filter(items=['COMPDESC']) #http://pandas.pydata.org/pandas-docs/stable/generated/pandas.DataFrame.filter.html"
   ]
  },
  {
   "cell_type": "code",
   "execution_count": null,
   "metadata": {
    "collapsed": true
   },
   "outputs": [],
   "source": []
  },
  {
   "cell_type": "code",
   "execution_count": 212,
   "metadata": {
    "collapsed": true
   },
   "outputs": [],
   "source": [
    "cmpdesc_unique= cmpdesc_unique.COMPDESC.unique()"
   ]
  },
  {
   "cell_type": "code",
   "execution_count": 217,
   "metadata": {
    "collapsed": false
   },
   "outputs": [
    {
     "data": {
      "text/plain": [
       "numpy.ndarray"
      ]
     },
     "execution_count": 217,
     "metadata": {},
     "output_type": "execute_result"
    }
   ],
   "source": [
    "type(cmpdesc_unique)"
   ]
  },
  {
   "cell_type": "code",
   "execution_count": 218,
   "metadata": {
    "collapsed": false
   },
   "outputs": [
    {
     "data": {
      "text/plain": [
       "array(['EXTERIOR LIGHTING:BRAKE LIGHTS', 'FUEL SYSTEM, OTHER:STORAGE',\n",
       "       'VEHICLE SPEED CONTROL',\n",
       "       'ENGINE AND ENGINE COOLING:ENGINE:GASOLINE',\n",
       "       'POWER TRAIN:AUTOMATIC TRANSMISSION', 'TIRES', 'TIRES:TREAD/BELT',\n",
       "       'ENGINE AND ENGINE COOLING:ENGINE', 'SEAT BELTS:FRONT:WEBBING'], dtype=object)"
      ]
     },
     "execution_count": 218,
     "metadata": {},
     "output_type": "execute_result"
    }
   ],
   "source": [
    "cmpdesc_unique[1:10]"
   ]
  },
  {
   "cell_type": "code",
   "execution_count": null,
   "metadata": {
    "collapsed": true
   },
   "outputs": [],
   "source": []
  },
  {
   "cell_type": "code",
   "execution_count": 213,
   "metadata": {
    "collapsed": false
   },
   "outputs": [
    {
     "data": {
      "text/plain": [
       "409"
      ]
     },
     "execution_count": 213,
     "metadata": {},
     "output_type": "execute_result"
    }
   ],
   "source": [
    "len(cmpdesc_unique )"
   ]
  },
  {
   "cell_type": "code",
   "execution_count": 96,
   "metadata": {
    "collapsed": false
   },
   "outputs": [
    {
     "data": {
      "text/html": [
       "<div>\n",
       "<table border=\"1\" class=\"dataframe\">\n",
       "  <thead>\n",
       "    <tr style=\"text-align: right;\">\n",
       "      <th></th>\n",
       "      <th>COMPDESC</th>\n",
       "    </tr>\n",
       "  </thead>\n",
       "  <tbody>\n",
       "    <tr>\n",
       "      <th>0</th>\n",
       "      <td>STEERING:RACK AND PINION</td>\n",
       "    </tr>\n",
       "    <tr>\n",
       "      <th>1</th>\n",
       "      <td>EXTERIOR LIGHTING:BRAKE LIGHTS</td>\n",
       "    </tr>\n",
       "    <tr>\n",
       "      <th>2</th>\n",
       "      <td>FUEL SYSTEM, OTHER:STORAGE</td>\n",
       "    </tr>\n",
       "    <tr>\n",
       "      <th>3</th>\n",
       "      <td>VEHICLE SPEED CONTROL</td>\n",
       "    </tr>\n",
       "    <tr>\n",
       "      <th>4</th>\n",
       "      <td>ENGINE AND ENGINE COOLING:ENGINE:GASOLINE</td>\n",
       "    </tr>\n",
       "  </tbody>\n",
       "</table>\n",
       "</div>"
      ],
      "text/plain": [
       "                                    COMPDESC\n",
       "0                   STEERING:RACK AND PINION\n",
       "1             EXTERIOR LIGHTING:BRAKE LIGHTS\n",
       "2                 FUEL SYSTEM, OTHER:STORAGE\n",
       "3                      VEHICLE SPEED CONTROL\n",
       "4  ENGINE AND ENGINE COOLING:ENGINE:GASOLINE"
      ]
     },
     "execution_count": 96,
     "metadata": {},
     "output_type": "execute_result"
    }
   ],
   "source": [
    "\n",
    "cmpdesc_unique.head()"
   ]
  },
  {
   "cell_type": "markdown",
   "metadata": {},
   "source": [
    "### Below code for data frame, but later I unique the values which creates Series and below code is not required"
   ]
  },
  {
   "cell_type": "code",
   "execution_count": 219,
   "metadata": {
    "collapsed": false
   },
   "outputs": [
    {
     "data": {
      "text/plain": [
       "'\\ndic_cmp_desc={}\\nfor i, row in enumerate(cmpdesc_unique.values):\\n# #     idx=mapping_summary.index[i]\\n#     cmpdesc = str(row)[1:-1]\\n    cmpdesc = str(row)[2:-2]\\n#     dic_cmp_desc[str(cmpdesc)]=i\\n    dic_cmp_desc[cmpdesc]=i\\n#     print(type(cmpdesc),cmpdesc)\\n#     print(i,str(cmpdesc),dic_cmp_desc[str(cmpdesc)])\\n#     print(i,cmpdesc,dic_cmp_desc[cmpdesc])\\n#     if(i>10):\\n#         break\\n'"
      ]
     },
     "execution_count": 219,
     "metadata": {},
     "output_type": "execute_result"
    }
   ],
   "source": [
    "#code for using over data frame\n",
    "'''\n",
    "dic_cmp_desc={}\n",
    "for i, row in enumerate(cmpdesc_unique.values):\n",
    "# #     idx=mapping_summary.index[i]\n",
    "#     cmpdesc = str(row)[1:-1]\n",
    "    cmpdesc = str(row)[2:-2]\n",
    "#     dic_cmp_desc[str(cmpdesc)]=i\n",
    "    dic_cmp_desc[cmpdesc]=i\n",
    "#     print(type(cmpdesc),cmpdesc)\n",
    "#     print(i,str(cmpdesc),dic_cmp_desc[str(cmpdesc)])\n",
    "#     print(i,cmpdesc,dic_cmp_desc[cmpdesc])\n",
    "#     if(i>10):\n",
    "#         break\n",
    "'''"
   ]
  },
  {
   "cell_type": "code",
   "execution_count": 225,
   "metadata": {
    "collapsed": false
   },
   "outputs": [],
   "source": [
    "dic_cmp_desc={}\n",
    "for i, row in enumerate(cmpdesc_unique):\n",
    "#     print(i,row)\n",
    "#     cmpdesc = str(row)[2:-2]\n",
    "#     dic_cmp_desc[str(cmpdesc)]=i\n",
    "    dic_cmp_desc[row]=i\n",
    "#     print(type(cmpdesc),cmpdesc)\n",
    "#     print(i,str(cmpdesc),dic_cmp_desc[str(cmpdesc)])\n",
    "#     print(i,cmpdesc,dic_cmp_desc[cmpdesc])\n",
    "#     if(i>10):\n",
    "#         break"
   ]
  },
  {
   "cell_type": "code",
   "execution_count": 226,
   "metadata": {
    "collapsed": false
   },
   "outputs": [
    {
     "data": {
      "text/plain": [
       "409"
      ]
     },
     "execution_count": 226,
     "metadata": {},
     "output_type": "execute_result"
    }
   ],
   "source": [
    "len(dic_cmp_desc)"
   ]
  },
  {
   "cell_type": "code",
   "execution_count": null,
   "metadata": {
    "collapsed": true
   },
   "outputs": [],
   "source": []
  },
  {
   "cell_type": "code",
   "execution_count": 205,
   "metadata": {
    "collapsed": false
   },
   "outputs": [
    {
     "name": "stdout",
     "output_type": "stream",
     "text": [
      "0 STEERING:RACK AND PINION\n"
     ]
    }
   ],
   "source": [
    "for i, row in enumerate(dic_cmp_desc):\n",
    "    print(i,row)"
   ]
  },
  {
   "cell_type": "code",
   "execution_count": 203,
   "metadata": {
    "collapsed": false
   },
   "outputs": [
    {
     "name": "stdout",
     "output_type": "stream",
     "text": [
      "STEERING:RACK AND PINION\n"
     ]
    }
   ],
   "source": [
    "for x in dic_cmp_desc.keys():\n",
    "#     val = dic_cmp_desc[x]\n",
    "    print(x)"
   ]
  },
  {
   "cell_type": "code",
   "execution_count": null,
   "metadata": {
    "collapsed": true
   },
   "outputs": [],
   "source": []
  },
  {
   "cell_type": "code",
   "execution_count": 191,
   "metadata": {
    "collapsed": false
   },
   "outputs": [
    {
     "name": "stdout",
     "output_type": "stream",
     "text": [
      "1\n"
     ]
    }
   ],
   "source": [
    "a='EXTERIOR LIGHTING:BRAKE LIGHTS'\n",
    "if a in dic_cmp_desc:\n",
    "    print(dic_cmp_desc[a])\n",
    "# if a in d:\n",
    "#     print(d[a])"
   ]
  },
  {
   "cell_type": "code",
   "execution_count": null,
   "metadata": {
    "collapsed": true
   },
   "outputs": [],
   "source": []
  },
  {
   "cell_type": "code",
   "execution_count": 231,
   "metadata": {
    "collapsed": true
   },
   "outputs": [],
   "source": [
    "a=df.head(10)"
   ]
  },
  {
   "cell_type": "code",
   "execution_count": 110,
   "metadata": {
    "collapsed": false
   },
   "outputs": [
    {
     "data": {
      "text/html": [
       "<div>\n",
       "<table border=\"1\" class=\"dataframe\">\n",
       "  <thead>\n",
       "    <tr style=\"text-align: right;\">\n",
       "      <th></th>\n",
       "      <th>CMPLID</th>\n",
       "      <th>1</th>\n",
       "      <th>2</th>\n",
       "      <th>3</th>\n",
       "      <th>4</th>\n",
       "      <th>5</th>\n",
       "      <th>6</th>\n",
       "      <th>7</th>\n",
       "      <th>8</th>\n",
       "      <th>9</th>\n",
       "      <th>...</th>\n",
       "      <th>94</th>\n",
       "      <th>95</th>\n",
       "      <th>96</th>\n",
       "      <th>97</th>\n",
       "      <th>98</th>\n",
       "      <th>99</th>\n",
       "      <th>100</th>\n",
       "      <th>ODINO</th>\n",
       "      <th>COMPDESC</th>\n",
       "      <th>comp_desc_id</th>\n",
       "    </tr>\n",
       "  </thead>\n",
       "  <tbody>\n",
       "    <tr>\n",
       "      <th>0</th>\n",
       "      <td>456748</td>\n",
       "      <td>0.000000</td>\n",
       "      <td>0.000000</td>\n",
       "      <td>0.000000</td>\n",
       "      <td>0.000000</td>\n",
       "      <td>0.000000</td>\n",
       "      <td>0.000000</td>\n",
       "      <td>0.000000</td>\n",
       "      <td>0.000000</td>\n",
       "      <td>0.000000</td>\n",
       "      <td>...</td>\n",
       "      <td>0.000000</td>\n",
       "      <td>0.000000</td>\n",
       "      <td>0.000000</td>\n",
       "      <td>0.000000</td>\n",
       "      <td>0.000000</td>\n",
       "      <td>0.000000</td>\n",
       "      <td>0.000000</td>\n",
       "      <td>10053038</td>\n",
       "      <td>STEERING:RACK AND PINION</td>\n",
       "      <td>STEERING:RACK AND PINION</td>\n",
       "    </tr>\n",
       "    <tr>\n",
       "      <th>1</th>\n",
       "      <td>385661</td>\n",
       "      <td>0.000000</td>\n",
       "      <td>0.000000</td>\n",
       "      <td>0.000000</td>\n",
       "      <td>0.000000</td>\n",
       "      <td>0.000000</td>\n",
       "      <td>0.000000</td>\n",
       "      <td>0.000000</td>\n",
       "      <td>0.000000</td>\n",
       "      <td>0.000000</td>\n",
       "      <td>...</td>\n",
       "      <td>0.000000</td>\n",
       "      <td>0.000000</td>\n",
       "      <td>0.000000</td>\n",
       "      <td>0.000000</td>\n",
       "      <td>0.000000</td>\n",
       "      <td>0.000000</td>\n",
       "      <td>0.000000</td>\n",
       "      <td>9007157</td>\n",
       "      <td>EXTERIOR LIGHTING:BRAKE LIGHTS</td>\n",
       "      <td>EXTERIOR LIGHTING:BRAKE LIGHTS</td>\n",
       "    </tr>\n",
       "    <tr>\n",
       "      <th>2</th>\n",
       "      <td>376859</td>\n",
       "      <td>0.000000</td>\n",
       "      <td>0.000000</td>\n",
       "      <td>0.000000</td>\n",
       "      <td>0.000000</td>\n",
       "      <td>0.000000</td>\n",
       "      <td>0.000000</td>\n",
       "      <td>0.000000</td>\n",
       "      <td>0.000000</td>\n",
       "      <td>0.000000</td>\n",
       "      <td>...</td>\n",
       "      <td>0.000000</td>\n",
       "      <td>0.000000</td>\n",
       "      <td>0.000000</td>\n",
       "      <td>0.000000</td>\n",
       "      <td>0.000000</td>\n",
       "      <td>0.000000</td>\n",
       "      <td>0.000000</td>\n",
       "      <td>8016397</td>\n",
       "      <td>FUEL SYSTEM, OTHER:STORAGE</td>\n",
       "      <td>FUEL SYSTEM, OTHER:STORAGE</td>\n",
       "    </tr>\n",
       "    <tr>\n",
       "      <th>3</th>\n",
       "      <td>186229</td>\n",
       "      <td>0.000000</td>\n",
       "      <td>0.000000</td>\n",
       "      <td>0.000000</td>\n",
       "      <td>0.000000</td>\n",
       "      <td>0.000000</td>\n",
       "      <td>0.000000</td>\n",
       "      <td>0.000000</td>\n",
       "      <td>0.000000</td>\n",
       "      <td>0.000000</td>\n",
       "      <td>...</td>\n",
       "      <td>0.000000</td>\n",
       "      <td>0.000000</td>\n",
       "      <td>0.000000</td>\n",
       "      <td>0.000000</td>\n",
       "      <td>0.000000</td>\n",
       "      <td>0.000000</td>\n",
       "      <td>0.000000</td>\n",
       "      <td>851553</td>\n",
       "      <td>VEHICLE SPEED CONTROL</td>\n",
       "      <td>VEHICLE SPEED CONTROL</td>\n",
       "    </tr>\n",
       "    <tr>\n",
       "      <th>4</th>\n",
       "      <td>114446</td>\n",
       "      <td>0.279541</td>\n",
       "      <td>0.263423</td>\n",
       "      <td>0.104596</td>\n",
       "      <td>-0.395094</td>\n",
       "      <td>-0.547253</td>\n",
       "      <td>-0.178229</td>\n",
       "      <td>-0.282684</td>\n",
       "      <td>-0.292041</td>\n",
       "      <td>0.177561</td>\n",
       "      <td>...</td>\n",
       "      <td>-0.042998</td>\n",
       "      <td>0.146759</td>\n",
       "      <td>0.266276</td>\n",
       "      <td>-0.079415</td>\n",
       "      <td>0.361403</td>\n",
       "      <td>-0.167115</td>\n",
       "      <td>-0.023925</td>\n",
       "      <td>528801</td>\n",
       "      <td>ENGINE AND ENGINE COOLING:ENGINE:GASOLINE</td>\n",
       "      <td>ENGINE AND ENGINE COOLING:ENGINE:GASOLINE</td>\n",
       "    </tr>\n",
       "    <tr>\n",
       "      <th>5</th>\n",
       "      <td>113510</td>\n",
       "      <td>0.279541</td>\n",
       "      <td>0.263423</td>\n",
       "      <td>0.104596</td>\n",
       "      <td>-0.395094</td>\n",
       "      <td>-0.547253</td>\n",
       "      <td>-0.178229</td>\n",
       "      <td>-0.282684</td>\n",
       "      <td>-0.292041</td>\n",
       "      <td>0.177561</td>\n",
       "      <td>...</td>\n",
       "      <td>-0.042998</td>\n",
       "      <td>0.146759</td>\n",
       "      <td>0.266276</td>\n",
       "      <td>-0.079415</td>\n",
       "      <td>0.361403</td>\n",
       "      <td>-0.167115</td>\n",
       "      <td>-0.023925</td>\n",
       "      <td>521841</td>\n",
       "      <td>POWER TRAIN:AUTOMATIC TRANSMISSION</td>\n",
       "      <td>POWER TRAIN:AUTOMATIC TRANSMISSION</td>\n",
       "    </tr>\n",
       "    <tr>\n",
       "      <th>6</th>\n",
       "      <td>301210</td>\n",
       "      <td>0.349581</td>\n",
       "      <td>0.208407</td>\n",
       "      <td>-0.170888</td>\n",
       "      <td>-0.299682</td>\n",
       "      <td>-0.140342</td>\n",
       "      <td>0.042122</td>\n",
       "      <td>0.037456</td>\n",
       "      <td>0.408972</td>\n",
       "      <td>-0.091391</td>\n",
       "      <td>...</td>\n",
       "      <td>0.338183</td>\n",
       "      <td>0.280764</td>\n",
       "      <td>-0.065900</td>\n",
       "      <td>0.044839</td>\n",
       "      <td>0.097457</td>\n",
       "      <td>0.218280</td>\n",
       "      <td>0.021272</td>\n",
       "      <td>560947</td>\n",
       "      <td>TIRES</td>\n",
       "      <td>TIRES</td>\n",
       "    </tr>\n",
       "    <tr>\n",
       "      <th>7</th>\n",
       "      <td>301376</td>\n",
       "      <td>0.116113</td>\n",
       "      <td>-0.188769</td>\n",
       "      <td>-0.110760</td>\n",
       "      <td>-0.609887</td>\n",
       "      <td>-0.191231</td>\n",
       "      <td>0.300550</td>\n",
       "      <td>-0.150458</td>\n",
       "      <td>-0.057018</td>\n",
       "      <td>-0.381803</td>\n",
       "      <td>...</td>\n",
       "      <td>0.468367</td>\n",
       "      <td>0.230334</td>\n",
       "      <td>-0.331692</td>\n",
       "      <td>0.038271</td>\n",
       "      <td>0.684570</td>\n",
       "      <td>0.407337</td>\n",
       "      <td>-0.158587</td>\n",
       "      <td>888755</td>\n",
       "      <td>TIRES:TREAD/BELT</td>\n",
       "      <td>TIRES:TREAD/BELT</td>\n",
       "    </tr>\n",
       "    <tr>\n",
       "      <th>8</th>\n",
       "      <td>540134</td>\n",
       "      <td>0.431387</td>\n",
       "      <td>-0.333876</td>\n",
       "      <td>-0.327539</td>\n",
       "      <td>-0.379741</td>\n",
       "      <td>-0.450245</td>\n",
       "      <td>-0.056476</td>\n",
       "      <td>-0.145719</td>\n",
       "      <td>-0.189137</td>\n",
       "      <td>-0.313961</td>\n",
       "      <td>...</td>\n",
       "      <td>0.211789</td>\n",
       "      <td>0.305894</td>\n",
       "      <td>0.108341</td>\n",
       "      <td>0.097236</td>\n",
       "      <td>0.010828</td>\n",
       "      <td>-0.195379</td>\n",
       "      <td>0.189638</td>\n",
       "      <td>10119633</td>\n",
       "      <td>ENGINE AND ENGINE COOLING:ENGINE</td>\n",
       "      <td>ENGINE AND ENGINE COOLING:ENGINE</td>\n",
       "    </tr>\n",
       "    <tr>\n",
       "      <th>9</th>\n",
       "      <td>240522</td>\n",
       "      <td>0.300383</td>\n",
       "      <td>0.075589</td>\n",
       "      <td>-0.104108</td>\n",
       "      <td>-0.450810</td>\n",
       "      <td>-0.386936</td>\n",
       "      <td>0.040513</td>\n",
       "      <td>-0.159920</td>\n",
       "      <td>-0.148845</td>\n",
       "      <td>-0.254803</td>\n",
       "      <td>...</td>\n",
       "      <td>0.225667</td>\n",
       "      <td>0.241150</td>\n",
       "      <td>0.265549</td>\n",
       "      <td>-0.082155</td>\n",
       "      <td>-0.037562</td>\n",
       "      <td>-0.055817</td>\n",
       "      <td>0.132078</td>\n",
       "      <td>869617</td>\n",
       "      <td>SEAT BELTS:FRONT:WEBBING</td>\n",
       "      <td>SEAT BELTS:FRONT:WEBBING</td>\n",
       "    </tr>\n",
       "  </tbody>\n",
       "</table>\n",
       "<p>10 rows × 104 columns</p>\n",
       "</div>"
      ],
      "text/plain": [
       "   CMPLID         1         2         3         4         5         6  \\\n",
       "0  456748  0.000000  0.000000  0.000000  0.000000  0.000000  0.000000   \n",
       "1  385661  0.000000  0.000000  0.000000  0.000000  0.000000  0.000000   \n",
       "2  376859  0.000000  0.000000  0.000000  0.000000  0.000000  0.000000   \n",
       "3  186229  0.000000  0.000000  0.000000  0.000000  0.000000  0.000000   \n",
       "4  114446  0.279541  0.263423  0.104596 -0.395094 -0.547253 -0.178229   \n",
       "5  113510  0.279541  0.263423  0.104596 -0.395094 -0.547253 -0.178229   \n",
       "6  301210  0.349581  0.208407 -0.170888 -0.299682 -0.140342  0.042122   \n",
       "7  301376  0.116113 -0.188769 -0.110760 -0.609887 -0.191231  0.300550   \n",
       "8  540134  0.431387 -0.333876 -0.327539 -0.379741 -0.450245 -0.056476   \n",
       "9  240522  0.300383  0.075589 -0.104108 -0.450810 -0.386936  0.040513   \n",
       "\n",
       "          7         8         9                    ...                      \\\n",
       "0  0.000000  0.000000  0.000000                    ...                       \n",
       "1  0.000000  0.000000  0.000000                    ...                       \n",
       "2  0.000000  0.000000  0.000000                    ...                       \n",
       "3  0.000000  0.000000  0.000000                    ...                       \n",
       "4 -0.282684 -0.292041  0.177561                    ...                       \n",
       "5 -0.282684 -0.292041  0.177561                    ...                       \n",
       "6  0.037456  0.408972 -0.091391                    ...                       \n",
       "7 -0.150458 -0.057018 -0.381803                    ...                       \n",
       "8 -0.145719 -0.189137 -0.313961                    ...                       \n",
       "9 -0.159920 -0.148845 -0.254803                    ...                       \n",
       "\n",
       "         94        95        96        97        98        99       100  \\\n",
       "0  0.000000  0.000000  0.000000  0.000000  0.000000  0.000000  0.000000   \n",
       "1  0.000000  0.000000  0.000000  0.000000  0.000000  0.000000  0.000000   \n",
       "2  0.000000  0.000000  0.000000  0.000000  0.000000  0.000000  0.000000   \n",
       "3  0.000000  0.000000  0.000000  0.000000  0.000000  0.000000  0.000000   \n",
       "4 -0.042998  0.146759  0.266276 -0.079415  0.361403 -0.167115 -0.023925   \n",
       "5 -0.042998  0.146759  0.266276 -0.079415  0.361403 -0.167115 -0.023925   \n",
       "6  0.338183  0.280764 -0.065900  0.044839  0.097457  0.218280  0.021272   \n",
       "7  0.468367  0.230334 -0.331692  0.038271  0.684570  0.407337 -0.158587   \n",
       "8  0.211789  0.305894  0.108341  0.097236  0.010828 -0.195379  0.189638   \n",
       "9  0.225667  0.241150  0.265549 -0.082155 -0.037562 -0.055817  0.132078   \n",
       "\n",
       "      ODINO                                   COMPDESC  \\\n",
       "0  10053038                   STEERING:RACK AND PINION   \n",
       "1   9007157             EXTERIOR LIGHTING:BRAKE LIGHTS   \n",
       "2   8016397                 FUEL SYSTEM, OTHER:STORAGE   \n",
       "3    851553                      VEHICLE SPEED CONTROL   \n",
       "4    528801  ENGINE AND ENGINE COOLING:ENGINE:GASOLINE   \n",
       "5    521841         POWER TRAIN:AUTOMATIC TRANSMISSION   \n",
       "6    560947                                      TIRES   \n",
       "7    888755                           TIRES:TREAD/BELT   \n",
       "8  10119633           ENGINE AND ENGINE COOLING:ENGINE   \n",
       "9    869617                   SEAT BELTS:FRONT:WEBBING   \n",
       "\n",
       "                                comp_desc_id  \n",
       "0                   STEERING:RACK AND PINION  \n",
       "1             EXTERIOR LIGHTING:BRAKE LIGHTS  \n",
       "2                 FUEL SYSTEM, OTHER:STORAGE  \n",
       "3                      VEHICLE SPEED CONTROL  \n",
       "4  ENGINE AND ENGINE COOLING:ENGINE:GASOLINE  \n",
       "5         POWER TRAIN:AUTOMATIC TRANSMISSION  \n",
       "6                                      TIRES  \n",
       "7                           TIRES:TREAD/BELT  \n",
       "8           ENGINE AND ENGINE COOLING:ENGINE  \n",
       "9                   SEAT BELTS:FRONT:WEBBING  \n",
       "\n",
       "[10 rows x 104 columns]"
      ]
     },
     "execution_count": 110,
     "metadata": {},
     "output_type": "execute_result"
    }
   ],
   "source": [
    "a"
   ]
  },
  {
   "cell_type": "code",
   "execution_count": 234,
   "metadata": {
    "collapsed": false
   },
   "outputs": [],
   "source": [
    "# for i, row in enumerate(a.values):\n",
    "# #     idx=mapping_summary.index[i]\n",
    "#     cmpdesc = str(row)[1:-1]\n",
    "#     print(row)\n",
    "#     dic_cmp_desc[str(cmpdesc)]=i\n",
    "#     dic_cmp_desc[cmpdesc]=i\n",
    "#     print(type(cmpdesc),cmpdesc)"
   ]
  },
  {
   "cell_type": "code",
   "execution_count": 239,
   "metadata": {
    "collapsed": false
   },
   "outputs": [],
   "source": [
    "comp_desc_id=[]\n",
    "for row in df['COMPDESC']:\n",
    "#     print(row)\n",
    "#     print(a.ix[i]['COMPDESC'])\n",
    "#     tmp=dic_cmp_desc[str(row)]\n",
    "    comp_desc_id.append(dic_cmp_desc[row])\n",
    "    "
   ]
  },
  {
   "cell_type": "code",
   "execution_count": 240,
   "metadata": {
    "collapsed": false
   },
   "outputs": [
    {
     "data": {
      "text/plain": [
       "[1, 2, 3, 4, 5, 6, 7, 8, 9, 5, 10, 11, 12, 13, 14, 7, 7, 7, 7]"
      ]
     },
     "execution_count": 240,
     "metadata": {},
     "output_type": "execute_result"
    }
   ],
   "source": [
    "comp_desc_id[1:20]"
   ]
  },
  {
   "cell_type": "code",
   "execution_count": 241,
   "metadata": {
    "collapsed": false
   },
   "outputs": [
    {
     "data": {
      "text/plain": [
       "1015026"
      ]
     },
     "execution_count": 241,
     "metadata": {},
     "output_type": "execute_result"
    }
   ],
   "source": [
    "len(comp_desc_id)"
   ]
  },
  {
   "cell_type": "code",
   "execution_count": null,
   "metadata": {
    "collapsed": true
   },
   "outputs": [],
   "source": []
  },
  {
   "cell_type": "code",
   "execution_count": 242,
   "metadata": {
    "collapsed": true
   },
   "outputs": [],
   "source": [
    "df['comp_desc_id']=comp_desc_id"
   ]
  },
  {
   "cell_type": "code",
   "execution_count": null,
   "metadata": {
    "collapsed": true
   },
   "outputs": [],
   "source": []
  },
  {
   "cell_type": "code",
   "execution_count": 243,
   "metadata": {
    "collapsed": false
   },
   "outputs": [
    {
     "data": {
      "text/html": [
       "<div>\n",
       "<table border=\"1\" class=\"dataframe\">\n",
       "  <thead>\n",
       "    <tr style=\"text-align: right;\">\n",
       "      <th></th>\n",
       "      <th>CMPLID</th>\n",
       "      <th>1</th>\n",
       "      <th>2</th>\n",
       "      <th>3</th>\n",
       "      <th>4</th>\n",
       "      <th>5</th>\n",
       "      <th>6</th>\n",
       "      <th>7</th>\n",
       "      <th>8</th>\n",
       "      <th>9</th>\n",
       "      <th>...</th>\n",
       "      <th>94</th>\n",
       "      <th>95</th>\n",
       "      <th>96</th>\n",
       "      <th>97</th>\n",
       "      <th>98</th>\n",
       "      <th>99</th>\n",
       "      <th>100</th>\n",
       "      <th>ODINO</th>\n",
       "      <th>COMPDESC</th>\n",
       "      <th>comp_desc_id</th>\n",
       "    </tr>\n",
       "  </thead>\n",
       "  <tbody>\n",
       "    <tr>\n",
       "      <th>0</th>\n",
       "      <td>456748</td>\n",
       "      <td>0.000000</td>\n",
       "      <td>0.000000</td>\n",
       "      <td>0.000000</td>\n",
       "      <td>0.000000</td>\n",
       "      <td>0.000000</td>\n",
       "      <td>0.000000</td>\n",
       "      <td>0.000000</td>\n",
       "      <td>0.000000</td>\n",
       "      <td>0.000000</td>\n",
       "      <td>...</td>\n",
       "      <td>0.000000</td>\n",
       "      <td>0.000000</td>\n",
       "      <td>0.000000</td>\n",
       "      <td>0.000000</td>\n",
       "      <td>0.000000</td>\n",
       "      <td>0.000000</td>\n",
       "      <td>0.000000</td>\n",
       "      <td>10053038</td>\n",
       "      <td>STEERING:RACK AND PINION</td>\n",
       "      <td>0</td>\n",
       "    </tr>\n",
       "    <tr>\n",
       "      <th>1</th>\n",
       "      <td>385661</td>\n",
       "      <td>0.000000</td>\n",
       "      <td>0.000000</td>\n",
       "      <td>0.000000</td>\n",
       "      <td>0.000000</td>\n",
       "      <td>0.000000</td>\n",
       "      <td>0.000000</td>\n",
       "      <td>0.000000</td>\n",
       "      <td>0.000000</td>\n",
       "      <td>0.000000</td>\n",
       "      <td>...</td>\n",
       "      <td>0.000000</td>\n",
       "      <td>0.000000</td>\n",
       "      <td>0.000000</td>\n",
       "      <td>0.000000</td>\n",
       "      <td>0.000000</td>\n",
       "      <td>0.000000</td>\n",
       "      <td>0.000000</td>\n",
       "      <td>9007157</td>\n",
       "      <td>EXTERIOR LIGHTING:BRAKE LIGHTS</td>\n",
       "      <td>1</td>\n",
       "    </tr>\n",
       "    <tr>\n",
       "      <th>2</th>\n",
       "      <td>376859</td>\n",
       "      <td>0.000000</td>\n",
       "      <td>0.000000</td>\n",
       "      <td>0.000000</td>\n",
       "      <td>0.000000</td>\n",
       "      <td>0.000000</td>\n",
       "      <td>0.000000</td>\n",
       "      <td>0.000000</td>\n",
       "      <td>0.000000</td>\n",
       "      <td>0.000000</td>\n",
       "      <td>...</td>\n",
       "      <td>0.000000</td>\n",
       "      <td>0.000000</td>\n",
       "      <td>0.000000</td>\n",
       "      <td>0.000000</td>\n",
       "      <td>0.000000</td>\n",
       "      <td>0.000000</td>\n",
       "      <td>0.000000</td>\n",
       "      <td>8016397</td>\n",
       "      <td>FUEL SYSTEM, OTHER:STORAGE</td>\n",
       "      <td>2</td>\n",
       "    </tr>\n",
       "    <tr>\n",
       "      <th>3</th>\n",
       "      <td>186229</td>\n",
       "      <td>0.000000</td>\n",
       "      <td>0.000000</td>\n",
       "      <td>0.000000</td>\n",
       "      <td>0.000000</td>\n",
       "      <td>0.000000</td>\n",
       "      <td>0.000000</td>\n",
       "      <td>0.000000</td>\n",
       "      <td>0.000000</td>\n",
       "      <td>0.000000</td>\n",
       "      <td>...</td>\n",
       "      <td>0.000000</td>\n",
       "      <td>0.000000</td>\n",
       "      <td>0.000000</td>\n",
       "      <td>0.000000</td>\n",
       "      <td>0.000000</td>\n",
       "      <td>0.000000</td>\n",
       "      <td>0.000000</td>\n",
       "      <td>851553</td>\n",
       "      <td>VEHICLE SPEED CONTROL</td>\n",
       "      <td>3</td>\n",
       "    </tr>\n",
       "    <tr>\n",
       "      <th>4</th>\n",
       "      <td>114446</td>\n",
       "      <td>0.279541</td>\n",
       "      <td>0.263423</td>\n",
       "      <td>0.104596</td>\n",
       "      <td>-0.395094</td>\n",
       "      <td>-0.547253</td>\n",
       "      <td>-0.178229</td>\n",
       "      <td>-0.282684</td>\n",
       "      <td>-0.292041</td>\n",
       "      <td>0.177561</td>\n",
       "      <td>...</td>\n",
       "      <td>-0.042998</td>\n",
       "      <td>0.146759</td>\n",
       "      <td>0.266276</td>\n",
       "      <td>-0.079415</td>\n",
       "      <td>0.361403</td>\n",
       "      <td>-0.167115</td>\n",
       "      <td>-0.023925</td>\n",
       "      <td>528801</td>\n",
       "      <td>ENGINE AND ENGINE COOLING:ENGINE:GASOLINE</td>\n",
       "      <td>4</td>\n",
       "    </tr>\n",
       "  </tbody>\n",
       "</table>\n",
       "<p>5 rows × 104 columns</p>\n",
       "</div>"
      ],
      "text/plain": [
       "   CMPLID         1         2         3         4         5         6  \\\n",
       "0  456748  0.000000  0.000000  0.000000  0.000000  0.000000  0.000000   \n",
       "1  385661  0.000000  0.000000  0.000000  0.000000  0.000000  0.000000   \n",
       "2  376859  0.000000  0.000000  0.000000  0.000000  0.000000  0.000000   \n",
       "3  186229  0.000000  0.000000  0.000000  0.000000  0.000000  0.000000   \n",
       "4  114446  0.279541  0.263423  0.104596 -0.395094 -0.547253 -0.178229   \n",
       "\n",
       "          7         8         9      ...             94        95        96  \\\n",
       "0  0.000000  0.000000  0.000000      ...       0.000000  0.000000  0.000000   \n",
       "1  0.000000  0.000000  0.000000      ...       0.000000  0.000000  0.000000   \n",
       "2  0.000000  0.000000  0.000000      ...       0.000000  0.000000  0.000000   \n",
       "3  0.000000  0.000000  0.000000      ...       0.000000  0.000000  0.000000   \n",
       "4 -0.282684 -0.292041  0.177561      ...      -0.042998  0.146759  0.266276   \n",
       "\n",
       "         97        98        99       100     ODINO  \\\n",
       "0  0.000000  0.000000  0.000000  0.000000  10053038   \n",
       "1  0.000000  0.000000  0.000000  0.000000   9007157   \n",
       "2  0.000000  0.000000  0.000000  0.000000   8016397   \n",
       "3  0.000000  0.000000  0.000000  0.000000    851553   \n",
       "4 -0.079415  0.361403 -0.167115 -0.023925    528801   \n",
       "\n",
       "                                    COMPDESC  comp_desc_id  \n",
       "0                   STEERING:RACK AND PINION             0  \n",
       "1             EXTERIOR LIGHTING:BRAKE LIGHTS             1  \n",
       "2                 FUEL SYSTEM, OTHER:STORAGE             2  \n",
       "3                      VEHICLE SPEED CONTROL             3  \n",
       "4  ENGINE AND ENGINE COOLING:ENGINE:GASOLINE             4  \n",
       "\n",
       "[5 rows x 104 columns]"
      ]
     },
     "execution_count": 243,
     "metadata": {},
     "output_type": "execute_result"
    }
   ],
   "source": [
    "df.head()"
   ]
  },
  {
   "cell_type": "markdown",
   "metadata": {},
   "source": [
    "## Read the mapping table"
   ]
  },
  {
   "cell_type": "code",
   "execution_count": 8,
   "metadata": {
    "collapsed": true
   },
   "outputs": [],
   "source": [
    "mapping = pd.read_csv('./voq_map_filtered', sep=',',index_col=False, low_memory=False, encoding = \"ISO-8859-1\", error_bad_lines=False)"
   ]
  },
  {
   "cell_type": "code",
   "execution_count": 9,
   "metadata": {
    "collapsed": false
   },
   "outputs": [
    {
     "data": {
      "text/html": [
       "<div>\n",
       "<table border=\"1\" class=\"dataframe\">\n",
       "  <thead>\n",
       "    <tr style=\"text-align: right;\">\n",
       "      <th></th>\n",
       "      <th>Unnamed: 0</th>\n",
       "      <th>voq.rowno</th>\n",
       "      <th>voq.odino</th>\n",
       "      <th>voq.ecode</th>\n",
       "      <th>voq.datea</th>\n",
       "      <th>voq.compdesc</th>\n",
       "      <th>voq.defect_id</th>\n",
       "      <th>fa.fa_id</th>\n",
       "      <th>fa.fa_path</th>\n",
       "      <th>fa.fa_label</th>\n",
       "      <th>fo.fo_id</th>\n",
       "      <th>fo.fo_path</th>\n",
       "      <th>fo.fo_label</th>\n",
       "    </tr>\n",
       "  </thead>\n",
       "  <tbody>\n",
       "    <tr>\n",
       "      <th>0</th>\n",
       "      <td>1</td>\n",
       "      <td>1810</td>\n",
       "      <td>10003620</td>\n",
       "      <td>e53</td>\n",
       "      <td>20030113</td>\n",
       "      <td>air bags</td>\n",
       "      <td>7</td>\n",
       "      <td>990</td>\n",
       "      <td>00005/00990</td>\n",
       "      <td>Failure</td>\n",
       "      <td>12764</td>\n",
       "      <td>65/77/004/12764</td>\n",
       "      <td>SBE, front</td>\n",
       "    </tr>\n",
       "    <tr>\n",
       "      <th>1</th>\n",
       "      <td>123</td>\n",
       "      <td>68281</td>\n",
       "      <td>10060969</td>\n",
       "      <td>e46</td>\n",
       "      <td>20040227</td>\n",
       "      <td>air bags</td>\n",
       "      <td>34</td>\n",
       "      <td>624</td>\n",
       "      <td>00005/00527/00049/00624</td>\n",
       "      <td>Accidental activation</td>\n",
       "      <td>15450</td>\n",
       "      <td>72/12</td>\n",
       "      <td>Airbags</td>\n",
       "    </tr>\n",
       "    <tr>\n",
       "      <th>2</th>\n",
       "      <td>142</td>\n",
       "      <td>75256</td>\n",
       "      <td>10066641</td>\n",
       "      <td>e53</td>\n",
       "      <td>20040406</td>\n",
       "      <td>air bags</td>\n",
       "      <td>34</td>\n",
       "      <td>624</td>\n",
       "      <td>00005/00527/00049/00624</td>\n",
       "      <td>Accidental activation</td>\n",
       "      <td>15450</td>\n",
       "      <td>72/12</td>\n",
       "      <td>Airbags</td>\n",
       "    </tr>\n",
       "    <tr>\n",
       "      <th>3</th>\n",
       "      <td>170</td>\n",
       "      <td>93260</td>\n",
       "      <td>10079790</td>\n",
       "      <td>e46</td>\n",
       "      <td>20040701</td>\n",
       "      <td>tires</td>\n",
       "      <td>7</td>\n",
       "      <td>990</td>\n",
       "      <td>00005/00990</td>\n",
       "      <td>Failure</td>\n",
       "      <td>12764</td>\n",
       "      <td>65/77/004/12764</td>\n",
       "      <td>SBE, front</td>\n",
       "    </tr>\n",
       "    <tr>\n",
       "      <th>4</th>\n",
       "      <td>207</td>\n",
       "      <td>108798</td>\n",
       "      <td>10094713</td>\n",
       "      <td>e46</td>\n",
       "      <td>20040930</td>\n",
       "      <td>air bags:side/window</td>\n",
       "      <td>34</td>\n",
       "      <td>624</td>\n",
       "      <td>00005/00527/00049/00624</td>\n",
       "      <td>Accidental activation</td>\n",
       "      <td>15450</td>\n",
       "      <td>72/12</td>\n",
       "      <td>Airbags</td>\n",
       "    </tr>\n",
       "  </tbody>\n",
       "</table>\n",
       "</div>"
      ],
      "text/plain": [
       "   Unnamed: 0  voq.rowno  voq.odino voq.ecode  voq.datea  \\\n",
       "0           1       1810   10003620       e53   20030113   \n",
       "1         123      68281   10060969       e46   20040227   \n",
       "2         142      75256   10066641       e53   20040406   \n",
       "3         170      93260   10079790       e46   20040701   \n",
       "4         207     108798   10094713       e46   20040930   \n",
       "\n",
       "           voq.compdesc  voq.defect_id  fa.fa_id               fa.fa_path  \\\n",
       "0              air bags              7       990              00005/00990   \n",
       "1              air bags             34       624  00005/00527/00049/00624   \n",
       "2              air bags             34       624  00005/00527/00049/00624   \n",
       "3                 tires              7       990              00005/00990   \n",
       "4  air bags:side/window             34       624  00005/00527/00049/00624   \n",
       "\n",
       "             fa.fa_label  fo.fo_id       fo.fo_path fo.fo_label  \n",
       "0                Failure     12764  65/77/004/12764  SBE, front  \n",
       "1  Accidental activation     15450            72/12     Airbags  \n",
       "2  Accidental activation     15450            72/12     Airbags  \n",
       "3                Failure     12764  65/77/004/12764  SBE, front  \n",
       "4  Accidental activation     15450            72/12     Airbags  "
      ]
     },
     "execution_count": 9,
     "metadata": {},
     "output_type": "execute_result"
    }
   ],
   "source": [
    "mapping.head()\n"
   ]
  },
  {
   "cell_type": "markdown",
   "metadata": {},
   "source": [
    "#### filter the ODINO and fo_path columns from the Mapping table"
   ]
  },
  {
   "cell_type": "code",
   "execution_count": 10,
   "metadata": {
    "collapsed": false
   },
   "outputs": [],
   "source": [
    "mapping_summary=mapping.filter(items=['voq.odino', 'fo.fo_path']) #http://pandas.pydata.org/pandas-docs/stable/generated/pandas.DataFrame.filter.html"
   ]
  },
  {
   "cell_type": "code",
   "execution_count": null,
   "metadata": {
    "collapsed": true
   },
   "outputs": [],
   "source": [
    "        "
   ]
  },
  {
   "cell_type": "code",
   "execution_count": null,
   "metadata": {
    "collapsed": false
   },
   "outputs": [],
   "source": []
  },
  {
   "cell_type": "code",
   "execution_count": 11,
   "metadata": {
    "collapsed": true
   },
   "outputs": [],
   "source": [
    "#http://stackoverflow.com/a/19758398/2674061\n",
    "mapping_summary.rename(columns = {'voq.odino':'ODINO'},inplace=True) \n",
    "mapping_summary.rename(columns = {'fo.fo_path':'fo_path'},inplace=True) "
   ]
  },
  {
   "cell_type": "code",
   "execution_count": 12,
   "metadata": {
    "collapsed": false
   },
   "outputs": [
    {
     "data": {
      "text/plain": [
       "Index(['ODINO', 'fo_path'], dtype='object')"
      ]
     },
     "execution_count": 12,
     "metadata": {},
     "output_type": "execute_result"
    }
   ],
   "source": [
    "mapping_summary.columns"
   ]
  },
  {
   "cell_type": "code",
   "execution_count": 13,
   "metadata": {
    "collapsed": false
   },
   "outputs": [
    {
     "data": {
      "text/html": [
       "<div>\n",
       "<table border=\"1\" class=\"dataframe\">\n",
       "  <thead>\n",
       "    <tr style=\"text-align: right;\">\n",
       "      <th></th>\n",
       "      <th>ODINO</th>\n",
       "      <th>fo_path</th>\n",
       "    </tr>\n",
       "  </thead>\n",
       "  <tbody>\n",
       "    <tr>\n",
       "      <th>0</th>\n",
       "      <td>10003620</td>\n",
       "      <td>65/77/004/12764</td>\n",
       "    </tr>\n",
       "    <tr>\n",
       "      <th>1</th>\n",
       "      <td>10060969</td>\n",
       "      <td>72/12</td>\n",
       "    </tr>\n",
       "    <tr>\n",
       "      <th>2</th>\n",
       "      <td>10066641</td>\n",
       "      <td>72/12</td>\n",
       "    </tr>\n",
       "    <tr>\n",
       "      <th>3</th>\n",
       "      <td>10079790</td>\n",
       "      <td>65/77/004/12764</td>\n",
       "    </tr>\n",
       "    <tr>\n",
       "      <th>4</th>\n",
       "      <td>10094713</td>\n",
       "      <td>72/12</td>\n",
       "    </tr>\n",
       "  </tbody>\n",
       "</table>\n",
       "</div>"
      ],
      "text/plain": [
       "      ODINO          fo_path\n",
       "0  10003620  65/77/004/12764\n",
       "1  10060969            72/12\n",
       "2  10066641            72/12\n",
       "3  10079790  65/77/004/12764\n",
       "4  10094713            72/12"
      ]
     },
     "execution_count": 13,
     "metadata": {},
     "output_type": "execute_result"
    }
   ],
   "source": [
    "mapping_summary.head()"
   ]
  },
  {
   "cell_type": "markdown",
   "metadata": {},
   "source": [
    "#### number of unique fo_path"
   ]
  },
  {
   "cell_type": "code",
   "execution_count": 14,
   "metadata": {
    "collapsed": false
   },
   "outputs": [
    {
     "data": {
      "text/plain": [
       "394"
      ]
     },
     "execution_count": 14,
     "metadata": {},
     "output_type": "execute_result"
    }
   ],
   "source": [
    "#https://chrisalbon.com/python/pandas_list_unique_values_in_column.html\n",
    "len(mapping_summary.fo_path.unique() )"
   ]
  },
  {
   "cell_type": "code",
   "execution_count": 15,
   "metadata": {
    "collapsed": false
   },
   "outputs": [],
   "source": [
    "# mapping_summary.fo_path.unique()"
   ]
  },
  {
   "cell_type": "code",
   "execution_count": 16,
   "metadata": {
    "collapsed": true
   },
   "outputs": [],
   "source": [
    "import re"
   ]
  },
  {
   "cell_type": "code",
   "execution_count": 17,
   "metadata": {
    "collapsed": false
   },
   "outputs": [],
   "source": [
    "# http://stackoverflow.com/a/32230237/2674061\n",
    "# mapping_summary['L1'] = mapping_summary['fo_path'].str.split(('/'), expand=True)"
   ]
  },
  {
   "cell_type": "code",
   "execution_count": null,
   "metadata": {
    "collapsed": true
   },
   "outputs": [],
   "source": []
  },
  {
   "cell_type": "code",
   "execution_count": 18,
   "metadata": {
    "collapsed": false
   },
   "outputs": [],
   "source": [
    "# mapping_summary.head()"
   ]
  },
  {
   "cell_type": "code",
   "execution_count": 19,
   "metadata": {
    "collapsed": true
   },
   "outputs": [],
   "source": [
    "a='65/77/004/12764'"
   ]
  },
  {
   "cell_type": "code",
   "execution_count": 20,
   "metadata": {
    "collapsed": false
   },
   "outputs": [
    {
     "data": {
      "text/plain": [
       "['65', '77', '004', '12764']"
      ]
     },
     "execution_count": 20,
     "metadata": {},
     "output_type": "execute_result"
    }
   ],
   "source": [
    "a.split('/')"
   ]
  },
  {
   "cell_type": "code",
   "execution_count": 21,
   "metadata": {
    "collapsed": false
   },
   "outputs": [],
   "source": [
    "# mapping_summary['L1'] = mapping_summary['fo_path'].str.split('../', expand=True)"
   ]
  },
  {
   "cell_type": "code",
   "execution_count": 22,
   "metadata": {
    "collapsed": false
   },
   "outputs": [],
   "source": [
    "# mapping_summary['L2'] = mapping_summary['fo_path'].str.split(('((\\d)+/(\\d)+)'), expand=True)"
   ]
  },
  {
   "cell_type": "code",
   "execution_count": 23,
   "metadata": {
    "collapsed": false
   },
   "outputs": [],
   "source": [
    "# mapping_summary['L3'] = mapping_summary['fo_path'].str.extract('(\\d)+/(\\d)+)', expand=True)"
   ]
  },
  {
   "cell_type": "code",
   "execution_count": 24,
   "metadata": {
    "collapsed": false
   },
   "outputs": [
    {
     "data": {
      "text/html": [
       "<div>\n",
       "<table border=\"1\" class=\"dataframe\">\n",
       "  <thead>\n",
       "    <tr style=\"text-align: right;\">\n",
       "      <th></th>\n",
       "      <th>ODINO</th>\n",
       "      <th>fo_path</th>\n",
       "    </tr>\n",
       "  </thead>\n",
       "  <tbody>\n",
       "    <tr>\n",
       "      <th>0</th>\n",
       "      <td>10003620</td>\n",
       "      <td>65/77/004/12764</td>\n",
       "    </tr>\n",
       "    <tr>\n",
       "      <th>1</th>\n",
       "      <td>10060969</td>\n",
       "      <td>72/12</td>\n",
       "    </tr>\n",
       "    <tr>\n",
       "      <th>2</th>\n",
       "      <td>10066641</td>\n",
       "      <td>72/12</td>\n",
       "    </tr>\n",
       "    <tr>\n",
       "      <th>3</th>\n",
       "      <td>10079790</td>\n",
       "      <td>65/77/004/12764</td>\n",
       "    </tr>\n",
       "    <tr>\n",
       "      <th>4</th>\n",
       "      <td>10094713</td>\n",
       "      <td>72/12</td>\n",
       "    </tr>\n",
       "  </tbody>\n",
       "</table>\n",
       "</div>"
      ],
      "text/plain": [
       "      ODINO          fo_path\n",
       "0  10003620  65/77/004/12764\n",
       "1  10060969            72/12\n",
       "2  10066641            72/12\n",
       "3  10079790  65/77/004/12764\n",
       "4  10094713            72/12"
      ]
     },
     "execution_count": 24,
     "metadata": {},
     "output_type": "execute_result"
    }
   ],
   "source": [
    "mapping_summary.head()"
   ]
  },
  {
   "cell_type": "code",
   "execution_count": 25,
   "metadata": {
    "collapsed": false
   },
   "outputs": [],
   "source": [
    "# mapping_summary['L3'] = mapping_summary['fo_path'].str.extract('((\\d)+/(\\d)+/(\\d)*))', expand=True)(\\d)"
   ]
  },
  {
   "cell_type": "code",
   "execution_count": 247,
   "metadata": {
    "collapsed": true
   },
   "outputs": [],
   "source": [
    "mapping_summary['parts'] = mapping_summary['fo_path'].str.split('/')"
   ]
  },
  {
   "cell_type": "code",
   "execution_count": 248,
   "metadata": {
    "collapsed": false
   },
   "outputs": [
    {
     "data": {
      "text/html": [
       "<div>\n",
       "<table border=\"1\" class=\"dataframe\">\n",
       "  <thead>\n",
       "    <tr style=\"text-align: right;\">\n",
       "      <th></th>\n",
       "      <th>ODINO</th>\n",
       "      <th>fo_path</th>\n",
       "      <th>parts</th>\n",
       "    </tr>\n",
       "  </thead>\n",
       "  <tbody>\n",
       "    <tr>\n",
       "      <th>0</th>\n",
       "      <td>10003620</td>\n",
       "      <td>65/77/004/12764</td>\n",
       "      <td>[65, 77, 004, 12764]</td>\n",
       "    </tr>\n",
       "    <tr>\n",
       "      <th>1</th>\n",
       "      <td>10060969</td>\n",
       "      <td>72/12</td>\n",
       "      <td>[72, 12]</td>\n",
       "    </tr>\n",
       "    <tr>\n",
       "      <th>2</th>\n",
       "      <td>10066641</td>\n",
       "      <td>72/12</td>\n",
       "      <td>[72, 12]</td>\n",
       "    </tr>\n",
       "    <tr>\n",
       "      <th>3</th>\n",
       "      <td>10079790</td>\n",
       "      <td>65/77/004/12764</td>\n",
       "      <td>[65, 77, 004, 12764]</td>\n",
       "    </tr>\n",
       "    <tr>\n",
       "      <th>4</th>\n",
       "      <td>10094713</td>\n",
       "      <td>72/12</td>\n",
       "      <td>[72, 12]</td>\n",
       "    </tr>\n",
       "  </tbody>\n",
       "</table>\n",
       "</div>"
      ],
      "text/plain": [
       "      ODINO          fo_path                 parts\n",
       "0  10003620  65/77/004/12764  [65, 77, 004, 12764]\n",
       "1  10060969            72/12              [72, 12]\n",
       "2  10066641            72/12              [72, 12]\n",
       "3  10079790  65/77/004/12764  [65, 77, 004, 12764]\n",
       "4  10094713            72/12              [72, 12]"
      ]
     },
     "execution_count": 248,
     "metadata": {},
     "output_type": "execute_result"
    }
   ],
   "source": [
    "mapping_summary.head()"
   ]
  },
  {
   "cell_type": "code",
   "execution_count": 28,
   "metadata": {
    "collapsed": false
   },
   "outputs": [],
   "source": [
    "lst1=[]\n",
    "for i,row in enumerate(mapping_summary.values):\n",
    "#     print(mapping_summary.ix[i])\n",
    "    idx=mapping_summary.index[i]\n",
    "    odino,fo_path,parts = row\n",
    "    lst1.append((odino, parts[0]))\n",
    "    "
   ]
  },
  {
   "cell_type": "code",
   "execution_count": 29,
   "metadata": {
    "collapsed": false
   },
   "outputs": [
    {
     "data": {
      "text/plain": [
       "15377"
      ]
     },
     "execution_count": 29,
     "metadata": {},
     "output_type": "execute_result"
    }
   ],
   "source": [
    "len(lst1)"
   ]
  },
  {
   "cell_type": "code",
   "execution_count": 30,
   "metadata": {
    "collapsed": false
   },
   "outputs": [
    {
     "data": {
      "text/plain": [
       "[(10060969, '72'),\n",
       " (10066641, '72'),\n",
       " (10079790, '65'),\n",
       " (10094713, '72'),\n",
       " (10098379, '01930'),\n",
       " (10118617, '17838'),\n",
       " (10123825, '72'),\n",
       " (10128954, '65'),\n",
       " (10128936, '72')]"
      ]
     },
     "execution_count": 30,
     "metadata": {},
     "output_type": "execute_result"
    }
   ],
   "source": [
    "lst1[1:10]"
   ]
  },
  {
   "cell_type": "code",
   "execution_count": 245,
   "metadata": {
    "collapsed": false
   },
   "outputs": [],
   "source": [
    "l1=pd.DataFrame(lst1,columns=['ODINO','L1'])"
   ]
  },
  {
   "cell_type": "code",
   "execution_count": 249,
   "metadata": {
    "collapsed": false
   },
   "outputs": [
    {
     "data": {
      "text/html": [
       "<div>\n",
       "<table border=\"1\" class=\"dataframe\">\n",
       "  <thead>\n",
       "    <tr style=\"text-align: right;\">\n",
       "      <th></th>\n",
       "      <th>ODINO</th>\n",
       "      <th>L1</th>\n",
       "    </tr>\n",
       "  </thead>\n",
       "  <tbody>\n",
       "    <tr>\n",
       "      <th>0</th>\n",
       "      <td>10003620</td>\n",
       "      <td>65</td>\n",
       "    </tr>\n",
       "    <tr>\n",
       "      <th>1</th>\n",
       "      <td>10060969</td>\n",
       "      <td>72</td>\n",
       "    </tr>\n",
       "    <tr>\n",
       "      <th>2</th>\n",
       "      <td>10066641</td>\n",
       "      <td>72</td>\n",
       "    </tr>\n",
       "    <tr>\n",
       "      <th>3</th>\n",
       "      <td>10079790</td>\n",
       "      <td>65</td>\n",
       "    </tr>\n",
       "    <tr>\n",
       "      <th>4</th>\n",
       "      <td>10094713</td>\n",
       "      <td>72</td>\n",
       "    </tr>\n",
       "  </tbody>\n",
       "</table>\n",
       "</div>"
      ],
      "text/plain": [
       "      ODINO  L1\n",
       "0  10003620  65\n",
       "1  10060969  72\n",
       "2  10066641  72\n",
       "3  10079790  65\n",
       "4  10094713  72"
      ]
     },
     "execution_count": 249,
     "metadata": {},
     "output_type": "execute_result"
    }
   ],
   "source": [
    "l1.head()"
   ]
  },
  {
   "cell_type": "code",
   "execution_count": null,
   "metadata": {
    "collapsed": true
   },
   "outputs": [],
   "source": []
  },
  {
   "cell_type": "markdown",
   "metadata": {},
   "source": [
    "## create L1 training data"
   ]
  },
  {
   "cell_type": "code",
   "execution_count": 250,
   "metadata": {
    "collapsed": true
   },
   "outputs": [],
   "source": [
    "train_L1=pd.merge(df,l1,on='ODINO')"
   ]
  },
  {
   "cell_type": "code",
   "execution_count": 251,
   "metadata": {
    "collapsed": false
   },
   "outputs": [
    {
     "data": {
      "text/html": [
       "<div>\n",
       "<table border=\"1\" class=\"dataframe\">\n",
       "  <thead>\n",
       "    <tr style=\"text-align: right;\">\n",
       "      <th></th>\n",
       "      <th>CMPLID</th>\n",
       "      <th>1</th>\n",
       "      <th>2</th>\n",
       "      <th>3</th>\n",
       "      <th>4</th>\n",
       "      <th>5</th>\n",
       "      <th>6</th>\n",
       "      <th>7</th>\n",
       "      <th>8</th>\n",
       "      <th>9</th>\n",
       "      <th>...</th>\n",
       "      <th>95</th>\n",
       "      <th>96</th>\n",
       "      <th>97</th>\n",
       "      <th>98</th>\n",
       "      <th>99</th>\n",
       "      <th>100</th>\n",
       "      <th>ODINO</th>\n",
       "      <th>COMPDESC</th>\n",
       "      <th>comp_desc_id</th>\n",
       "      <th>L1</th>\n",
       "    </tr>\n",
       "  </thead>\n",
       "  <tbody>\n",
       "    <tr>\n",
       "      <th>0</th>\n",
       "      <td>1042649</td>\n",
       "      <td>0.118763</td>\n",
       "      <td>0.544907</td>\n",
       "      <td>-0.102826</td>\n",
       "      <td>-1.201483</td>\n",
       "      <td>-0.378267</td>\n",
       "      <td>-0.281807</td>\n",
       "      <td>0.224272</td>\n",
       "      <td>-0.264937</td>\n",
       "      <td>-0.170182</td>\n",
       "      <td>...</td>\n",
       "      <td>-0.187273</td>\n",
       "      <td>-0.234017</td>\n",
       "      <td>-0.043267</td>\n",
       "      <td>0.398510</td>\n",
       "      <td>0.527573</td>\n",
       "      <td>-0.010714</td>\n",
       "      <td>10566324</td>\n",
       "      <td>ELECTRONIC STABILITY CONTROL</td>\n",
       "      <td>48</td>\n",
       "      <td>34</td>\n",
       "    </tr>\n",
       "    <tr>\n",
       "      <th>1</th>\n",
       "      <td>1042649</td>\n",
       "      <td>0.118763</td>\n",
       "      <td>0.544907</td>\n",
       "      <td>-0.102826</td>\n",
       "      <td>-1.201483</td>\n",
       "      <td>-0.378267</td>\n",
       "      <td>-0.281807</td>\n",
       "      <td>0.224272</td>\n",
       "      <td>-0.264937</td>\n",
       "      <td>-0.170182</td>\n",
       "      <td>...</td>\n",
       "      <td>-0.187273</td>\n",
       "      <td>-0.234017</td>\n",
       "      <td>-0.043267</td>\n",
       "      <td>0.398510</td>\n",
       "      <td>0.527573</td>\n",
       "      <td>-0.010714</td>\n",
       "      <td>10566324</td>\n",
       "      <td>ELECTRONIC STABILITY CONTROL</td>\n",
       "      <td>48</td>\n",
       "      <td>34</td>\n",
       "    </tr>\n",
       "    <tr>\n",
       "      <th>2</th>\n",
       "      <td>1042649</td>\n",
       "      <td>0.118763</td>\n",
       "      <td>0.544907</td>\n",
       "      <td>-0.102826</td>\n",
       "      <td>-1.201483</td>\n",
       "      <td>-0.378267</td>\n",
       "      <td>-0.281807</td>\n",
       "      <td>0.224272</td>\n",
       "      <td>-0.264937</td>\n",
       "      <td>-0.170182</td>\n",
       "      <td>...</td>\n",
       "      <td>-0.187273</td>\n",
       "      <td>-0.234017</td>\n",
       "      <td>-0.043267</td>\n",
       "      <td>0.398510</td>\n",
       "      <td>0.527573</td>\n",
       "      <td>-0.010714</td>\n",
       "      <td>10566324</td>\n",
       "      <td>ELECTRONIC STABILITY CONTROL</td>\n",
       "      <td>48</td>\n",
       "      <td>34</td>\n",
       "    </tr>\n",
       "    <tr>\n",
       "      <th>3</th>\n",
       "      <td>1042648</td>\n",
       "      <td>-0.004839</td>\n",
       "      <td>-0.373360</td>\n",
       "      <td>0.754713</td>\n",
       "      <td>0.272901</td>\n",
       "      <td>-0.322312</td>\n",
       "      <td>-0.197168</td>\n",
       "      <td>-0.312100</td>\n",
       "      <td>-0.187853</td>\n",
       "      <td>0.207566</td>\n",
       "      <td>...</td>\n",
       "      <td>0.263224</td>\n",
       "      <td>0.265058</td>\n",
       "      <td>-0.487920</td>\n",
       "      <td>-0.005418</td>\n",
       "      <td>0.052286</td>\n",
       "      <td>0.071508</td>\n",
       "      <td>10566324</td>\n",
       "      <td>SERVICE BRAKES</td>\n",
       "      <td>42</td>\n",
       "      <td>34</td>\n",
       "    </tr>\n",
       "    <tr>\n",
       "      <th>4</th>\n",
       "      <td>1042648</td>\n",
       "      <td>-0.004839</td>\n",
       "      <td>-0.373360</td>\n",
       "      <td>0.754713</td>\n",
       "      <td>0.272901</td>\n",
       "      <td>-0.322312</td>\n",
       "      <td>-0.197168</td>\n",
       "      <td>-0.312100</td>\n",
       "      <td>-0.187853</td>\n",
       "      <td>0.207566</td>\n",
       "      <td>...</td>\n",
       "      <td>0.263224</td>\n",
       "      <td>0.265058</td>\n",
       "      <td>-0.487920</td>\n",
       "      <td>-0.005418</td>\n",
       "      <td>0.052286</td>\n",
       "      <td>0.071508</td>\n",
       "      <td>10566324</td>\n",
       "      <td>SERVICE BRAKES</td>\n",
       "      <td>42</td>\n",
       "      <td>34</td>\n",
       "    </tr>\n",
       "  </tbody>\n",
       "</table>\n",
       "<p>5 rows × 105 columns</p>\n",
       "</div>"
      ],
      "text/plain": [
       "    CMPLID         1         2         3         4         5         6  \\\n",
       "0  1042649  0.118763  0.544907 -0.102826 -1.201483 -0.378267 -0.281807   \n",
       "1  1042649  0.118763  0.544907 -0.102826 -1.201483 -0.378267 -0.281807   \n",
       "2  1042649  0.118763  0.544907 -0.102826 -1.201483 -0.378267 -0.281807   \n",
       "3  1042648 -0.004839 -0.373360  0.754713  0.272901 -0.322312 -0.197168   \n",
       "4  1042648 -0.004839 -0.373360  0.754713  0.272901 -0.322312 -0.197168   \n",
       "\n",
       "          7         8         9 ...        95        96        97        98  \\\n",
       "0  0.224272 -0.264937 -0.170182 ... -0.187273 -0.234017 -0.043267  0.398510   \n",
       "1  0.224272 -0.264937 -0.170182 ... -0.187273 -0.234017 -0.043267  0.398510   \n",
       "2  0.224272 -0.264937 -0.170182 ... -0.187273 -0.234017 -0.043267  0.398510   \n",
       "3 -0.312100 -0.187853  0.207566 ...  0.263224  0.265058 -0.487920 -0.005418   \n",
       "4 -0.312100 -0.187853  0.207566 ...  0.263224  0.265058 -0.487920 -0.005418   \n",
       "\n",
       "         99       100     ODINO                      COMPDESC  comp_desc_id  \\\n",
       "0  0.527573 -0.010714  10566324  ELECTRONIC STABILITY CONTROL            48   \n",
       "1  0.527573 -0.010714  10566324  ELECTRONIC STABILITY CONTROL            48   \n",
       "2  0.527573 -0.010714  10566324  ELECTRONIC STABILITY CONTROL            48   \n",
       "3  0.052286  0.071508  10566324                SERVICE BRAKES            42   \n",
       "4  0.052286  0.071508  10566324                SERVICE BRAKES            42   \n",
       "\n",
       "   L1  \n",
       "0  34  \n",
       "1  34  \n",
       "2  34  \n",
       "3  34  \n",
       "4  34  \n",
       "\n",
       "[5 rows x 105 columns]"
      ]
     },
     "execution_count": 251,
     "metadata": {},
     "output_type": "execute_result"
    }
   ],
   "source": [
    "train_L1.head()"
   ]
  },
  {
   "cell_type": "code",
   "execution_count": 54,
   "metadata": {
    "collapsed": false
   },
   "outputs": [
    {
     "data": {
      "text/plain": [
       "10393"
      ]
     },
     "execution_count": 54,
     "metadata": {},
     "output_type": "execute_result"
    }
   ],
   "source": [
    "#https://chrisalbon.com/python/pandas_list_unique_values_in_column.html\n",
    "len(train_L1.ODINO.unique() )"
   ]
  },
  {
   "cell_type": "code",
   "execution_count": null,
   "metadata": {
    "collapsed": true
   },
   "outputs": [],
   "source": []
  },
  {
   "cell_type": "code",
   "execution_count": null,
   "metadata": {
    "collapsed": true
   },
   "outputs": [],
   "source": []
  },
  {
   "cell_type": "code",
   "execution_count": null,
   "metadata": {
    "collapsed": true
   },
   "outputs": [],
   "source": []
  },
  {
   "cell_type": "code",
   "execution_count": null,
   "metadata": {
    "collapsed": true
   },
   "outputs": [],
   "source": []
  },
  {
   "cell_type": "code",
   "execution_count": null,
   "metadata": {
    "collapsed": true
   },
   "outputs": [],
   "source": []
  },
  {
   "cell_type": "code",
   "execution_count": null,
   "metadata": {
    "collapsed": true
   },
   "outputs": [],
   "source": []
  },
  {
   "cell_type": "code",
   "execution_count": null,
   "metadata": {
    "collapsed": true
   },
   "outputs": [],
   "source": []
  },
  {
   "cell_type": "code",
   "execution_count": null,
   "metadata": {
    "collapsed": true
   },
   "outputs": [],
   "source": []
  }
 ],
 "metadata": {
  "kernelspec": {
   "display_name": "Python 3",
   "language": "python",
   "name": "python3"
  },
  "language_info": {
   "codemirror_mode": {
    "name": "ipython",
    "version": 3
   },
   "file_extension": ".py",
   "mimetype": "text/x-python",
   "name": "python",
   "nbconvert_exporter": "python",
   "pygments_lexer": "ipython3",
   "version": "3.5.1"
  }
 },
 "nbformat": 4,
 "nbformat_minor": 0
}
