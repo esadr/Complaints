{
 "cells": [
  {
   "cell_type": "markdown",
   "metadata": {},
   "source": [
    "## remove lines without valid ODINO (e.g. empty)"
   ]
  },
  {
   "cell_type": "markdown",
   "metadata": {},
   "source": [
    "http://stackoverflow.com/a/38627863/2674061\n",
    "shell commands over the FLAT_CMPL file\n",
    "\n",
    "'''\n",
    "cat FLAT_CMPL.txt | awk -F\"\\t\" '{print $2}'  | grep -n ^$ | awk  -F\":\" '{print $1}'  > NA_CMPL\n",
    "'''\n",
    "\n",
    "remove the lines \n",
    "http://stackoverflow.com/a/38627863/2674061\n",
    "\n",
    "sed 's%$%d%' NA_CMPL  | sed -i -f - FLAT_CMPL.txt\n"
   ]
  },
  {
   "cell_type": "code",
   "execution_count": 2,
   "metadata": {
    "collapsed": false
   },
   "outputs": [],
   "source": [
    "import pandas as pd\n",
    "import numpy as np\n",
    "# alldata = pd.read_csv('./FLAT_CMPL.txt', sep='\\t',index_col=False, low_memory=False, encoding = \"ISO-8859-1\", error_bad_lines=False, names = [\"CMPLID\",\"ODINO\",\"MFR_NAME\",\"MAKETXT\",\"MODELTXT\",\"YEARTXT\",\"CRASH\",\"FAILDATE\",\"FIRE\",\"INJURED\",\"DEATHS\",\"COMPDESC\",\"CITY\",\"STATE\",\"VIN\",\"DATEA\",\"LDATE\",\"MILES\",\"OCCURENCES\",\"CDESCR\",\"CMPL_TYPE\",\"POLICE_RPT_YN\",\"PURCH_DT\",\"ORIG_OWNER_YN\",\"ANTI_BRAKES_YN\",\"CRUISE_CONT_YN\",\"NUM_CYLS\",\"DRIVE_TRAIN\",\"FUEL_SYS\",\"FUEL_TYPE\",\"TRANS_TYPE\",\"VEH_SPEED\",\"DOT\",\"TIRE_SIZE\",\"LOC_OF_TIRE\",\"TIRE_FAIL_TYPE\",\"ORIG_EQUIP_YN\",\"MANUF_DT\",\"SEAT_TYPE\",\"RESTRAINT_TYPE\",\"DEALER_NAME\",\"DEALER_TEL\",\"DEALER_CITY\",\"DEALER_STATE\",\"DEALER_ZIP\",\"PROD_TYPE\",\"REPAIRED_YN\",\"MEDICAL_ATTN\",\"VEHICLES_TOWED_YN\"],dtype={'ODINO':np.int32})\n",
    "alldata = pd.read_table('./FLAT_CMPL.txt', sep='\\t',index_col=False, low_memory=False, encoding = \"ISO-8859-1\", error_bad_lines=False, names = [\"CMPLID\",\"ODINO\",\"MFR_NAME\",\"MAKETXT\",\"MODELTXT\",\"YEARTXT\",\"CRASH\",\"FAILDATE\",\"FIRE\",\"INJURED\",\"DEATHS\",\"COMPDESC\",\"CITY\",\"STATE\",\"VIN\",\"DATEA\",\"LDATE\",\"MILES\",\"OCCURENCES\",\"CDESCR\",\"CMPL_TYPE\",\"POLICE_RPT_YN\",\"PURCH_DT\",\"ORIG_OWNER_YN\",\"ANTI_BRAKES_YN\",\"CRUISE_CONT_YN\",\"NUM_CYLS\",\"DRIVE_TRAIN\",\"FUEL_SYS\",\"FUEL_TYPE\",\"TRANS_TYPE\",\"VEH_SPEED\",\"DOT\",\"TIRE_SIZE\",\"LOC_OF_TIRE\",\"TIRE_FAIL_TYPE\",\"ORIG_EQUIP_YN\",\"MANUF_DT\",\"SEAT_TYPE\",\"RESTRAINT_TYPE\",\"DEALER_NAME\",\"DEALER_TEL\",\"DEALER_CITY\",\"DEALER_STATE\",\"DEALER_ZIP\",\"PROD_TYPE\",\"REPAIRED_YN\",\"MEDICAL_ATTN\",\"VEHICLES_TOWED_YN\"],dtype={'ODINO':np.int32})"
   ]
  },
  {
   "cell_type": "code",
   "execution_count": 15,
   "metadata": {
    "collapsed": true
   },
   "outputs": [],
   "source": [
    "# alldata.columns = [\"CMPLID\",\"ODINO\",\"MFR_NAME\",\"MAKETXT\",\"MODELTXT\",\"YEARTXT\",\"CRASH\",\"FAILDATE\",\"FIRE\",\"INJURED\",\"DEATHS\",\"COMPDESC\",\"CITY\",\"STATE\",\"VIN\",\"DATEA\",\"LDATE\",\"MILES\",\"OCCURENCES\",\"CDESCR\",\"CMPL_TYPE\",\"POLICE_RPT_YN\",\"PURCH_DT\",\"ORIG_OWNER_YN\",\"ANTI_BRAKES_YN\",\"CRUISE_CONT_YN\",\"NUM_CYLS\",\"DRIVE_TRAIN\",\"FUEL_SYS\",\"FUEL_TYPE\",\"TRANS_TYPE\",\"VEH_SPEED\",\"DOT\",\"TIRE_SIZE\",\"LOC_OF_TIRE\",\"TIRE_FAIL_TYPE\",\"ORIG_EQUIP_YN\",\"MANUF_DT\",\"SEAT_TYPE\",\"RESTRAINT_TYPE\",\"DEALER_NAME\",\"DEALER_TEL\",\"DEALER_CITY\",\"DEALER_STATE\",\"DEALER_ZIP\",\"PROD_TYPE\",\"REPAIRED_YN\",\"MEDICAL_ATTN\",\"VEHICLES_TOWED_YN\"]"
   ]
  },
  {
   "cell_type": "code",
   "execution_count": 5,
   "metadata": {
    "collapsed": false
   },
   "outputs": [
    {
     "data": {
      "text/plain": [
       "Index(['CMPLID', 'ODINO', 'MFR_NAME', 'MAKETXT', 'MODELTXT', 'YEARTXT',\n",
       "       'CRASH', 'FAILDATE', 'FIRE', 'INJURED', 'DEATHS', 'COMPDESC', 'CITY',\n",
       "       'STATE', 'VIN', 'DATEA', 'LDATE', 'MILES', 'OCCURENCES', 'CDESCR',\n",
       "       'CMPL_TYPE', 'POLICE_RPT_YN', 'PURCH_DT', 'ORIG_OWNER_YN',\n",
       "       'ANTI_BRAKES_YN', 'CRUISE_CONT_YN', 'NUM_CYLS', 'DRIVE_TRAIN',\n",
       "       'FUEL_SYS', 'FUEL_TYPE', 'TRANS_TYPE', 'VEH_SPEED', 'DOT', 'TIRE_SIZE',\n",
       "       'LOC_OF_TIRE', 'TIRE_FAIL_TYPE', 'ORIG_EQUIP_YN', 'MANUF_DT',\n",
       "       'SEAT_TYPE', 'RESTRAINT_TYPE', 'DEALER_NAME', 'DEALER_TEL',\n",
       "       'DEALER_CITY', 'DEALER_STATE', 'DEALER_ZIP', 'PROD_TYPE', 'REPAIRED_YN',\n",
       "       'MEDICAL_ATTN', 'VEHICLES_TOWED_YN'],\n",
       "      dtype='object')"
      ]
     },
     "execution_count": 5,
     "metadata": {},
     "output_type": "execute_result"
    }
   ],
   "source": [
    "alldata.columns"
   ]
  },
  {
   "cell_type": "code",
   "execution_count": null,
   "metadata": {
    "collapsed": true
   },
   "outputs": [],
   "source": []
  },
  {
   "cell_type": "code",
   "execution_count": 3,
   "metadata": {
    "collapsed": true
   },
   "outputs": [],
   "source": [
    "cmp_keys=alldata.filter(items=['CMPLID', 'ODINO']) #http://pandas.pydata.org/pandas-docs/stable/generated/pandas.DataFrame.filter.html"
   ]
  },
  {
   "cell_type": "code",
   "execution_count": null,
   "metadata": {
    "collapsed": true
   },
   "outputs": [],
   "source": []
  },
  {
   "cell_type": "code",
   "execution_count": 4,
   "metadata": {
    "collapsed": false
   },
   "outputs": [
    {
     "data": {
      "text/html": [
       "<div>\n",
       "<table border=\"1\" class=\"dataframe\">\n",
       "  <thead>\n",
       "    <tr style=\"text-align: right;\">\n",
       "      <th></th>\n",
       "      <th>CMPLID</th>\n",
       "      <th>ODINO</th>\n",
       "    </tr>\n",
       "  </thead>\n",
       "  <tbody>\n",
       "    <tr>\n",
       "      <th>0</th>\n",
       "      <td>1</td>\n",
       "      <td>958164</td>\n",
       "    </tr>\n",
       "    <tr>\n",
       "      <th>1</th>\n",
       "      <td>2</td>\n",
       "      <td>958156</td>\n",
       "    </tr>\n",
       "    <tr>\n",
       "      <th>2</th>\n",
       "      <td>3</td>\n",
       "      <td>958124</td>\n",
       "    </tr>\n",
       "    <tr>\n",
       "      <th>3</th>\n",
       "      <td>4</td>\n",
       "      <td>958122</td>\n",
       "    </tr>\n",
       "    <tr>\n",
       "      <th>4</th>\n",
       "      <td>5</td>\n",
       "      <td>958247</td>\n",
       "    </tr>\n",
       "  </tbody>\n",
       "</table>\n",
       "</div>"
      ],
      "text/plain": [
       "   CMPLID   ODINO\n",
       "0       1  958164\n",
       "1       2  958156\n",
       "2       3  958124\n",
       "3       4  958122\n",
       "4       5  958247"
      ]
     },
     "execution_count": 4,
     "metadata": {},
     "output_type": "execute_result"
    }
   ],
   "source": [
    "cmp_keys.head()"
   ]
  },
  {
   "cell_type": "code",
   "execution_count": 12,
   "metadata": {
    "collapsed": false
   },
   "outputs": [
    {
     "name": "stdout",
     "output_type": "stream",
     "text": [
      "not 2.0\n",
      "append 2.0\n"
     ]
    },
    {
     "ename": "TypeError",
     "evalue": "list indices must be integers or slices, not numpy.float64",
     "output_type": "error",
     "traceback": [
      "\u001b[1;31m---------------------------------------------------------------------------\u001b[0m",
      "\u001b[1;31mTypeError\u001b[0m                                 Traceback (most recent call last)",
      "\u001b[1;32m<ipython-input-12-8583e0c6ad1b>\u001b[0m in \u001b[0;36m<module>\u001b[1;34m()\u001b[0m\n\u001b[0;32m      8\u001b[0m \u001b[1;33m\u001b[0m\u001b[0m\n\u001b[0;32m      9\u001b[0m     \u001b[0mprint\u001b[0m\u001b[1;33m(\u001b[0m\u001b[1;34m\"append \"\u001b[0m\u001b[1;33m+\u001b[0m \u001b[0mstr\u001b[0m\u001b[1;33m(\u001b[0m\u001b[0mcmplid\u001b[0m\u001b[1;33m)\u001b[0m\u001b[1;33m)\u001b[0m\u001b[1;33m\u001b[0m\u001b[0m\n\u001b[1;32m---> 10\u001b[1;33m     \u001b[0mdic_cmplid_odino\u001b[0m\u001b[1;33m[\u001b[0m\u001b[0mcmplid\u001b[0m\u001b[1;33m]\u001b[0m\u001b[1;33m.\u001b[0m\u001b[0mappend\u001b[0m\u001b[1;33m(\u001b[0m\u001b[0modino\u001b[0m\u001b[1;33m)\u001b[0m\u001b[1;33m\u001b[0m\u001b[0m\n\u001b[0m\u001b[0;32m     11\u001b[0m \u001b[1;33m\u001b[0m\u001b[0m\n",
      "\u001b[1;31mTypeError\u001b[0m: list indices must be integers or slices, not numpy.float64"
     ]
    }
   ],
   "source": [
    "# dic_cmplid_odino={}\n",
    "# for i, row in enumerate(cmp_keys.values):\n",
    "# #     idx=mapping_summary.index[i]\n",
    "#     cmplid,odino = row\n",
    "#     if(cmplid not in dic_cmplid_odino):\n",
    "#         print(\"not \"+ str(cmplid))\n",
    "#         dic_cmplid_odino[]=[]\n",
    "    \n",
    "#     print(\"append \"+ str(cmplid))\n",
    "#     dic_cmplid_odino[cmplid].append(odino)\n",
    "\n"
   ]
  },
  {
   "cell_type": "code",
   "execution_count": 11,
   "metadata": {
    "collapsed": false
   },
   "outputs": [
    {
     "data": {
      "text/plain": [
       "[]"
      ]
     },
     "execution_count": 11,
     "metadata": {},
     "output_type": "execute_result"
    }
   ],
   "source": [
    "dic_cmplid_odino"
   ]
  },
  {
   "cell_type": "code",
   "execution_count": null,
   "metadata": {
    "collapsed": true
   },
   "outputs": [],
   "source": []
  },
  {
   "cell_type": "code",
   "execution_count": null,
   "metadata": {
    "collapsed": true
   },
   "outputs": [],
   "source": []
  },
  {
   "cell_type": "code",
   "execution_count": 6,
   "metadata": {
    "collapsed": true
   },
   "outputs": [],
   "source": [
    "tmp=alldata.filter(items=['COMPDESC']) #http://pandas.pydata.org/pandas-docs/stable/generated/pandas.DataFrame.filter.html"
   ]
  },
  {
   "cell_type": "code",
   "execution_count": 7,
   "metadata": {
    "collapsed": false
   },
   "outputs": [
    {
     "data": {
      "text/html": [
       "<div>\n",
       "<table border=\"1\" class=\"dataframe\">\n",
       "  <thead>\n",
       "    <tr style=\"text-align: right;\">\n",
       "      <th></th>\n",
       "      <th>COMPDESC</th>\n",
       "    </tr>\n",
       "  </thead>\n",
       "  <tbody>\n",
       "    <tr>\n",
       "      <th>0</th>\n",
       "      <td>SERVICE BRAKES, HYDRAULIC:ANTILOCK</td>\n",
       "    </tr>\n",
       "    <tr>\n",
       "      <th>1</th>\n",
       "      <td>PARKING BRAKE:CONVENTIONAL</td>\n",
       "    </tr>\n",
       "    <tr>\n",
       "      <th>2</th>\n",
       "      <td>AIR BAGS:FRONTAL</td>\n",
       "    </tr>\n",
       "    <tr>\n",
       "      <th>3</th>\n",
       "      <td>SUSPENSION</td>\n",
       "    </tr>\n",
       "    <tr>\n",
       "      <th>4</th>\n",
       "      <td>SUSPENSION:FRONT</td>\n",
       "    </tr>\n",
       "  </tbody>\n",
       "</table>\n",
       "</div>"
      ],
      "text/plain": [
       "                             COMPDESC\n",
       "0  SERVICE BRAKES, HYDRAULIC:ANTILOCK\n",
       "1          PARKING BRAKE:CONVENTIONAL\n",
       "2                    AIR BAGS:FRONTAL\n",
       "3                          SUSPENSION\n",
       "4                    SUSPENSION:FRONT"
      ]
     },
     "execution_count": 7,
     "metadata": {},
     "output_type": "execute_result"
    }
   ],
   "source": [
    "tmp.head()"
   ]
  },
  {
   "cell_type": "code",
   "execution_count": 8,
   "metadata": {
    "collapsed": false
   },
   "outputs": [
    {
     "data": {
      "text/plain": [
       "410"
      ]
     },
     "execution_count": 8,
     "metadata": {},
     "output_type": "execute_result"
    }
   ],
   "source": [
    "len(tmp.COMPDESC.unique() )"
   ]
  },
  {
   "cell_type": "code",
   "execution_count": null,
   "metadata": {
    "collapsed": true
   },
   "outputs": [],
   "source": []
  },
  {
   "cell_type": "code",
   "execution_count": null,
   "metadata": {
    "collapsed": true
   },
   "outputs": [],
   "source": []
  },
  {
   "cell_type": "code",
   "execution_count": null,
   "metadata": {
    "collapsed": true
   },
   "outputs": [],
   "source": []
  },
  {
   "cell_type": "code",
   "execution_count": null,
   "metadata": {
    "collapsed": true
   },
   "outputs": [],
   "source": []
  },
  {
   "cell_type": "code",
   "execution_count": null,
   "metadata": {
    "collapsed": true
   },
   "outputs": [],
   "source": []
  },
  {
   "cell_type": "code",
   "execution_count": null,
   "metadata": {
    "collapsed": true
   },
   "outputs": [],
   "source": []
  },
  {
   "cell_type": "code",
   "execution_count": null,
   "metadata": {
    "collapsed": true
   },
   "outputs": [],
   "source": []
  },
  {
   "cell_type": "code",
   "execution_count": null,
   "metadata": {
    "collapsed": true
   },
   "outputs": [],
   "source": []
  },
  {
   "cell_type": "code",
   "execution_count": null,
   "metadata": {
    "collapsed": true
   },
   "outputs": [],
   "source": []
  },
  {
   "cell_type": "code",
   "execution_count": null,
   "metadata": {
    "collapsed": true
   },
   "outputs": [],
   "source": []
  }
 ],
 "metadata": {
  "kernelspec": {
   "display_name": "Python 3",
   "language": "python",
   "name": "python3"
  },
  "language_info": {
   "codemirror_mode": {
    "name": "ipython",
    "version": 3
   },
   "file_extension": ".py",
   "mimetype": "text/x-python",
   "name": "python",
   "nbconvert_exporter": "python",
   "pygments_lexer": "ipython3",
   "version": "3.5.1"
  }
 },
 "nbformat": 4,
 "nbformat_minor": 0
}
