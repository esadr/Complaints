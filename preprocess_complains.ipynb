{
 "cells": [
  {
   "cell_type": "code",
   "execution_count": 1,
   "metadata": {
    "collapsed": false
   },
   "outputs": [
    {
     "name": "stderr",
     "output_type": "stream",
     "text": [
      "b'Skipping line 562494: expected 49 fields, saw 70\\nSkipping line 1032227: expected 49 fields, saw 50\\nSkipping line 1208327: expected 49 fields, saw 50\\nSkipping line 1293122: expected 49 fields, saw 50\\nSkipping line 1297994: expected 49 fields, saw 50\\nSkipping line 1297995: expected 49 fields, saw 50\\nSkipping line 1297996: expected 49 fields, saw 50\\nSkipping line 1317865: expected 49 fields, saw 50\\nSkipping line 1322777: expected 49 fields, saw 50\\nSkipping line 1324685: expected 49 fields, saw 50\\nSkipping line 1331381: expected 49 fields, saw 50\\nSkipping line 1334708: expected 49 fields, saw 50\\n'\n"
     ]
    }
   ],
   "source": [
    "import pandas as pd\n",
    "alldata = pd.read_csv('./FLAT_CMPL.txt', sep='\\t',index_col=False, low_memory=False, encoding = \"ISO-8859-1\", error_bad_lines=False)\n",
    "# alldata = pd.read_csv('./test', sep='\\t',index_col=False, low_memory=False, encoding = \"ISO-8859-1\")"
   ]
  },
  {
   "cell_type": "code",
   "execution_count": 2,
   "metadata": {
    "collapsed": false
   },
   "outputs": [
    {
     "data": {
      "text/html": [
       "<div>\n",
       "<table border=\"1\" class=\"dataframe\">\n",
       "  <thead>\n",
       "    <tr style=\"text-align: right;\">\n",
       "      <th></th>\n",
       "      <th>1</th>\n",
       "      <th>958164</th>\n",
       "      <th>TOYOTA MOTOR CORPORATION</th>\n",
       "      <th>TOYOTA</th>\n",
       "      <th>LAND CRUISER</th>\n",
       "      <th>1994</th>\n",
       "      <th>Unnamed: 6</th>\n",
       "      <th>19941223</th>\n",
       "      <th>N</th>\n",
       "      <th>0</th>\n",
       "      <th>...</th>\n",
       "      <th>Unnamed: 39</th>\n",
       "      <th>Unnamed: 40</th>\n",
       "      <th>Unnamed: 41</th>\n",
       "      <th>Unnamed: 42</th>\n",
       "      <th>Unnamed: 43</th>\n",
       "      <th>Unnamed: 44</th>\n",
       "      <th>V</th>\n",
       "      <th>Unnamed: 46</th>\n",
       "      <th>Unnamed: 47</th>\n",
       "      <th>Unnamed: 48</th>\n",
       "    </tr>\n",
       "  </thead>\n",
       "  <tbody>\n",
       "    <tr>\n",
       "      <th>0</th>\n",
       "      <td>2</td>\n",
       "      <td>958156.0</td>\n",
       "      <td>TOYOTA MOTOR CORPORATION</td>\n",
       "      <td>TOYOTA</td>\n",
       "      <td>PASEO</td>\n",
       "      <td>1994.0</td>\n",
       "      <td>Y</td>\n",
       "      <td>19941226.0</td>\n",
       "      <td>N</td>\n",
       "      <td>0.0</td>\n",
       "      <td>...</td>\n",
       "      <td>NaN</td>\n",
       "      <td>NaN</td>\n",
       "      <td>NaN</td>\n",
       "      <td>NaN</td>\n",
       "      <td>NaN</td>\n",
       "      <td>NaN</td>\n",
       "      <td>V</td>\n",
       "      <td>NaN</td>\n",
       "      <td>NaN</td>\n",
       "      <td>NaN</td>\n",
       "    </tr>\n",
       "    <tr>\n",
       "      <th>1</th>\n",
       "      <td>3</td>\n",
       "      <td>958124.0</td>\n",
       "      <td>TOYOTA MOTOR CORPORATION</td>\n",
       "      <td>TOYOTA</td>\n",
       "      <td>COROLLA</td>\n",
       "      <td>1994.0</td>\n",
       "      <td>Y</td>\n",
       "      <td>19941128.0</td>\n",
       "      <td>N</td>\n",
       "      <td>0.0</td>\n",
       "      <td>...</td>\n",
       "      <td>NaN</td>\n",
       "      <td>NaN</td>\n",
       "      <td>NaN</td>\n",
       "      <td>NaN</td>\n",
       "      <td>NaN</td>\n",
       "      <td>NaN</td>\n",
       "      <td>V</td>\n",
       "      <td>NaN</td>\n",
       "      <td>NaN</td>\n",
       "      <td>NaN</td>\n",
       "    </tr>\n",
       "    <tr>\n",
       "      <th>2</th>\n",
       "      <td>4</td>\n",
       "      <td>958122.0</td>\n",
       "      <td>NISSAN NORTH AMERICA, INC.</td>\n",
       "      <td>NISSAN</td>\n",
       "      <td>MAXIMA</td>\n",
       "      <td>1994.0</td>\n",
       "      <td>NaN</td>\n",
       "      <td>19950103.0</td>\n",
       "      <td>N</td>\n",
       "      <td>0.0</td>\n",
       "      <td>...</td>\n",
       "      <td>NaN</td>\n",
       "      <td>NaN</td>\n",
       "      <td>NaN</td>\n",
       "      <td>NaN</td>\n",
       "      <td>NaN</td>\n",
       "      <td>NaN</td>\n",
       "      <td>V</td>\n",
       "      <td>NaN</td>\n",
       "      <td>NaN</td>\n",
       "      <td>NaN</td>\n",
       "    </tr>\n",
       "    <tr>\n",
       "      <th>3</th>\n",
       "      <td>5</td>\n",
       "      <td>958247.0</td>\n",
       "      <td>NISSAN NORTH AMERICA, INC.</td>\n",
       "      <td>NISSAN</td>\n",
       "      <td>PATHFINDER</td>\n",
       "      <td>1994.0</td>\n",
       "      <td>NaN</td>\n",
       "      <td>NaN</td>\n",
       "      <td>N</td>\n",
       "      <td>0.0</td>\n",
       "      <td>...</td>\n",
       "      <td>NaN</td>\n",
       "      <td>NaN</td>\n",
       "      <td>NaN</td>\n",
       "      <td>NaN</td>\n",
       "      <td>NaN</td>\n",
       "      <td>NaN</td>\n",
       "      <td>V</td>\n",
       "      <td>NaN</td>\n",
       "      <td>NaN</td>\n",
       "      <td>NaN</td>\n",
       "    </tr>\n",
       "    <tr>\n",
       "      <th>4</th>\n",
       "      <td>6</td>\n",
       "      <td>958161.0</td>\n",
       "      <td>GERRY</td>\n",
       "      <td>GERRY</td>\n",
       "      <td>CHILD SAFETY SEAT</td>\n",
       "      <td>1993.0</td>\n",
       "      <td>NaN</td>\n",
       "      <td>19941231.0</td>\n",
       "      <td>NaN</td>\n",
       "      <td>0.0</td>\n",
       "      <td>...</td>\n",
       "      <td>NaN</td>\n",
       "      <td>NaN</td>\n",
       "      <td>NaN</td>\n",
       "      <td>NaN</td>\n",
       "      <td>NaN</td>\n",
       "      <td>NaN</td>\n",
       "      <td>C</td>\n",
       "      <td>NaN</td>\n",
       "      <td>NaN</td>\n",
       "      <td>NaN</td>\n",
       "    </tr>\n",
       "  </tbody>\n",
       "</table>\n",
       "<p>5 rows × 49 columns</p>\n",
       "</div>"
      ],
      "text/plain": [
       "   1    958164    TOYOTA MOTOR CORPORATION  TOYOTA       LAND CRUISER    1994  \\\n",
       "0  2  958156.0    TOYOTA MOTOR CORPORATION  TOYOTA              PASEO  1994.0   \n",
       "1  3  958124.0    TOYOTA MOTOR CORPORATION  TOYOTA            COROLLA  1994.0   \n",
       "2  4  958122.0  NISSAN NORTH AMERICA, INC.  NISSAN             MAXIMA  1994.0   \n",
       "3  5  958247.0  NISSAN NORTH AMERICA, INC.  NISSAN         PATHFINDER  1994.0   \n",
       "4  6  958161.0                      GERRY    GERRY  CHILD SAFETY SEAT  1993.0   \n",
       "\n",
       "  Unnamed: 6    19941223    N    0     ...      Unnamed: 39 Unnamed: 40  \\\n",
       "0          Y  19941226.0    N  0.0     ...              NaN         NaN   \n",
       "1          Y  19941128.0    N  0.0     ...              NaN         NaN   \n",
       "2        NaN  19950103.0    N  0.0     ...              NaN         NaN   \n",
       "3        NaN         NaN    N  0.0     ...              NaN         NaN   \n",
       "4        NaN  19941231.0  NaN  0.0     ...              NaN         NaN   \n",
       "\n",
       "  Unnamed: 41 Unnamed: 42 Unnamed: 43  Unnamed: 44  V  Unnamed: 46  \\\n",
       "0         NaN         NaN         NaN          NaN  V          NaN   \n",
       "1         NaN         NaN         NaN          NaN  V          NaN   \n",
       "2         NaN         NaN         NaN          NaN  V          NaN   \n",
       "3         NaN         NaN         NaN          NaN  V          NaN   \n",
       "4         NaN         NaN         NaN          NaN  C          NaN   \n",
       "\n",
       "   Unnamed: 47 Unnamed: 48  \n",
       "0          NaN         NaN  \n",
       "1          NaN         NaN  \n",
       "2          NaN         NaN  \n",
       "3          NaN         NaN  \n",
       "4          NaN         NaN  \n",
       "\n",
       "[5 rows x 49 columns]"
      ]
     },
     "execution_count": 2,
     "metadata": {},
     "output_type": "execute_result"
    }
   ],
   "source": [
    "alldata.head()\n"
   ]
  },
  {
   "cell_type": "markdown",
   "metadata": {},
   "source": [
    "#### rename the columns"
   ]
  },
  {
   "cell_type": "code",
   "execution_count": 3,
   "metadata": {
    "collapsed": true
   },
   "outputs": [],
   "source": [
    "alldata.columns = [\"CMPLID\",\"ODINO\",\"MFR_NAME\",\"MAKETXT\",\"MODELTXT\",\"YEARTXT\",\"CRASH\",\"FAILDATE\",\"FIRE\",\"INJURED\",\"DEATHS\",\"COMPDESC\",\"CITY\",\"STATE\",\"VIN\",\"DATEA\",\"LDATE\",\"MILES\",\"OCCURENCES\",\"CDESCR\",\"CMPL_TYPE\",\"POLICE_RPT_YN\",\"PURCH_DT\",\"ORIG_OWNER_YN\",\"ANTI_BRAKES_YN\",\"CRUISE_CONT_YN\",\"NUM_CYLS\",\"DRIVE_TRAIN\",\"FUEL_SYS\",\"FUEL_TYPE\",\"TRANS_TYPE\",\"VEH_SPEED\",\"DOT\",\"TIRE_SIZE\",\"LOC_OF_TIRE\",\"TIRE_FAIL_TYPE\",\"ORIG_EQUIP_YN\",\"MANUF_DT\",\"SEAT_TYPE\",\"RESTRAINT_TYPE\",\"DEALER_NAME\",\"DEALER_TEL\",\"DEALER_CITY\",\"DEALER_STATE\",\"DEALER_ZIP\",\"PROD_TYPE\",\"REPAIRED_YN\",\"MEDICAL_ATTN\",\"VEHICLES_TOWED_YN\"]"
   ]
  },
  {
   "cell_type": "code",
   "execution_count": null,
   "metadata": {
    "collapsed": true
   },
   "outputs": [],
   "source": []
  },
  {
   "cell_type": "code",
   "execution_count": 4,
   "metadata": {
    "collapsed": false
   },
   "outputs": [
    {
     "data": {
      "text/plain": [
       "Index(['CMPLID', 'ODINO', 'MFR_NAME', 'MAKETXT', 'MODELTXT', 'YEARTXT',\n",
       "       'CRASH', 'FAILDATE', 'FIRE', 'INJURED', 'DEATHS', 'COMPDESC', 'CITY',\n",
       "       'STATE', 'VIN', 'DATEA', 'LDATE', 'MILES', 'OCCURENCES', 'CDESCR',\n",
       "       'CMPL_TYPE', 'POLICE_RPT_YN', 'PURCH_DT', 'ORIG_OWNER_YN',\n",
       "       'ANTI_BRAKES_YN', 'CRUISE_CONT_YN', 'NUM_CYLS', 'DRIVE_TRAIN',\n",
       "       'FUEL_SYS', 'FUEL_TYPE', 'TRANS_TYPE', 'VEH_SPEED', 'DOT', 'TIRE_SIZE',\n",
       "       'LOC_OF_TIRE', 'TIRE_FAIL_TYPE', 'ORIG_EQUIP_YN', 'MANUF_DT',\n",
       "       'SEAT_TYPE', 'RESTRAINT_TYPE', 'DEALER_NAME', 'DEALER_TEL',\n",
       "       'DEALER_CITY', 'DEALER_STATE', 'DEALER_ZIP', 'PROD_TYPE', 'REPAIRED_YN',\n",
       "       'MEDICAL_ATTN', 'VEHICLES_TOWED_YN'],\n",
       "      dtype='object')"
      ]
     },
     "execution_count": 4,
     "metadata": {},
     "output_type": "execute_result"
    }
   ],
   "source": [
    "alldata.columns"
   ]
  },
  {
   "cell_type": "code",
   "execution_count": null,
   "metadata": {
    "collapsed": true
   },
   "outputs": [],
   "source": []
  },
  {
   "cell_type": "code",
   "execution_count": 5,
   "metadata": {
    "collapsed": false
   },
   "outputs": [
    {
     "data": {
      "text/plain": [
       "1360058"
      ]
     },
     "execution_count": 5,
     "metadata": {},
     "output_type": "execute_result"
    }
   ],
   "source": [
    "len(alldata)"
   ]
  },
  {
   "cell_type": "code",
   "execution_count": null,
   "metadata": {
    "collapsed": true
   },
   "outputs": [],
   "source": []
  },
  {
   "cell_type": "markdown",
   "metadata": {
    "collapsed": true
   },
   "source": [
    "##### filter the CDE_SCR column"
   ]
  },
  {
   "cell_type": "code",
   "execution_count": 6,
   "metadata": {
    "collapsed": true
   },
   "outputs": [],
   "source": [
    "desc=alldata.sort_values(['CDESCR'])\n",
    "\n",
    "a=desc.duplicated('CDESCR')\n",
    "b=a[a==True]"
   ]
  },
  {
   "cell_type": "code",
   "execution_count": 7,
   "metadata": {
    "collapsed": false
   },
   "outputs": [
    {
     "data": {
      "text/plain": [
       "345011"
      ]
     },
     "execution_count": 7,
     "metadata": {},
     "output_type": "execute_result"
    }
   ],
   "source": [
    "b.count()"
   ]
  },
  {
   "cell_type": "code",
   "execution_count": 8,
   "metadata": {
    "collapsed": false
   },
   "outputs": [
    {
     "data": {
      "text/html": [
       "<div>\n",
       "<table border=\"1\" class=\"dataframe\">\n",
       "  <thead>\n",
       "    <tr style=\"text-align: right;\">\n",
       "      <th></th>\n",
       "      <th>CMPLID</th>\n",
       "      <th>ODINO</th>\n",
       "      <th>MFR_NAME</th>\n",
       "      <th>MAKETXT</th>\n",
       "      <th>MODELTXT</th>\n",
       "      <th>YEARTXT</th>\n",
       "      <th>CRASH</th>\n",
       "      <th>FAILDATE</th>\n",
       "      <th>FIRE</th>\n",
       "      <th>INJURED</th>\n",
       "      <th>...</th>\n",
       "      <th>RESTRAINT_TYPE</th>\n",
       "      <th>DEALER_NAME</th>\n",
       "      <th>DEALER_TEL</th>\n",
       "      <th>DEALER_CITY</th>\n",
       "      <th>DEALER_STATE</th>\n",
       "      <th>DEALER_ZIP</th>\n",
       "      <th>PROD_TYPE</th>\n",
       "      <th>REPAIRED_YN</th>\n",
       "      <th>MEDICAL_ATTN</th>\n",
       "      <th>VEHICLES_TOWED_YN</th>\n",
       "    </tr>\n",
       "  </thead>\n",
       "  <tbody>\n",
       "    <tr>\n",
       "      <th>1031017</th>\n",
       "      <td>1031223</td>\n",
       "      <td>10558399.0</td>\n",
       "      <td>General Motors LLC</td>\n",
       "      <td>CHEVROLET</td>\n",
       "      <td>SILVERADO 1500</td>\n",
       "      <td>1999.0</td>\n",
       "      <td>N</td>\n",
       "      <td>20101001.0</td>\n",
       "      <td>N</td>\n",
       "      <td>0.0</td>\n",
       "      <td>...</td>\n",
       "      <td>NaN</td>\n",
       "      <td>NaN</td>\n",
       "      <td>NaN</td>\n",
       "      <td>NaN</td>\n",
       "      <td>NaN</td>\n",
       "      <td>NaN</td>\n",
       "      <td>V</td>\n",
       "      <td>NaN</td>\n",
       "      <td>NaN</td>\n",
       "      <td>NaN</td>\n",
       "    </tr>\n",
       "    <tr>\n",
       "      <th>1031018</th>\n",
       "      <td>1031224</td>\n",
       "      <td>10558399.0</td>\n",
       "      <td>General Motors LLC</td>\n",
       "      <td>CHEVROLET</td>\n",
       "      <td>SILVERADO 1500</td>\n",
       "      <td>1999.0</td>\n",
       "      <td>N</td>\n",
       "      <td>20101001.0</td>\n",
       "      <td>N</td>\n",
       "      <td>0.0</td>\n",
       "      <td>...</td>\n",
       "      <td>NaN</td>\n",
       "      <td>NaN</td>\n",
       "      <td>NaN</td>\n",
       "      <td>NaN</td>\n",
       "      <td>NaN</td>\n",
       "      <td>NaN</td>\n",
       "      <td>V</td>\n",
       "      <td>NaN</td>\n",
       "      <td>NaN</td>\n",
       "      <td>NaN</td>\n",
       "    </tr>\n",
       "  </tbody>\n",
       "</table>\n",
       "<p>2 rows × 49 columns</p>\n",
       "</div>"
      ],
      "text/plain": [
       "          CMPLID       ODINO            MFR_NAME    MAKETXT        MODELTXT  \\\n",
       "1031017  1031223  10558399.0  General Motors LLC  CHEVROLET  SILVERADO 1500   \n",
       "1031018  1031224  10558399.0  General Motors LLC  CHEVROLET  SILVERADO 1500   \n",
       "\n",
       "         YEARTXT CRASH    FAILDATE FIRE  INJURED        ...         \\\n",
       "1031017   1999.0     N  20101001.0    N      0.0        ...          \n",
       "1031018   1999.0     N  20101001.0    N      0.0        ...          \n",
       "\n",
       "         RESTRAINT_TYPE DEALER_NAME DEALER_TEL DEALER_CITY DEALER_STATE  \\\n",
       "1031017             NaN         NaN        NaN         NaN          NaN   \n",
       "1031018             NaN         NaN        NaN         NaN          NaN   \n",
       "\n",
       "         DEALER_ZIP  PROD_TYPE  REPAIRED_YN  MEDICAL_ATTN VEHICLES_TOWED_YN  \n",
       "1031017         NaN          V          NaN           NaN               NaN  \n",
       "1031018         NaN          V          NaN           NaN               NaN  \n",
       "\n",
       "[2 rows x 49 columns]"
      ]
     },
     "execution_count": 8,
     "metadata": {},
     "output_type": "execute_result"
    }
   ],
   "source": [
    "alldata.ix[1031017:1031018]"
   ]
  },
  {
   "cell_type": "code",
   "execution_count": 9,
   "metadata": {
    "collapsed": false
   },
   "outputs": [],
   "source": [
    "# desc.ix[300092]['CDESCR']"
   ]
  },
  {
   "cell_type": "code",
   "execution_count": null,
   "metadata": {
    "collapsed": true
   },
   "outputs": [],
   "source": []
  },
  {
   "cell_type": "code",
   "execution_count": null,
   "metadata": {
    "collapsed": true
   },
   "outputs": [],
   "source": []
  },
  {
   "cell_type": "markdown",
   "metadata": {
    "collapsed": true
   },
   "source": [
    "\n"
   ]
  },
  {
   "cell_type": "markdown",
   "metadata": {},
   "source": [
    "### an example of complaints with same ODINO "
   ]
  },
  {
   "cell_type": "code",
   "execution_count": null,
   "metadata": {
    "collapsed": true
   },
   "outputs": [],
   "source": []
  },
  {
   "cell_type": "code",
   "execution_count": 10,
   "metadata": {
    "collapsed": false
   },
   "outputs": [],
   "source": [
    "a=10854510\n",
    "# alldata[alldata['ODINO']==a]['CDESCR']\n",
    "c=alldata[alldata['ODINO']==a]"
   ]
  },
  {
   "cell_type": "code",
   "execution_count": 11,
   "metadata": {
    "collapsed": false
   },
   "outputs": [
    {
     "data": {
      "text/plain": [
       "pandas.core.frame.DataFrame"
      ]
     },
     "execution_count": 11,
     "metadata": {},
     "output_type": "execute_result"
    }
   ],
   "source": [
    "type(c)"
   ]
  },
  {
   "cell_type": "code",
   "execution_count": 12,
   "metadata": {
    "collapsed": false
   },
   "outputs": [
    {
     "data": {
      "text/html": [
       "<div>\n",
       "<table border=\"1\" class=\"dataframe\">\n",
       "  <thead>\n",
       "    <tr style=\"text-align: right;\">\n",
       "      <th></th>\n",
       "      <th>CMPLID</th>\n",
       "      <th>ODINO</th>\n",
       "      <th>MFR_NAME</th>\n",
       "      <th>MAKETXT</th>\n",
       "      <th>MODELTXT</th>\n",
       "      <th>YEARTXT</th>\n",
       "      <th>CRASH</th>\n",
       "      <th>FAILDATE</th>\n",
       "    </tr>\n",
       "  </thead>\n",
       "  <tbody>\n",
       "    <tr>\n",
       "      <th>1274235</th>\n",
       "      <td>1274526</td>\n",
       "      <td>10854510.0</td>\n",
       "      <td>BMW of North America, LLC</td>\n",
       "      <td>BMW</td>\n",
       "      <td>X5</td>\n",
       "      <td>2015.0</td>\n",
       "      <td>N</td>\n",
       "      <td>20150808.0</td>\n",
       "    </tr>\n",
       "    <tr>\n",
       "      <th>1274236</th>\n",
       "      <td>1274527</td>\n",
       "      <td>10854510.0</td>\n",
       "      <td>BMW of North America, LLC</td>\n",
       "      <td>BMW</td>\n",
       "      <td>X5</td>\n",
       "      <td>2015.0</td>\n",
       "      <td>N</td>\n",
       "      <td>20150808.0</td>\n",
       "    </tr>\n",
       "    <tr>\n",
       "      <th>1274237</th>\n",
       "      <td>1274528</td>\n",
       "      <td>10854510.0</td>\n",
       "      <td>BMW of North America, LLC</td>\n",
       "      <td>BMW</td>\n",
       "      <td>X5</td>\n",
       "      <td>2015.0</td>\n",
       "      <td>N</td>\n",
       "      <td>20150808.0</td>\n",
       "    </tr>\n",
       "  </tbody>\n",
       "</table>\n",
       "</div>"
      ],
      "text/plain": [
       "          CMPLID       ODINO                   MFR_NAME MAKETXT MODELTXT  \\\n",
       "1274235  1274526  10854510.0  BMW of North America, LLC     BMW       X5   \n",
       "1274236  1274527  10854510.0  BMW of North America, LLC     BMW       X5   \n",
       "1274237  1274528  10854510.0  BMW of North America, LLC     BMW       X5   \n",
       "\n",
       "         YEARTXT CRASH    FAILDATE  \n",
       "1274235   2015.0     N  20150808.0  \n",
       "1274236   2015.0     N  20150808.0  \n",
       "1274237   2015.0     N  20150808.0  "
      ]
     },
     "execution_count": 12,
     "metadata": {},
     "output_type": "execute_result"
    }
   ],
   "source": [
    "c.iloc[:, :8]"
   ]
  },
  {
   "cell_type": "code",
   "execution_count": 13,
   "metadata": {
    "collapsed": false
   },
   "outputs": [
    {
     "data": {
      "text/html": [
       "<div>\n",
       "<table border=\"1\" class=\"dataframe\">\n",
       "  <thead>\n",
       "    <tr style=\"text-align: right;\">\n",
       "      <th></th>\n",
       "      <th>INJURED</th>\n",
       "      <th>DEATHS</th>\n",
       "      <th>COMPDESC</th>\n",
       "      <th>CITY</th>\n",
       "      <th>STATE</th>\n",
       "      <th>VIN</th>\n",
       "      <th>DATEA</th>\n",
       "      <th>LDATE</th>\n",
       "      <th>MILES</th>\n",
       "    </tr>\n",
       "  </thead>\n",
       "  <tbody>\n",
       "    <tr>\n",
       "      <th>1274235</th>\n",
       "      <td>NaN</td>\n",
       "      <td>NaN</td>\n",
       "      <td>EXTERIOR LIGHTING</td>\n",
       "      <td>LOS ALTOS</td>\n",
       "      <td>CA</td>\n",
       "      <td>5UXKR0C52F0</td>\n",
       "      <td>20160409</td>\n",
       "      <td>20160409</td>\n",
       "      <td>2599.0</td>\n",
       "    </tr>\n",
       "    <tr>\n",
       "      <th>1274236</th>\n",
       "      <td>NaN</td>\n",
       "      <td>NaN</td>\n",
       "      <td>STEERING</td>\n",
       "      <td>LOS ALTOS</td>\n",
       "      <td>CA</td>\n",
       "      <td>5UXKR0C52F0</td>\n",
       "      <td>20160409</td>\n",
       "      <td>20160409</td>\n",
       "      <td>2599.0</td>\n",
       "    </tr>\n",
       "    <tr>\n",
       "      <th>1274237</th>\n",
       "      <td>NaN</td>\n",
       "      <td>NaN</td>\n",
       "      <td>SEAT BELTS</td>\n",
       "      <td>LOS ALTOS</td>\n",
       "      <td>CA</td>\n",
       "      <td>5UXKR0C52F0</td>\n",
       "      <td>20160409</td>\n",
       "      <td>20160409</td>\n",
       "      <td>2599.0</td>\n",
       "    </tr>\n",
       "  </tbody>\n",
       "</table>\n",
       "</div>"
      ],
      "text/plain": [
       "         INJURED  DEATHS           COMPDESC       CITY STATE          VIN  \\\n",
       "1274235      NaN     NaN  EXTERIOR LIGHTING  LOS ALTOS    CA  5UXKR0C52F0   \n",
       "1274236      NaN     NaN           STEERING  LOS ALTOS    CA  5UXKR0C52F0   \n",
       "1274237      NaN     NaN         SEAT BELTS  LOS ALTOS    CA  5UXKR0C52F0   \n",
       "\n",
       "            DATEA     LDATE   MILES  \n",
       "1274235  20160409  20160409  2599.0  \n",
       "1274236  20160409  20160409  2599.0  \n",
       "1274237  20160409  20160409  2599.0  "
      ]
     },
     "execution_count": 13,
     "metadata": {},
     "output_type": "execute_result"
    }
   ],
   "source": [
    "c.iloc[:, 9:18]"
   ]
  },
  {
   "cell_type": "code",
   "execution_count": 14,
   "metadata": {
    "collapsed": false
   },
   "outputs": [
    {
     "data": {
      "text/html": [
       "<div>\n",
       "<table border=\"1\" class=\"dataframe\">\n",
       "  <thead>\n",
       "    <tr style=\"text-align: right;\">\n",
       "      <th></th>\n",
       "      <th>CDESCR</th>\n",
       "      <th>CMPL_TYPE</th>\n",
       "      <th>POLICE_RPT_YN</th>\n",
       "      <th>PURCH_DT</th>\n",
       "      <th>ORIG_OWNER_YN</th>\n",
       "    </tr>\n",
       "  </thead>\n",
       "  <tbody>\n",
       "    <tr>\n",
       "      <th>1274235</th>\n",
       "      <td>I WAS DRIVING MY 2015 X5 (BOUGHT IT NEW IN MAR...</td>\n",
       "      <td>IVOQ</td>\n",
       "      <td>N</td>\n",
       "      <td>NaN</td>\n",
       "      <td>N</td>\n",
       "    </tr>\n",
       "    <tr>\n",
       "      <th>1274236</th>\n",
       "      <td>I WAS DRIVING MY 2015 X5 (BOUGHT IT NEW IN MAR...</td>\n",
       "      <td>IVOQ</td>\n",
       "      <td>N</td>\n",
       "      <td>NaN</td>\n",
       "      <td>N</td>\n",
       "    </tr>\n",
       "    <tr>\n",
       "      <th>1274237</th>\n",
       "      <td>I WAS DRIVING MY 2015 X5 (BOUGHT IT NEW IN MAR...</td>\n",
       "      <td>IVOQ</td>\n",
       "      <td>N</td>\n",
       "      <td>NaN</td>\n",
       "      <td>N</td>\n",
       "    </tr>\n",
       "  </tbody>\n",
       "</table>\n",
       "</div>"
      ],
      "text/plain": [
       "                                                    CDESCR CMPL_TYPE  \\\n",
       "1274235  I WAS DRIVING MY 2015 X5 (BOUGHT IT NEW IN MAR...      IVOQ   \n",
       "1274236  I WAS DRIVING MY 2015 X5 (BOUGHT IT NEW IN MAR...      IVOQ   \n",
       "1274237  I WAS DRIVING MY 2015 X5 (BOUGHT IT NEW IN MAR...      IVOQ   \n",
       "\n",
       "        POLICE_RPT_YN  PURCH_DT ORIG_OWNER_YN  \n",
       "1274235             N       NaN             N  \n",
       "1274236             N       NaN             N  \n",
       "1274237             N       NaN             N  "
      ]
     },
     "execution_count": 14,
     "metadata": {},
     "output_type": "execute_result"
    }
   ],
   "source": [
    "c.iloc[:, 19:24]"
   ]
  },
  {
   "cell_type": "code",
   "execution_count": null,
   "metadata": {
    "collapsed": true
   },
   "outputs": [],
   "source": []
  },
  {
   "cell_type": "code",
   "execution_count": null,
   "metadata": {
    "collapsed": true
   },
   "outputs": [],
   "source": []
  },
  {
   "cell_type": "markdown",
   "metadata": {
    "collapsed": true
   },
   "source": [
    "\n",
    "## Match the COMPLAIN and Mapping table\n"
   ]
  },
  {
   "cell_type": "code",
   "execution_count": 15,
   "metadata": {
    "collapsed": false
   },
   "outputs": [],
   "source": [
    "mapping = pd.read_csv('./voq_map_filtered', sep=',',index_col=False, low_memory=False, encoding = \"ISO-8859-1\", error_bad_lines=False)"
   ]
  },
  {
   "cell_type": "code",
   "execution_count": 16,
   "metadata": {
    "collapsed": false
   },
   "outputs": [
    {
     "data": {
      "text/html": [
       "<div>\n",
       "<table border=\"1\" class=\"dataframe\">\n",
       "  <thead>\n",
       "    <tr style=\"text-align: right;\">\n",
       "      <th></th>\n",
       "      <th>Unnamed: 0</th>\n",
       "      <th>voq.rowno</th>\n",
       "      <th>voq.odino</th>\n",
       "      <th>voq.ecode</th>\n",
       "      <th>voq.datea</th>\n",
       "      <th>voq.compdesc</th>\n",
       "      <th>voq.defect_id</th>\n",
       "      <th>fa.fa_id</th>\n",
       "      <th>fa.fa_path</th>\n",
       "      <th>fa.fa_label</th>\n",
       "      <th>fo.fo_id</th>\n",
       "      <th>fo.fo_path</th>\n",
       "      <th>fo.fo_label</th>\n",
       "    </tr>\n",
       "  </thead>\n",
       "  <tbody>\n",
       "    <tr>\n",
       "      <th>0</th>\n",
       "      <td>1</td>\n",
       "      <td>1810</td>\n",
       "      <td>10003620</td>\n",
       "      <td>e53</td>\n",
       "      <td>20030113</td>\n",
       "      <td>air bags</td>\n",
       "      <td>7</td>\n",
       "      <td>990</td>\n",
       "      <td>00005/00990</td>\n",
       "      <td>Failure</td>\n",
       "      <td>12764</td>\n",
       "      <td>65/77/004/12764</td>\n",
       "      <td>SBE, front</td>\n",
       "    </tr>\n",
       "    <tr>\n",
       "      <th>1</th>\n",
       "      <td>123</td>\n",
       "      <td>68281</td>\n",
       "      <td>10060969</td>\n",
       "      <td>e46</td>\n",
       "      <td>20040227</td>\n",
       "      <td>air bags</td>\n",
       "      <td>34</td>\n",
       "      <td>624</td>\n",
       "      <td>00005/00527/00049/00624</td>\n",
       "      <td>Accidental activation</td>\n",
       "      <td>15450</td>\n",
       "      <td>72/12</td>\n",
       "      <td>Airbags</td>\n",
       "    </tr>\n",
       "    <tr>\n",
       "      <th>2</th>\n",
       "      <td>142</td>\n",
       "      <td>75256</td>\n",
       "      <td>10066641</td>\n",
       "      <td>e53</td>\n",
       "      <td>20040406</td>\n",
       "      <td>air bags</td>\n",
       "      <td>34</td>\n",
       "      <td>624</td>\n",
       "      <td>00005/00527/00049/00624</td>\n",
       "      <td>Accidental activation</td>\n",
       "      <td>15450</td>\n",
       "      <td>72/12</td>\n",
       "      <td>Airbags</td>\n",
       "    </tr>\n",
       "    <tr>\n",
       "      <th>3</th>\n",
       "      <td>170</td>\n",
       "      <td>93260</td>\n",
       "      <td>10079790</td>\n",
       "      <td>e46</td>\n",
       "      <td>20040701</td>\n",
       "      <td>tires</td>\n",
       "      <td>7</td>\n",
       "      <td>990</td>\n",
       "      <td>00005/00990</td>\n",
       "      <td>Failure</td>\n",
       "      <td>12764</td>\n",
       "      <td>65/77/004/12764</td>\n",
       "      <td>SBE, front</td>\n",
       "    </tr>\n",
       "    <tr>\n",
       "      <th>4</th>\n",
       "      <td>207</td>\n",
       "      <td>108798</td>\n",
       "      <td>10094713</td>\n",
       "      <td>e46</td>\n",
       "      <td>20040930</td>\n",
       "      <td>air bags:side/window</td>\n",
       "      <td>34</td>\n",
       "      <td>624</td>\n",
       "      <td>00005/00527/00049/00624</td>\n",
       "      <td>Accidental activation</td>\n",
       "      <td>15450</td>\n",
       "      <td>72/12</td>\n",
       "      <td>Airbags</td>\n",
       "    </tr>\n",
       "  </tbody>\n",
       "</table>\n",
       "</div>"
      ],
      "text/plain": [
       "   Unnamed: 0  voq.rowno  voq.odino voq.ecode  voq.datea  \\\n",
       "0           1       1810   10003620       e53   20030113   \n",
       "1         123      68281   10060969       e46   20040227   \n",
       "2         142      75256   10066641       e53   20040406   \n",
       "3         170      93260   10079790       e46   20040701   \n",
       "4         207     108798   10094713       e46   20040930   \n",
       "\n",
       "           voq.compdesc  voq.defect_id  fa.fa_id               fa.fa_path  \\\n",
       "0              air bags              7       990              00005/00990   \n",
       "1              air bags             34       624  00005/00527/00049/00624   \n",
       "2              air bags             34       624  00005/00527/00049/00624   \n",
       "3                 tires              7       990              00005/00990   \n",
       "4  air bags:side/window             34       624  00005/00527/00049/00624   \n",
       "\n",
       "             fa.fa_label  fo.fo_id       fo.fo_path fo.fo_label  \n",
       "0                Failure     12764  65/77/004/12764  SBE, front  \n",
       "1  Accidental activation     15450            72/12     Airbags  \n",
       "2  Accidental activation     15450            72/12     Airbags  \n",
       "3                Failure     12764  65/77/004/12764  SBE, front  \n",
       "4  Accidental activation     15450            72/12     Airbags  "
      ]
     },
     "execution_count": 16,
     "metadata": {},
     "output_type": "execute_result"
    }
   ],
   "source": [
    "mapping.head()"
   ]
  },
  {
   "cell_type": "code",
   "execution_count": null,
   "metadata": {
    "collapsed": true
   },
   "outputs": [],
   "source": []
  },
  {
   "cell_type": "markdown",
   "metadata": {
    "collapsed": true
   },
   "source": [
    "\n",
    "#### I filter the NA values in linux using grep -v NA"
   ]
  },
  {
   "cell_type": "code",
   "execution_count": 17,
   "metadata": {
    "collapsed": false
   },
   "outputs": [],
   "source": [
    "# mapping.columns"
   ]
  },
  {
   "cell_type": "code",
   "execution_count": 18,
   "metadata": {
    "collapsed": false
   },
   "outputs": [],
   "source": [
    "# type(mapping)"
   ]
  },
  {
   "cell_type": "code",
   "execution_count": 19,
   "metadata": {
    "collapsed": false
   },
   "outputs": [],
   "source": [
    "# mapping.dtypes"
   ]
  },
  {
   "cell_type": "code",
   "execution_count": 20,
   "metadata": {
    "collapsed": false
   },
   "outputs": [],
   "source": [
    "# a=mapping.loc[mapping['voq.defect_id']!=float('NaN')]\n"
   ]
  },
  {
   "cell_type": "code",
   "execution_count": 21,
   "metadata": {
    "collapsed": false
   },
   "outputs": [],
   "source": [
    "# a.head()"
   ]
  },
  {
   "cell_type": "markdown",
   "metadata": {},
   "source": [
    "## Merge both data frames"
   ]
  },
  {
   "cell_type": "markdown",
   "metadata": {},
   "source": [
    "link: http://pandas.pydata.org/pandas-docs/stable/merging.html"
   ]
  },
  {
   "cell_type": "code",
   "execution_count": 22,
   "metadata": {
    "collapsed": false
   },
   "outputs": [],
   "source": [
    "mapping.rename(columns={'voq.odino':'ODINO'}, inplace=True)"
   ]
  },
  {
   "cell_type": "code",
   "execution_count": 23,
   "metadata": {
    "collapsed": false
   },
   "outputs": [
    {
     "data": {
      "text/plain": [
       "Index(['Unnamed: 0', 'voq.rowno', 'ODINO', 'voq.ecode', 'voq.datea',\n",
       "       'voq.compdesc', 'voq.defect_id', 'fa.fa_id', 'fa.fa_path',\n",
       "       'fa.fa_label', 'fo.fo_id', 'fo.fo_path', 'fo.fo_label'],\n",
       "      dtype='object')"
      ]
     },
     "execution_count": 23,
     "metadata": {},
     "output_type": "execute_result"
    }
   ],
   "source": [
    "mapping.columns"
   ]
  },
  {
   "cell_type": "code",
   "execution_count": 24,
   "metadata": {
    "collapsed": false
   },
   "outputs": [],
   "source": [
    "comp_voq=pd.merge(alldata,mapping,on='ODINO')"
   ]
  },
  {
   "cell_type": "code",
   "execution_count": 25,
   "metadata": {
    "collapsed": false
   },
   "outputs": [
    {
     "data": {
      "text/html": [
       "<div>\n",
       "<table border=\"1\" class=\"dataframe\">\n",
       "  <thead>\n",
       "    <tr style=\"text-align: right;\">\n",
       "      <th></th>\n",
       "      <th>CMPLID</th>\n",
       "      <th>ODINO</th>\n",
       "      <th>MFR_NAME</th>\n",
       "      <th>MAKETXT</th>\n",
       "      <th>MODELTXT</th>\n",
       "      <th>YEARTXT</th>\n",
       "      <th>CRASH</th>\n",
       "      <th>FAILDATE</th>\n",
       "      <th>FIRE</th>\n",
       "      <th>INJURED</th>\n",
       "      <th>...</th>\n",
       "      <th>voq.ecode</th>\n",
       "      <th>voq.datea</th>\n",
       "      <th>voq.compdesc</th>\n",
       "      <th>voq.defect_id</th>\n",
       "      <th>fa.fa_id</th>\n",
       "      <th>fa.fa_path</th>\n",
       "      <th>fa.fa_label</th>\n",
       "      <th>fo.fo_id</th>\n",
       "      <th>fo.fo_path</th>\n",
       "      <th>fo.fo_label</th>\n",
       "    </tr>\n",
       "  </thead>\n",
       "  <tbody>\n",
       "    <tr>\n",
       "      <th>0</th>\n",
       "      <td>395623</td>\n",
       "      <td>10001853.0</td>\n",
       "      <td>BMW of North America, LLC</td>\n",
       "      <td>BMW</td>\n",
       "      <td>330I</td>\n",
       "      <td>2001.0</td>\n",
       "      <td>N</td>\n",
       "      <td>20021229.0</td>\n",
       "      <td>N</td>\n",
       "      <td>NaN</td>\n",
       "      <td>...</td>\n",
       "      <td>e46</td>\n",
       "      <td>20030102</td>\n",
       "      <td>air bags:side/window</td>\n",
       "      <td>34</td>\n",
       "      <td>624</td>\n",
       "      <td>00005/00527/00049/00624</td>\n",
       "      <td>Accidental activation</td>\n",
       "      <td>15450</td>\n",
       "      <td>72/12</td>\n",
       "      <td>Airbags</td>\n",
       "    </tr>\n",
       "    <tr>\n",
       "      <th>1</th>\n",
       "      <td>397088</td>\n",
       "      <td>10003620.0</td>\n",
       "      <td>BAYERISCHE MOTOREN WERKE</td>\n",
       "      <td>BMW</td>\n",
       "      <td>X5</td>\n",
       "      <td>2002.0</td>\n",
       "      <td>N</td>\n",
       "      <td>20030108.0</td>\n",
       "      <td>N</td>\n",
       "      <td>NaN</td>\n",
       "      <td>...</td>\n",
       "      <td>e53</td>\n",
       "      <td>20030113</td>\n",
       "      <td>air bags</td>\n",
       "      <td>7</td>\n",
       "      <td>990</td>\n",
       "      <td>00005/00990</td>\n",
       "      <td>Failure</td>\n",
       "      <td>12764</td>\n",
       "      <td>65/77/004/12764</td>\n",
       "      <td>SBE, front</td>\n",
       "    </tr>\n",
       "    <tr>\n",
       "      <th>2</th>\n",
       "      <td>398110</td>\n",
       "      <td>10003039.0</td>\n",
       "      <td>BMW of North America, LLC</td>\n",
       "      <td>BMW</td>\n",
       "      <td>528I</td>\n",
       "      <td>2000.0</td>\n",
       "      <td>N</td>\n",
       "      <td>20030119.0</td>\n",
       "      <td>N</td>\n",
       "      <td>0.0</td>\n",
       "      <td>...</td>\n",
       "      <td>e39</td>\n",
       "      <td>20030120</td>\n",
       "      <td>steering</td>\n",
       "      <td>72</td>\n",
       "      <td>990</td>\n",
       "      <td>00005/00990</td>\n",
       "      <td>Failure</td>\n",
       "      <td>29327</td>\n",
       "      <td>32/30/001/13126/29327</td>\n",
       "      <td>Steering column</td>\n",
       "    </tr>\n",
       "    <tr>\n",
       "      <th>3</th>\n",
       "      <td>398776</td>\n",
       "      <td>10003318.0</td>\n",
       "      <td>BAYERISCHE MOTOREN WERKE</td>\n",
       "      <td>BMW</td>\n",
       "      <td>3 SERIES</td>\n",
       "      <td>2000.0</td>\n",
       "      <td>N</td>\n",
       "      <td>20030123.0</td>\n",
       "      <td>N</td>\n",
       "      <td>0.0</td>\n",
       "      <td>...</td>\n",
       "      <td>e46</td>\n",
       "      <td>20030124</td>\n",
       "      <td>structure:frame and members</td>\n",
       "      <td>50</td>\n",
       "      <td>990</td>\n",
       "      <td>00005/00990</td>\n",
       "      <td>Failure</td>\n",
       "      <td>1573</td>\n",
       "      <td>00013/01886/01573</td>\n",
       "      <td>Engine running</td>\n",
       "    </tr>\n",
       "    <tr>\n",
       "      <th>4</th>\n",
       "      <td>399122</td>\n",
       "      <td>10004694.0</td>\n",
       "      <td>BAYERISCHE MOTOREN WERKE</td>\n",
       "      <td>BMW</td>\n",
       "      <td>X5</td>\n",
       "      <td>2002.0</td>\n",
       "      <td>N</td>\n",
       "      <td>20021227.0</td>\n",
       "      <td>N</td>\n",
       "      <td>NaN</td>\n",
       "      <td>...</td>\n",
       "      <td>e53</td>\n",
       "      <td>20030127</td>\n",
       "      <td>electrical system</td>\n",
       "      <td>23</td>\n",
       "      <td>49</td>\n",
       "      <td>00005/00527/00049</td>\n",
       "      <td>Activation faulty</td>\n",
       "      <td>15450</td>\n",
       "      <td>72/12</td>\n",
       "      <td>Airbags</td>\n",
       "    </tr>\n",
       "  </tbody>\n",
       "</table>\n",
       "<p>5 rows × 61 columns</p>\n",
       "</div>"
      ],
      "text/plain": [
       "   CMPLID       ODINO                   MFR_NAME MAKETXT  MODELTXT  YEARTXT  \\\n",
       "0  395623  10001853.0  BMW of North America, LLC     BMW      330I   2001.0   \n",
       "1  397088  10003620.0   BAYERISCHE MOTOREN WERKE     BMW        X5   2002.0   \n",
       "2  398110  10003039.0  BMW of North America, LLC     BMW      528I   2000.0   \n",
       "3  398776  10003318.0   BAYERISCHE MOTOREN WERKE     BMW  3 SERIES   2000.0   \n",
       "4  399122  10004694.0   BAYERISCHE MOTOREN WERKE     BMW        X5   2002.0   \n",
       "\n",
       "  CRASH    FAILDATE FIRE  INJURED       ...         voq.ecode voq.datea  \\\n",
       "0     N  20021229.0    N      NaN       ...               e46  20030102   \n",
       "1     N  20030108.0    N      NaN       ...               e53  20030113   \n",
       "2     N  20030119.0    N      0.0       ...               e39  20030120   \n",
       "3     N  20030123.0    N      0.0       ...               e46  20030124   \n",
       "4     N  20021227.0    N      NaN       ...               e53  20030127   \n",
       "\n",
       "                  voq.compdesc voq.defect_id fa.fa_id  \\\n",
       "0         air bags:side/window            34      624   \n",
       "1                     air bags             7      990   \n",
       "2                     steering            72      990   \n",
       "3  structure:frame and members            50      990   \n",
       "4            electrical system            23       49   \n",
       "\n",
       "                fa.fa_path            fa.fa_label  fo.fo_id  \\\n",
       "0  00005/00527/00049/00624  Accidental activation     15450   \n",
       "1              00005/00990                Failure     12764   \n",
       "2              00005/00990                Failure     29327   \n",
       "3              00005/00990                Failure      1573   \n",
       "4        00005/00527/00049      Activation faulty     15450   \n",
       "\n",
       "              fo.fo_path      fo.fo_label  \n",
       "0                  72/12          Airbags  \n",
       "1        65/77/004/12764       SBE, front  \n",
       "2  32/30/001/13126/29327  Steering column  \n",
       "3      00013/01886/01573   Engine running  \n",
       "4                  72/12          Airbags  \n",
       "\n",
       "[5 rows x 61 columns]"
      ]
     },
     "execution_count": 25,
     "metadata": {},
     "output_type": "execute_result"
    }
   ],
   "source": [
    "comp_voq.head()"
   ]
  },
  {
   "cell_type": "code",
   "execution_count": null,
   "metadata": {
    "collapsed": true
   },
   "outputs": [],
   "source": []
  },
  {
   "cell_type": "code",
   "execution_count": 26,
   "metadata": {
    "collapsed": false
   },
   "outputs": [
    {
     "data": {
      "text/plain": [
       "Index(['CMPLID', 'ODINO', 'MFR_NAME', 'MAKETXT', 'MODELTXT', 'YEARTXT',\n",
       "       'CRASH', 'FAILDATE', 'FIRE', 'INJURED', 'DEATHS', 'COMPDESC', 'CITY',\n",
       "       'STATE', 'VIN', 'DATEA', 'LDATE', 'MILES', 'OCCURENCES', 'CDESCR',\n",
       "       'CMPL_TYPE', 'POLICE_RPT_YN', 'PURCH_DT', 'ORIG_OWNER_YN',\n",
       "       'ANTI_BRAKES_YN', 'CRUISE_CONT_YN', 'NUM_CYLS', 'DRIVE_TRAIN',\n",
       "       'FUEL_SYS', 'FUEL_TYPE', 'TRANS_TYPE', 'VEH_SPEED', 'DOT', 'TIRE_SIZE',\n",
       "       'LOC_OF_TIRE', 'TIRE_FAIL_TYPE', 'ORIG_EQUIP_YN', 'MANUF_DT',\n",
       "       'SEAT_TYPE', 'RESTRAINT_TYPE', 'DEALER_NAME', 'DEALER_TEL',\n",
       "       'DEALER_CITY', 'DEALER_STATE', 'DEALER_ZIP', 'PROD_TYPE', 'REPAIRED_YN',\n",
       "       'MEDICAL_ATTN', 'VEHICLES_TOWED_YN', 'Unnamed: 0', 'voq.rowno',\n",
       "       'voq.ecode', 'voq.datea', 'voq.compdesc', 'voq.defect_id', 'fa.fa_id',\n",
       "       'fa.fa_path', 'fa.fa_label', 'fo.fo_id', 'fo.fo_path', 'fo.fo_label'],\n",
       "      dtype='object')"
      ]
     },
     "execution_count": 26,
     "metadata": {},
     "output_type": "execute_result"
    }
   ],
   "source": [
    "comp_voq.columns"
   ]
  },
  {
   "cell_type": "code",
   "execution_count": 27,
   "metadata": {
    "collapsed": false
   },
   "outputs": [],
   "source": [
    "a=comp_voq[['ODINO','CDESCR','voq.compdesc', 'voq.defect_id', 'fa.fa_id',\n",
    "       'fa.fa_path', 'fa.fa_label', 'fo.fo_id', 'fo.fo_path', 'fo.fo_label']]"
   ]
  },
  {
   "cell_type": "code",
   "execution_count": 28,
   "metadata": {
    "collapsed": false
   },
   "outputs": [
    {
     "data": {
      "text/html": [
       "<div>\n",
       "<table border=\"1\" class=\"dataframe\">\n",
       "  <thead>\n",
       "    <tr style=\"text-align: right;\">\n",
       "      <th></th>\n",
       "      <th>ODINO</th>\n",
       "      <th>CDESCR</th>\n",
       "      <th>voq.compdesc</th>\n",
       "      <th>voq.defect_id</th>\n",
       "      <th>fa.fa_id</th>\n",
       "      <th>fa.fa_path</th>\n",
       "      <th>fa.fa_label</th>\n",
       "      <th>fo.fo_id</th>\n",
       "      <th>fo.fo_path</th>\n",
       "      <th>fo.fo_label</th>\n",
       "    </tr>\n",
       "  </thead>\n",
       "  <tbody>\n",
       "    <tr>\n",
       "      <th>0</th>\n",
       "      <td>10001853.0</td>\n",
       "      <td>CONSUMER STATED THAT WHILE DRIVING AT 55MPH AN...</td>\n",
       "      <td>air bags:side/window</td>\n",
       "      <td>34</td>\n",
       "      <td>624</td>\n",
       "      <td>00005/00527/00049/00624</td>\n",
       "      <td>Accidental activation</td>\n",
       "      <td>15450</td>\n",
       "      <td>72/12</td>\n",
       "      <td>Airbags</td>\n",
       "    </tr>\n",
       "    <tr>\n",
       "      <th>1</th>\n",
       "      <td>10003620.0</td>\n",
       "      <td>CONSUMER STATED THE AIRBAG LIGHT ILLUMINATED, ...</td>\n",
       "      <td>air bags</td>\n",
       "      <td>7</td>\n",
       "      <td>990</td>\n",
       "      <td>00005/00990</td>\n",
       "      <td>Failure</td>\n",
       "      <td>12764</td>\n",
       "      <td>65/77/004/12764</td>\n",
       "      <td>SBE, front</td>\n",
       "    </tr>\n",
       "    <tr>\n",
       "      <th>2</th>\n",
       "      <td>10003039.0</td>\n",
       "      <td>THE STEERING WHEEL OF THE CAR BECAME 'FREE SPI...</td>\n",
       "      <td>steering</td>\n",
       "      <td>72</td>\n",
       "      <td>990</td>\n",
       "      <td>00005/00990</td>\n",
       "      <td>Failure</td>\n",
       "      <td>29327</td>\n",
       "      <td>32/30/001/13126/29327</td>\n",
       "      <td>Steering column</td>\n",
       "    </tr>\n",
       "    <tr>\n",
       "      <th>3</th>\n",
       "      <td>10003318.0</td>\n",
       "      <td>BROKEN REAR SUBFRAME MOUNT - HAS OCCURED IN MA...</td>\n",
       "      <td>structure:frame and members</td>\n",
       "      <td>50</td>\n",
       "      <td>990</td>\n",
       "      <td>00005/00990</td>\n",
       "      <td>Failure</td>\n",
       "      <td>1573</td>\n",
       "      <td>00013/01886/01573</td>\n",
       "      <td>Engine running</td>\n",
       "    </tr>\n",
       "    <tr>\n",
       "      <th>4</th>\n",
       "      <td>10004694.0</td>\n",
       "      <td>ELECTRICAL SYSTEM CONTINUOUSLY FAILS,CAUSING T...</td>\n",
       "      <td>electrical system</td>\n",
       "      <td>23</td>\n",
       "      <td>49</td>\n",
       "      <td>00005/00527/00049</td>\n",
       "      <td>Activation faulty</td>\n",
       "      <td>15450</td>\n",
       "      <td>72/12</td>\n",
       "      <td>Airbags</td>\n",
       "    </tr>\n",
       "    <tr>\n",
       "      <th>5</th>\n",
       "      <td>10004745.0</td>\n",
       "      <td>VEHICLE WAS \"TOTALED\" DUE TO A COLLISION, BY A...</td>\n",
       "      <td>air bags:side/window</td>\n",
       "      <td>23</td>\n",
       "      <td>49</td>\n",
       "      <td>00005/00527/00049</td>\n",
       "      <td>Activation faulty</td>\n",
       "      <td>15450</td>\n",
       "      <td>72/12</td>\n",
       "      <td>Airbags</td>\n",
       "    </tr>\n",
       "    <tr>\n",
       "      <th>6</th>\n",
       "      <td>10003550.0</td>\n",
       "      <td>I PURCHASE A NEW 745I AND AFTER 10MONTHS OF CO...</td>\n",
       "      <td>air bags</td>\n",
       "      <td>50</td>\n",
       "      <td>990</td>\n",
       "      <td>00005/00990</td>\n",
       "      <td>Failure</td>\n",
       "      <td>1573</td>\n",
       "      <td>00013/01886/01573</td>\n",
       "      <td>Engine running</td>\n",
       "    </tr>\n",
       "    <tr>\n",
       "      <th>7</th>\n",
       "      <td>10003550.0</td>\n",
       "      <td>I PURCHASE A NEW 745I AND AFTER 10MONTHS OF CO...</td>\n",
       "      <td>engine and engine cooling:exhaust system:manif...</td>\n",
       "      <td>50</td>\n",
       "      <td>990</td>\n",
       "      <td>00005/00990</td>\n",
       "      <td>Failure</td>\n",
       "      <td>1573</td>\n",
       "      <td>00013/01886/01573</td>\n",
       "      <td>Engine running</td>\n",
       "    </tr>\n",
       "    <tr>\n",
       "      <th>8</th>\n",
       "      <td>10003550.0</td>\n",
       "      <td>I PURCHASE A NEW 745I AND AFTER 10MONTHS OF CO...</td>\n",
       "      <td>air bags</td>\n",
       "      <td>50</td>\n",
       "      <td>990</td>\n",
       "      <td>00005/00990</td>\n",
       "      <td>Failure</td>\n",
       "      <td>1573</td>\n",
       "      <td>00013/01886/01573</td>\n",
       "      <td>Engine running</td>\n",
       "    </tr>\n",
       "    <tr>\n",
       "      <th>9</th>\n",
       "      <td>10003550.0</td>\n",
       "      <td>I PURCHASE A NEW 745I AND AFTER 10MONTHS OF CO...</td>\n",
       "      <td>engine and engine cooling:exhaust system:manif...</td>\n",
       "      <td>50</td>\n",
       "      <td>990</td>\n",
       "      <td>00005/00990</td>\n",
       "      <td>Failure</td>\n",
       "      <td>1573</td>\n",
       "      <td>00013/01886/01573</td>\n",
       "      <td>Engine running</td>\n",
       "    </tr>\n",
       "  </tbody>\n",
       "</table>\n",
       "</div>"
      ],
      "text/plain": [
       "        ODINO                                             CDESCR  \\\n",
       "0  10001853.0  CONSUMER STATED THAT WHILE DRIVING AT 55MPH AN...   \n",
       "1  10003620.0  CONSUMER STATED THE AIRBAG LIGHT ILLUMINATED, ...   \n",
       "2  10003039.0  THE STEERING WHEEL OF THE CAR BECAME 'FREE SPI...   \n",
       "3  10003318.0  BROKEN REAR SUBFRAME MOUNT - HAS OCCURED IN MA...   \n",
       "4  10004694.0  ELECTRICAL SYSTEM CONTINUOUSLY FAILS,CAUSING T...   \n",
       "5  10004745.0  VEHICLE WAS \"TOTALED\" DUE TO A COLLISION, BY A...   \n",
       "6  10003550.0  I PURCHASE A NEW 745I AND AFTER 10MONTHS OF CO...   \n",
       "7  10003550.0  I PURCHASE A NEW 745I AND AFTER 10MONTHS OF CO...   \n",
       "8  10003550.0  I PURCHASE A NEW 745I AND AFTER 10MONTHS OF CO...   \n",
       "9  10003550.0  I PURCHASE A NEW 745I AND AFTER 10MONTHS OF CO...   \n",
       "\n",
       "                                        voq.compdesc  voq.defect_id  fa.fa_id  \\\n",
       "0                               air bags:side/window             34       624   \n",
       "1                                           air bags              7       990   \n",
       "2                                           steering             72       990   \n",
       "3                        structure:frame and members             50       990   \n",
       "4                                  electrical system             23        49   \n",
       "5                               air bags:side/window             23        49   \n",
       "6                                           air bags             50       990   \n",
       "7  engine and engine cooling:exhaust system:manif...             50       990   \n",
       "8                                           air bags             50       990   \n",
       "9  engine and engine cooling:exhaust system:manif...             50       990   \n",
       "\n",
       "                fa.fa_path            fa.fa_label  fo.fo_id  \\\n",
       "0  00005/00527/00049/00624  Accidental activation     15450   \n",
       "1              00005/00990                Failure     12764   \n",
       "2              00005/00990                Failure     29327   \n",
       "3              00005/00990                Failure      1573   \n",
       "4        00005/00527/00049      Activation faulty     15450   \n",
       "5        00005/00527/00049      Activation faulty     15450   \n",
       "6              00005/00990                Failure      1573   \n",
       "7              00005/00990                Failure      1573   \n",
       "8              00005/00990                Failure      1573   \n",
       "9              00005/00990                Failure      1573   \n",
       "\n",
       "              fo.fo_path      fo.fo_label  \n",
       "0                  72/12          Airbags  \n",
       "1        65/77/004/12764       SBE, front  \n",
       "2  32/30/001/13126/29327  Steering column  \n",
       "3      00013/01886/01573   Engine running  \n",
       "4                  72/12          Airbags  \n",
       "5                  72/12          Airbags  \n",
       "6      00013/01886/01573   Engine running  \n",
       "7      00013/01886/01573   Engine running  \n",
       "8      00013/01886/01573   Engine running  \n",
       "9      00013/01886/01573   Engine running  "
      ]
     },
     "execution_count": 28,
     "metadata": {},
     "output_type": "execute_result"
    }
   ],
   "source": [
    "a.head(10)"
   ]
  },
  {
   "cell_type": "code",
   "execution_count": null,
   "metadata": {
    "collapsed": true
   },
   "outputs": [],
   "source": []
  },
  {
   "cell_type": "code",
   "execution_count": 29,
   "metadata": {
    "collapsed": false
   },
   "outputs": [
    {
     "data": {
      "text/html": [
       "<div>\n",
       "<table border=\"1\" class=\"dataframe\">\n",
       "  <thead>\n",
       "    <tr style=\"text-align: right;\">\n",
       "      <th></th>\n",
       "      <th>ODINO</th>\n",
       "      <th>CDESCR</th>\n",
       "      <th>voq.compdesc</th>\n",
       "      <th>voq.defect_id</th>\n",
       "      <th>fa.fa_id</th>\n",
       "      <th>fa.fa_path</th>\n",
       "      <th>fa.fa_label</th>\n",
       "      <th>fo.fo_id</th>\n",
       "      <th>fo.fo_path</th>\n",
       "      <th>fo.fo_label</th>\n",
       "    </tr>\n",
       "  </thead>\n",
       "  <tbody>\n",
       "    <tr>\n",
       "      <th>2</th>\n",
       "      <td>10003039.0</td>\n",
       "      <td>THE STEERING WHEEL OF THE CAR BECAME 'FREE SPI...</td>\n",
       "      <td>steering</td>\n",
       "      <td>72</td>\n",
       "      <td>990</td>\n",
       "      <td>00005/00990</td>\n",
       "      <td>Failure</td>\n",
       "      <td>29327</td>\n",
       "      <td>32/30/001/13126/29327</td>\n",
       "      <td>Steering column</td>\n",
       "    </tr>\n",
       "    <tr>\n",
       "      <th>3</th>\n",
       "      <td>10003318.0</td>\n",
       "      <td>BROKEN REAR SUBFRAME MOUNT - HAS OCCURED IN MA...</td>\n",
       "      <td>structure:frame and members</td>\n",
       "      <td>50</td>\n",
       "      <td>990</td>\n",
       "      <td>00005/00990</td>\n",
       "      <td>Failure</td>\n",
       "      <td>1573</td>\n",
       "      <td>00013/01886/01573</td>\n",
       "      <td>Engine running</td>\n",
       "    </tr>\n",
       "    <tr>\n",
       "      <th>4</th>\n",
       "      <td>10004694.0</td>\n",
       "      <td>ELECTRICAL SYSTEM CONTINUOUSLY FAILS,CAUSING T...</td>\n",
       "      <td>electrical system</td>\n",
       "      <td>23</td>\n",
       "      <td>49</td>\n",
       "      <td>00005/00527/00049</td>\n",
       "      <td>Activation faulty</td>\n",
       "      <td>15450</td>\n",
       "      <td>72/12</td>\n",
       "      <td>Airbags</td>\n",
       "    </tr>\n",
       "    <tr>\n",
       "      <th>5</th>\n",
       "      <td>10004745.0</td>\n",
       "      <td>VEHICLE WAS \"TOTALED\" DUE TO A COLLISION, BY A...</td>\n",
       "      <td>air bags:side/window</td>\n",
       "      <td>23</td>\n",
       "      <td>49</td>\n",
       "      <td>00005/00527/00049</td>\n",
       "      <td>Activation faulty</td>\n",
       "      <td>15450</td>\n",
       "      <td>72/12</td>\n",
       "      <td>Airbags</td>\n",
       "    </tr>\n",
       "    <tr>\n",
       "      <th>6</th>\n",
       "      <td>10003550.0</td>\n",
       "      <td>I PURCHASE A NEW 745I AND AFTER 10MONTHS OF CO...</td>\n",
       "      <td>air bags</td>\n",
       "      <td>50</td>\n",
       "      <td>990</td>\n",
       "      <td>00005/00990</td>\n",
       "      <td>Failure</td>\n",
       "      <td>1573</td>\n",
       "      <td>00013/01886/01573</td>\n",
       "      <td>Engine running</td>\n",
       "    </tr>\n",
       "    <tr>\n",
       "      <th>7</th>\n",
       "      <td>10003550.0</td>\n",
       "      <td>I PURCHASE A NEW 745I AND AFTER 10MONTHS OF CO...</td>\n",
       "      <td>engine and engine cooling:exhaust system:manif...</td>\n",
       "      <td>50</td>\n",
       "      <td>990</td>\n",
       "      <td>00005/00990</td>\n",
       "      <td>Failure</td>\n",
       "      <td>1573</td>\n",
       "      <td>00013/01886/01573</td>\n",
       "      <td>Engine running</td>\n",
       "    </tr>\n",
       "    <tr>\n",
       "      <th>8</th>\n",
       "      <td>10003550.0</td>\n",
       "      <td>I PURCHASE A NEW 745I AND AFTER 10MONTHS OF CO...</td>\n",
       "      <td>air bags</td>\n",
       "      <td>50</td>\n",
       "      <td>990</td>\n",
       "      <td>00005/00990</td>\n",
       "      <td>Failure</td>\n",
       "      <td>1573</td>\n",
       "      <td>00013/01886/01573</td>\n",
       "      <td>Engine running</td>\n",
       "    </tr>\n",
       "    <tr>\n",
       "      <th>9</th>\n",
       "      <td>10003550.0</td>\n",
       "      <td>I PURCHASE A NEW 745I AND AFTER 10MONTHS OF CO...</td>\n",
       "      <td>engine and engine cooling:exhaust system:manif...</td>\n",
       "      <td>50</td>\n",
       "      <td>990</td>\n",
       "      <td>00005/00990</td>\n",
       "      <td>Failure</td>\n",
       "      <td>1573</td>\n",
       "      <td>00013/01886/01573</td>\n",
       "      <td>Engine running</td>\n",
       "    </tr>\n",
       "    <tr>\n",
       "      <th>10</th>\n",
       "      <td>10005136.0</td>\n",
       "      <td>DRIVER'S SEAT HEATER MALFUNCTIONED.  I FIRST N...</td>\n",
       "      <td>seats:front assembly:seat heater/cooler</td>\n",
       "      <td>13</td>\n",
       "      <td>674</td>\n",
       "      <td>00005/00674</td>\n",
       "      <td>Overheating</td>\n",
       "      <td>160</td>\n",
       "      <td>01930/01936/01938/00160</td>\n",
       "      <td>Seat heating</td>\n",
       "    </tr>\n",
       "  </tbody>\n",
       "</table>\n",
       "</div>"
      ],
      "text/plain": [
       "         ODINO                                             CDESCR  \\\n",
       "2   10003039.0  THE STEERING WHEEL OF THE CAR BECAME 'FREE SPI...   \n",
       "3   10003318.0  BROKEN REAR SUBFRAME MOUNT - HAS OCCURED IN MA...   \n",
       "4   10004694.0  ELECTRICAL SYSTEM CONTINUOUSLY FAILS,CAUSING T...   \n",
       "5   10004745.0  VEHICLE WAS \"TOTALED\" DUE TO A COLLISION, BY A...   \n",
       "6   10003550.0  I PURCHASE A NEW 745I AND AFTER 10MONTHS OF CO...   \n",
       "7   10003550.0  I PURCHASE A NEW 745I AND AFTER 10MONTHS OF CO...   \n",
       "8   10003550.0  I PURCHASE A NEW 745I AND AFTER 10MONTHS OF CO...   \n",
       "9   10003550.0  I PURCHASE A NEW 745I AND AFTER 10MONTHS OF CO...   \n",
       "10  10005136.0  DRIVER'S SEAT HEATER MALFUNCTIONED.  I FIRST N...   \n",
       "\n",
       "                                         voq.compdesc  voq.defect_id  \\\n",
       "2                                            steering             72   \n",
       "3                         structure:frame and members             50   \n",
       "4                                   electrical system             23   \n",
       "5                                air bags:side/window             23   \n",
       "6                                            air bags             50   \n",
       "7   engine and engine cooling:exhaust system:manif...             50   \n",
       "8                                            air bags             50   \n",
       "9   engine and engine cooling:exhaust system:manif...             50   \n",
       "10            seats:front assembly:seat heater/cooler             13   \n",
       "\n",
       "    fa.fa_id         fa.fa_path        fa.fa_label  fo.fo_id  \\\n",
       "2        990        00005/00990            Failure     29327   \n",
       "3        990        00005/00990            Failure      1573   \n",
       "4         49  00005/00527/00049  Activation faulty     15450   \n",
       "5         49  00005/00527/00049  Activation faulty     15450   \n",
       "6        990        00005/00990            Failure      1573   \n",
       "7        990        00005/00990            Failure      1573   \n",
       "8        990        00005/00990            Failure      1573   \n",
       "9        990        00005/00990            Failure      1573   \n",
       "10       674        00005/00674        Overheating       160   \n",
       "\n",
       "                 fo.fo_path      fo.fo_label  \n",
       "2     32/30/001/13126/29327  Steering column  \n",
       "3         00013/01886/01573   Engine running  \n",
       "4                     72/12          Airbags  \n",
       "5                     72/12          Airbags  \n",
       "6         00013/01886/01573   Engine running  \n",
       "7         00013/01886/01573   Engine running  \n",
       "8         00013/01886/01573   Engine running  \n",
       "9         00013/01886/01573   Engine running  \n",
       "10  01930/01936/01938/00160     Seat heating  "
      ]
     },
     "execution_count": 29,
     "metadata": {},
     "output_type": "execute_result"
    }
   ],
   "source": [
    "a.ix[2:10]"
   ]
  },
  {
   "cell_type": "code",
   "execution_count": null,
   "metadata": {
    "collapsed": true
   },
   "outputs": [],
   "source": []
  },
  {
   "cell_type": "code",
   "execution_count": null,
   "metadata": {
    "collapsed": true
   },
   "outputs": [],
   "source": []
  },
  {
   "cell_type": "code",
   "execution_count": 30,
   "metadata": {
    "collapsed": true
   },
   "outputs": [],
   "source": [
    "odino_text=comp_voq[['ODINO','CDESCR']]"
   ]
  },
  {
   "cell_type": "code",
   "execution_count": null,
   "metadata": {
    "collapsed": true
   },
   "outputs": [],
   "source": []
  },
  {
   "cell_type": "code",
   "execution_count": 31,
   "metadata": {
    "collapsed": false
   },
   "outputs": [
    {
     "data": {
      "text/plain": [
       "24975"
      ]
     },
     "execution_count": 31,
     "metadata": {},
     "output_type": "execute_result"
    }
   ],
   "source": [
    "len(odino_text)"
   ]
  },
  {
   "cell_type": "code",
   "execution_count": 32,
   "metadata": {
    "collapsed": false
   },
   "outputs": [
    {
     "name": "stdout",
     "output_type": "stream",
     "text": [
      "            ODINO                                             CDESCR  \\\n",
      "0      10001853.0  CONSUMER STATED THAT WHILE DRIVING AT 55MPH AN...   \n",
      "1      10003620.0  CONSUMER STATED THE AIRBAG LIGHT ILLUMINATED, ...   \n",
      "2      10003039.0  THE STEERING WHEEL OF THE CAR BECAME 'FREE SPI...   \n",
      "3      10003318.0  BROKEN REAR SUBFRAME MOUNT - HAS OCCURED IN MA...   \n",
      "4      10004694.0  ELECTRICAL SYSTEM CONTINUOUSLY FAILS,CAUSING T...   \n",
      "5      10004745.0  VEHICLE WAS \"TOTALED\" DUE TO A COLLISION, BY A...   \n",
      "6      10003550.0  I PURCHASE A NEW 745I AND AFTER 10MONTHS OF CO...   \n",
      "7      10003550.0  I PURCHASE A NEW 745I AND AFTER 10MONTHS OF CO...   \n",
      "8      10003550.0  I PURCHASE A NEW 745I AND AFTER 10MONTHS OF CO...   \n",
      "9      10003550.0  I PURCHASE A NEW 745I AND AFTER 10MONTHS OF CO...   \n",
      "10     10005136.0  DRIVER'S SEAT HEATER MALFUNCTIONED.  I FIRST N...   \n",
      "11     10005229.0  COMMON RADIATOR FAILURES.  ALL AT USUALLY BELO...   \n",
      "12     10012055.0  THE AIR BAG LIGHT ILLUMINATED ON THE DASH BOAR...   \n",
      "13     10015250.0  WHILE TURNING AT A 90 DEGREE ANGLE THE VEHICLE...   \n",
      "14     10017958.0  WHEN THE VEHICLE TURNED A CORNER THE SIDE AIR ...   \n",
      "15     10019772.0  WHILE DRIVING 60 MPH THE DRIVER DOOR SIDE AIR ...   \n",
      "16     10019772.0  WHILE DRIVING 60 MPH THE DRIVER DOOR SIDE AIR ...   \n",
      "17     10019772.0  WHILE DRIVING 60 MPH THE DRIVER DOOR SIDE AIR ...   \n",
      "18     10019772.0  WHILE DRIVING 60 MPH THE DRIVER DOOR SIDE AIR ...   \n",
      "19     10019772.0  WHILE DRIVING 60 MPH THE DRIVER DOOR SIDE AIR ...   \n",
      "20     10019772.0  WHILE DRIVING 60 MPH THE DRIVER DOOR SIDE AIR ...   \n",
      "21     10020672.0  SIDE-AIRBAGS DEPLOYED UNECESSARILY CAUSING ARM...   \n",
      "22     10021814.0  CONSUMER CALLED COMPLAINING ABOT THE AIR BAGS ...   \n",
      "23     10021817.0  WHILE DRIVING THE SIDE AIR BAGS DEPLOYED.  THE...   \n",
      "24     10022220.0  DRIVER SIDE  AIR BAG AND THE WINDOW AIR BAG  D...   \n",
      "25     10020983.0  MY MINI COOPER HAS DEVELOPED A HUGE CRACK IN T...   \n",
      "26     10021142.0  THE TELEMATICS AND OTHER ELECTRONICS SYSTEMS O...   \n",
      "27     10021142.0  THE TELEMATICS AND OTHER ELECTRONICS SYSTEMS O...   \n",
      "28     10021142.0  THE TELEMATICS AND OTHER ELECTRONICS SYSTEMS O...   \n",
      "29     10021142.0  THE TELEMATICS AND OTHER ELECTRONICS SYSTEMS O...   \n",
      "...           ...                                                ...   \n",
      "24945  10881628.0  VEHICLE DEFECTS REPORTED OR RECALLED, BMW, OEM...   \n",
      "24946  10881628.0  VEHICLE DEFECTS REPORTED OR RECALLED, BMW, OEM...   \n",
      "24947  10881628.0  VEHICLE DEFECTS REPORTED OR RECALLED, BMW, OEM...   \n",
      "24948  10881628.0  VEHICLE DEFECTS REPORTED OR RECALLED, BMW, OEM...   \n",
      "24949  10881628.0  VEHICLE DEFECTS REPORTED OR RECALLED, BMW, OEM...   \n",
      "24950  10881631.0  TL* THE CONTACT OWNS A 2003 BMW 530I. THE CONT...   \n",
      "24951  10881666.0  IVE PERSONALLY DRIVEN MY 2009 MINI COOPER CLUB...   \n",
      "24952  10881666.0  IVE PERSONALLY DRIVEN MY 2009 MINI COOPER CLUB...   \n",
      "24953  10881666.0  IVE PERSONALLY DRIVEN MY 2009 MINI COOPER CLUB...   \n",
      "24954  10881666.0  IVE PERSONALLY DRIVEN MY 2009 MINI COOPER CLUB...   \n",
      "24955  10881666.0  IVE PERSONALLY DRIVEN MY 2009 MINI COOPER CLUB...   \n",
      "24956  10881666.0  IVE PERSONALLY DRIVEN MY 2009 MINI COOPER CLUB...   \n",
      "24957  10881666.0  IVE PERSONALLY DRIVEN MY 2009 MINI COOPER CLUB...   \n",
      "24958  10881666.0  IVE PERSONALLY DRIVEN MY 2009 MINI COOPER CLUB...   \n",
      "24959  10881666.0  IVE PERSONALLY DRIVEN MY 2009 MINI COOPER CLUB...   \n",
      "24960  10881682.0  TL* THE CONTACT OWNS A 2002 BMW 525IA. WHILE D...   \n",
      "24961  10881682.0  TL* THE CONTACT OWNS A 2002 BMW 525IA. WHILE D...   \n",
      "24962  10881682.0  TL* THE CONTACT OWNS A 2002 BMW 525IA. WHILE D...   \n",
      "24963  10881682.0  TL* THE CONTACT OWNS A 2002 BMW 525IA. WHILE D...   \n",
      "24964  10881683.0  TL* THE CONTACT OWNS A 2007 BMW 328I. THE CONT...   \n",
      "24965  10881715.0  FOR THE SECOND TIME THE ENING SHUT OFF COMPLET...   \n",
      "24966  10881726.0  IN HOT TEMPERATURES OR AFTER DRIVING CONTINUOU...   \n",
      "24967  10881729.0  STOPPED AT GAS STATION TO FILL UP.  RESTARTED ...   \n",
      "24968  10881786.0  TL* TAKATA RECALL. THE CONTACT OWNS A 2006 BMW...   \n",
      "24969  10881795.0  TAKATA RECALL  I HAVE BEEN NOTIFIED OF A RECAL...   \n",
      "24970  10881828.0  TAKATA RECALL.  I WAS INVOLVED IN A MINOR, SLO...   \n",
      "24971  10881828.0  TAKATA RECALL.  I WAS INVOLVED IN A MINOR, SLO...   \n",
      "24972  10881828.0  TAKATA RECALL.  I WAS INVOLVED IN A MINOR, SLO...   \n",
      "24973  10881828.0  TAKATA RECALL.  I WAS INVOLVED IN A MINOR, SLO...   \n",
      "24974  10881910.0  VEHICLE INTERMITTENTLY STALLS AT LOW RPM (LESS...   \n",
      "\n",
      "                                            voq.compdesc  voq.defect_id  \\\n",
      "0                                   air bags:side/window             34   \n",
      "1                                               air bags              7   \n",
      "2                                               steering             72   \n",
      "3                            structure:frame and members             50   \n",
      "4                                      electrical system             23   \n",
      "5                                   air bags:side/window             23   \n",
      "6                                               air bags             50   \n",
      "7      engine and engine cooling:exhaust system:manif...             50   \n",
      "8                                               air bags             50   \n",
      "9      engine and engine cooling:exhaust system:manif...             50   \n",
      "10               seats:front assembly:seat heater/cooler             13   \n",
      "11     engine and engine cooling:cooling system:radia...            583   \n",
      "12                                              air bags              7   \n",
      "13                                      air bags:frontal             15   \n",
      "14                                  air bags:side/window             34   \n",
      "15                                                 tires             34   \n",
      "16                                  air bags:side/window             34   \n",
      "17                                                 tires             34   \n",
      "18                                  air bags:side/window             34   \n",
      "19                                                 tires             34   \n",
      "20                                  air bags:side/window             34   \n",
      "21                                  air bags:side/window             34   \n",
      "22          air bags:frontal:driver side inflator module             34   \n",
      "23                                  air bags:side/window             34   \n",
      "24                                  air bags:side/window             34   \n",
      "25                                 visibility:windshield             81   \n",
      "26                                 fuel system, gasoline             81   \n",
      "27                                              air bags             81   \n",
      "28                                     electrical system             81   \n",
      "29      tires:pressure monitoring and regulating systems             81   \n",
      "...                                                  ...            ...   \n",
      "24945                                   unknown or other             23   \n",
      "24946                                           air bags             23   \n",
      "24947                                             engine             23   \n",
      "24948                                   unknown or other             23   \n",
      "24949                                           air bags             23   \n",
      "24950                                           air bags             79   \n",
      "24951                                             engine             22   \n",
      "24952                                  electrical system             22   \n",
      "24953                             fuel/propulsion system             22   \n",
      "24954                                             engine             22   \n",
      "24955                                  electrical system             22   \n",
      "24956                             fuel/propulsion system             22   \n",
      "24957                                             engine             22   \n",
      "24958                                  electrical system             22   \n",
      "24959                             fuel/propulsion system             22   \n",
      "24960                                             engine             34   \n",
      "24961                                           air bags             34   \n",
      "24962                                             engine             34   \n",
      "24963                                           air bags             34   \n",
      "24964                                           air bags              7   \n",
      "24965                                             engine            518   \n",
      "24966                                           steering             60   \n",
      "24967                                           steering              9   \n",
      "24968                                           air bags             79   \n",
      "24969                                           air bags             79   \n",
      "24970                                           air bags             79   \n",
      "24971                                   unknown or other             79   \n",
      "24972                                           air bags             79   \n",
      "24973                                   unknown or other             79   \n",
      "24974                                             engine            497   \n",
      "\n",
      "       fa.fa_id               fa.fa_path                   fa.fa_label  \\\n",
      "0           624  00005/00527/00049/00624         Accidental activation   \n",
      "1           990              00005/00990                       Failure   \n",
      "2           990              00005/00990                       Failure   \n",
      "3           990              00005/00990                       Failure   \n",
      "4            49        00005/00527/00049             Activation faulty   \n",
      "5            49        00005/00527/00049             Activation faulty   \n",
      "6           990              00005/00990                       Failure   \n",
      "7           990              00005/00990                       Failure   \n",
      "8           990              00005/00990                       Failure   \n",
      "9           990              00005/00990                       Failure   \n",
      "10          674              00005/00674                   Overheating   \n",
      "11          990              00005/00990                       Failure   \n",
      "12          990              00005/00990                       Failure   \n",
      "13          989              00005/00989                   Malfunction   \n",
      "14          624  00005/00527/00049/00624         Accidental activation   \n",
      "15          624  00005/00527/00049/00624         Accidental activation   \n",
      "16          624  00005/00527/00049/00624         Accidental activation   \n",
      "17          624  00005/00527/00049/00624         Accidental activation   \n",
      "18          624  00005/00527/00049/00624         Accidental activation   \n",
      "19          624  00005/00527/00049/00624         Accidental activation   \n",
      "20          624  00005/00527/00049/00624         Accidental activation   \n",
      "21          624  00005/00527/00049/00624         Accidental activation   \n",
      "22          624  00005/00527/00049/00624         Accidental activation   \n",
      "23          624  00005/00527/00049/00624         Accidental activation   \n",
      "24          624  00005/00527/00049/00624         Accidental activation   \n",
      "25         1066        00005/00531/01066  Check Control message active   \n",
      "26         1066        00005/00531/01066  Check Control message active   \n",
      "27         1066        00005/00531/01066  Check Control message active   \n",
      "28         1066        00005/00531/01066  Check Control message active   \n",
      "29         1066        00005/00531/01066  Check Control message active   \n",
      "...         ...                      ...                           ...   \n",
      "24945        49        00005/00527/00049             Activation faulty   \n",
      "24946        49        00005/00527/00049             Activation faulty   \n",
      "24947        49        00005/00527/00049             Activation faulty   \n",
      "24948        49        00005/00527/00049             Activation faulty   \n",
      "24949        49        00005/00527/00049             Activation faulty   \n",
      "24950       989              00005/00989                   Malfunction   \n",
      "24951       536  00010/00091/00231/00536   Power transmission: missing   \n",
      "24952       536  00010/00091/00231/00536   Power transmission: missing   \n",
      "24953       536  00010/00091/00231/00536   Power transmission: missing   \n",
      "24954       536  00010/00091/00231/00536   Power transmission: missing   \n",
      "24955       536  00010/00091/00231/00536   Power transmission: missing   \n",
      "24956       536  00010/00091/00231/00536   Power transmission: missing   \n",
      "24957       536  00010/00091/00231/00536   Power transmission: missing   \n",
      "24958       536  00010/00091/00231/00536   Power transmission: missing   \n",
      "24959       536  00010/00091/00231/00536   Power transmission: missing   \n",
      "24960       624  00005/00527/00049/00624         Accidental activation   \n",
      "24961       624  00005/00527/00049/00624         Accidental activation   \n",
      "24962       624  00005/00527/00049/00624         Accidental activation   \n",
      "24963       624  00005/00527/00049/00624         Accidental activation   \n",
      "24964       990              00005/00990                       Failure   \n",
      "24965       599        00005/00050/00599         Autonomous switch off   \n",
      "24966       188        00005/00051/00188                Stiff movement   \n",
      "24967       990              00005/00990                       Failure   \n",
      "24968       989              00005/00989                   Malfunction   \n",
      "24969       989              00005/00989                   Malfunction   \n",
      "24970       989              00005/00989                   Malfunction   \n",
      "24971       989              00005/00989                   Malfunction   \n",
      "24972       989              00005/00989                   Malfunction   \n",
      "24973       989              00005/00989                   Malfunction   \n",
      "24974       599        00005/00050/00599         Autonomous switch off   \n",
      "\n",
      "       fo.fo_id                   fo.fo_path  \\\n",
      "0         15450                        72/12   \n",
      "1         12764              65/77/004/12764   \n",
      "2         29327        32/30/001/13126/29327   \n",
      "3          1573            00013/01886/01573   \n",
      "4         15450                        72/12   \n",
      "5         15450                        72/12   \n",
      "6          1573            00013/01886/01573   \n",
      "7          1573            00013/01886/01573   \n",
      "8          1573            00013/01886/01573   \n",
      "9          1573            00013/01886/01573   \n",
      "10          160      01930/01936/01938/00160   \n",
      "11        11273  17/11/001/27260/31170/11273   \n",
      "12        12764              65/77/004/12764   \n",
      "13          103            00013/01886/00103   \n",
      "14        15450                        72/12   \n",
      "15        15450                        72/12   \n",
      "16        15450                        72/12   \n",
      "17        15450                        72/12   \n",
      "18        15450                        72/12   \n",
      "19        15450                        72/12   \n",
      "20        15450                        72/12   \n",
      "21        15450                        72/12   \n",
      "22        15450                        72/12   \n",
      "23        15450                        72/12   \n",
      "24        15450                        72/12   \n",
      "25        27763              62/10/001/27763   \n",
      "26        27763              62/10/001/27763   \n",
      "27        27763              62/10/001/27763   \n",
      "28        27763              62/10/001/27763   \n",
      "29        27763              62/10/001/27763   \n",
      "...         ...                          ...   \n",
      "24945     15450                        72/12   \n",
      "24946     15450                        72/12   \n",
      "24947     15450                        72/12   \n",
      "24948     15450                        72/12   \n",
      "24949     15450                        72/12   \n",
      "24950     15450                        72/12   \n",
      "24951        72            00013/01886/00072   \n",
      "24952        72            00013/01886/00072   \n",
      "24953        72            00013/01886/00072   \n",
      "24954        72            00013/01886/00072   \n",
      "24955        72            00013/01886/00072   \n",
      "24956        72            00013/01886/00072   \n",
      "24957        72            00013/01886/00072   \n",
      "24958        72            00013/01886/00072   \n",
      "24959        72            00013/01886/00072   \n",
      "24960     15450                        72/12   \n",
      "24961     15450                        72/12   \n",
      "24962     15450                        72/12   \n",
      "24963     15450                        72/12   \n",
      "24964     12764              65/77/004/12764   \n",
      "24965      2090                  02069/02090   \n",
      "24966        75            00013/01889/00075   \n",
      "24967      1920            01913/01918/01920   \n",
      "24968     15450                        72/12   \n",
      "24969     15450                        72/12   \n",
      "24970     15450                        72/12   \n",
      "24971     15450                        72/12   \n",
      "24972     15450                        72/12   \n",
      "24973     15450                        72/12   \n",
      "24974        72            00013/01886/00072   \n",
      "\n",
      "                                 fo.fo_label  \n",
      "0                                    Airbags  \n",
      "1                                 SBE, front  \n",
      "2                            Steering column  \n",
      "3                             Engine running  \n",
      "4                                    Airbags  \n",
      "5                                    Airbags  \n",
      "6                             Engine running  \n",
      "7                             Engine running  \n",
      "8                             Engine running  \n",
      "9                             Engine running  \n",
      "10                              Seat heating  \n",
      "11                                  Radiator  \n",
      "12                                SBE, front  \n",
      "13                              Transmission  \n",
      "14                                   Airbags  \n",
      "15                                   Airbags  \n",
      "16                                   Airbags  \n",
      "17                                   Airbags  \n",
      "18                                   Airbags  \n",
      "19                                   Airbags  \n",
      "20                                   Airbags  \n",
      "21                                   Airbags  \n",
      "22                                   Airbags  \n",
      "23                                   Airbags  \n",
      "24                                   Airbags  \n",
      "25              Instrument cluster, complete  \n",
      "26              Instrument cluster, complete  \n",
      "27              Instrument cluster, complete  \n",
      "28              Instrument cluster, complete  \n",
      "29              Instrument cluster, complete  \n",
      "...                                      ...  \n",
      "24945                                Airbags  \n",
      "24946                                Airbags  \n",
      "24947                                Airbags  \n",
      "24948                                Airbags  \n",
      "24949                                Airbags  \n",
      "24950                                Airbags  \n",
      "24951                                Driving  \n",
      "24952                                Driving  \n",
      "24953                                Driving  \n",
      "24954                                Driving  \n",
      "24955                                Driving  \n",
      "24956                                Driving  \n",
      "24957                                Driving  \n",
      "24958                                Driving  \n",
      "24959                                Driving  \n",
      "24960                                Airbags  \n",
      "24961                                Airbags  \n",
      "24962                                Airbags  \n",
      "24963                                Airbags  \n",
      "24964                             SBE, front  \n",
      "24965  Shifting transmission / changing gear  \n",
      "24966                               Steering  \n",
      "24967                    Steering assistance  \n",
      "24968                                Airbags  \n",
      "24969                                Airbags  \n",
      "24970                                Airbags  \n",
      "24971                                Airbags  \n",
      "24972                                Airbags  \n",
      "24973                                Airbags  \n",
      "24974                                Driving  \n",
      "\n",
      "[24975 rows x 10 columns]\n"
     ]
    }
   ],
   "source": [
    "print(a)"
   ]
  },
  {
   "cell_type": "code",
   "execution_count": null,
   "metadata": {
    "collapsed": true
   },
   "outputs": [],
   "source": []
  },
  {
   "cell_type": "code",
   "execution_count": 33,
   "metadata": {
    "collapsed": false
   },
   "outputs": [],
   "source": [
    "comp_voq.to_csv('./complete_merge.csv', sep=',', header=True, index=True, encoding = \"ISO-8859-1\")"
   ]
  },
  {
   "cell_type": "code",
   "execution_count": null,
   "metadata": {
    "collapsed": true
   },
   "outputs": [],
   "source": []
  },
  {
   "cell_type": "code",
   "execution_count": 34,
   "metadata": {
    "collapsed": true
   },
   "outputs": [],
   "source": [
    "odino_text.to_csv('./odino_text.csv', sep='\\t', header=True, index=False, encoding = \"ISO-8859-1\")"
   ]
  },
  {
   "cell_type": "code",
   "execution_count": null,
   "metadata": {
    "collapsed": true
   },
   "outputs": [],
   "source": []
  },
  {
   "cell_type": "markdown",
   "metadata": {},
   "source": [
    "## find 26 rows with different ODINO"
   ]
  },
  {
   "cell_type": "code",
   "execution_count": null,
   "metadata": {
    "collapsed": true
   },
   "outputs": [],
   "source": []
  },
  {
   "cell_type": "code",
   "execution_count": 35,
   "metadata": {
    "collapsed": true
   },
   "outputs": [],
   "source": [
    "dups=odino_text.duplicated()"
   ]
  },
  {
   "cell_type": "code",
   "execution_count": null,
   "metadata": {
    "collapsed": true
   },
   "outputs": [],
   "source": []
  },
  {
   "cell_type": "code",
   "execution_count": 36,
   "metadata": {
    "collapsed": false
   },
   "outputs": [],
   "source": [
    "b=dups[dups]"
   ]
  },
  {
   "cell_type": "code",
   "execution_count": null,
   "metadata": {
    "collapsed": true
   },
   "outputs": [],
   "source": []
  },
  {
   "cell_type": "code",
   "execution_count": 37,
   "metadata": {
    "collapsed": false
   },
   "outputs": [
    {
     "data": {
      "text/plain": [
       "7     True\n",
       "8     True\n",
       "9     True\n",
       "16    True\n",
       "17    True\n",
       "18    True\n",
       "19    True\n",
       "20    True\n",
       "27    True\n",
       "28    True\n",
       "29    True\n",
       "30    True\n",
       "31    True\n",
       "32    True\n",
       "33    True\n",
       "34    True\n",
       "35    True\n",
       "36    True\n",
       "37    True\n",
       "38    True\n",
       "dtype: bool"
      ]
     },
     "execution_count": 37,
     "metadata": {},
     "output_type": "execute_result"
    }
   ],
   "source": [
    "b.head(20)"
   ]
  },
  {
   "cell_type": "code",
   "execution_count": 38,
   "metadata": {
    "collapsed": false
   },
   "outputs": [
    {
     "data": {
      "text/plain": [
       "13297"
      ]
     },
     "execution_count": 38,
     "metadata": {},
     "output_type": "execute_result"
    }
   ],
   "source": [
    "len(b)"
   ]
  },
  {
   "cell_type": "code",
   "execution_count": 39,
   "metadata": {
    "collapsed": false
   },
   "outputs": [
    {
     "data": {
      "text/plain": [
       "1360058"
      ]
     },
     "execution_count": 39,
     "metadata": {},
     "output_type": "execute_result"
    }
   ],
   "source": [
    "len(alldata)"
   ]
  },
  {
   "cell_type": "code",
   "execution_count": 40,
   "metadata": {
    "collapsed": false
   },
   "outputs": [
    {
     "data": {
      "text/plain": [
       "15377"
      ]
     },
     "execution_count": 40,
     "metadata": {},
     "output_type": "execute_result"
    }
   ],
   "source": [
    "len(mapping)"
   ]
  },
  {
   "cell_type": "code",
   "execution_count": 41,
   "metadata": {
    "collapsed": false
   },
   "outputs": [
    {
     "data": {
      "text/plain": [
       "24975"
      ]
     },
     "execution_count": 41,
     "metadata": {},
     "output_type": "execute_result"
    }
   ],
   "source": [
    "\n",
    "# grep BMW FLAT_CMPL.txt  | wc -l \n",
    "# 26106\n",
    "\n",
    "\n",
    "len(comp_voq)"
   ]
  },
  {
   "cell_type": "code",
   "execution_count": null,
   "metadata": {
    "collapsed": true
   },
   "outputs": [],
   "source": []
  },
  {
   "cell_type": "markdown",
   "metadata": {},
   "source": [
    "## check the distribution of classes"
   ]
  },
  {
   "cell_type": "code",
   "execution_count": 42,
   "metadata": {
    "collapsed": false
   },
   "outputs": [
    {
     "data": {
      "text/html": [
       "<div>\n",
       "<table border=\"1\" class=\"dataframe\">\n",
       "  <thead>\n",
       "    <tr style=\"text-align: right;\">\n",
       "      <th></th>\n",
       "      <th>Unnamed: 0</th>\n",
       "      <th>voq.rowno</th>\n",
       "      <th>ODINO</th>\n",
       "      <th>voq.ecode</th>\n",
       "      <th>voq.datea</th>\n",
       "      <th>voq.compdesc</th>\n",
       "      <th>voq.defect_id</th>\n",
       "      <th>fa.fa_id</th>\n",
       "      <th>fa.fa_path</th>\n",
       "      <th>fa.fa_label</th>\n",
       "      <th>fo.fo_id</th>\n",
       "      <th>fo.fo_path</th>\n",
       "      <th>fo.fo_label</th>\n",
       "    </tr>\n",
       "  </thead>\n",
       "  <tbody>\n",
       "    <tr>\n",
       "      <th>0</th>\n",
       "      <td>1</td>\n",
       "      <td>1810</td>\n",
       "      <td>10003620</td>\n",
       "      <td>e53</td>\n",
       "      <td>20030113</td>\n",
       "      <td>air bags</td>\n",
       "      <td>7</td>\n",
       "      <td>990</td>\n",
       "      <td>00005/00990</td>\n",
       "      <td>Failure</td>\n",
       "      <td>12764</td>\n",
       "      <td>65/77/004/12764</td>\n",
       "      <td>SBE, front</td>\n",
       "    </tr>\n",
       "    <tr>\n",
       "      <th>1</th>\n",
       "      <td>123</td>\n",
       "      <td>68281</td>\n",
       "      <td>10060969</td>\n",
       "      <td>e46</td>\n",
       "      <td>20040227</td>\n",
       "      <td>air bags</td>\n",
       "      <td>34</td>\n",
       "      <td>624</td>\n",
       "      <td>00005/00527/00049/00624</td>\n",
       "      <td>Accidental activation</td>\n",
       "      <td>15450</td>\n",
       "      <td>72/12</td>\n",
       "      <td>Airbags</td>\n",
       "    </tr>\n",
       "    <tr>\n",
       "      <th>2</th>\n",
       "      <td>142</td>\n",
       "      <td>75256</td>\n",
       "      <td>10066641</td>\n",
       "      <td>e53</td>\n",
       "      <td>20040406</td>\n",
       "      <td>air bags</td>\n",
       "      <td>34</td>\n",
       "      <td>624</td>\n",
       "      <td>00005/00527/00049/00624</td>\n",
       "      <td>Accidental activation</td>\n",
       "      <td>15450</td>\n",
       "      <td>72/12</td>\n",
       "      <td>Airbags</td>\n",
       "    </tr>\n",
       "    <tr>\n",
       "      <th>3</th>\n",
       "      <td>170</td>\n",
       "      <td>93260</td>\n",
       "      <td>10079790</td>\n",
       "      <td>e46</td>\n",
       "      <td>20040701</td>\n",
       "      <td>tires</td>\n",
       "      <td>7</td>\n",
       "      <td>990</td>\n",
       "      <td>00005/00990</td>\n",
       "      <td>Failure</td>\n",
       "      <td>12764</td>\n",
       "      <td>65/77/004/12764</td>\n",
       "      <td>SBE, front</td>\n",
       "    </tr>\n",
       "    <tr>\n",
       "      <th>4</th>\n",
       "      <td>207</td>\n",
       "      <td>108798</td>\n",
       "      <td>10094713</td>\n",
       "      <td>e46</td>\n",
       "      <td>20040930</td>\n",
       "      <td>air bags:side/window</td>\n",
       "      <td>34</td>\n",
       "      <td>624</td>\n",
       "      <td>00005/00527/00049/00624</td>\n",
       "      <td>Accidental activation</td>\n",
       "      <td>15450</td>\n",
       "      <td>72/12</td>\n",
       "      <td>Airbags</td>\n",
       "    </tr>\n",
       "  </tbody>\n",
       "</table>\n",
       "</div>"
      ],
      "text/plain": [
       "   Unnamed: 0  voq.rowno     ODINO voq.ecode  voq.datea          voq.compdesc  \\\n",
       "0           1       1810  10003620       e53   20030113              air bags   \n",
       "1         123      68281  10060969       e46   20040227              air bags   \n",
       "2         142      75256  10066641       e53   20040406              air bags   \n",
       "3         170      93260  10079790       e46   20040701                 tires   \n",
       "4         207     108798  10094713       e46   20040930  air bags:side/window   \n",
       "\n",
       "   voq.defect_id  fa.fa_id               fa.fa_path            fa.fa_label  \\\n",
       "0              7       990              00005/00990                Failure   \n",
       "1             34       624  00005/00527/00049/00624  Accidental activation   \n",
       "2             34       624  00005/00527/00049/00624  Accidental activation   \n",
       "3              7       990              00005/00990                Failure   \n",
       "4             34       624  00005/00527/00049/00624  Accidental activation   \n",
       "\n",
       "   fo.fo_id       fo.fo_path fo.fo_label  \n",
       "0     12764  65/77/004/12764  SBE, front  \n",
       "1     15450            72/12     Airbags  \n",
       "2     15450            72/12     Airbags  \n",
       "3     12764  65/77/004/12764  SBE, front  \n",
       "4     15450            72/12     Airbags  "
      ]
     },
     "execution_count": 42,
     "metadata": {},
     "output_type": "execute_result"
    }
   ],
   "source": [
    "mapping.head()\n"
   ]
  },
  {
   "cell_type": "code",
   "execution_count": 43,
   "metadata": {
    "collapsed": false
   },
   "outputs": [],
   "source": [
    "fa_group=mapping.groupby('fa.fa_id').size()"
   ]
  },
  {
   "cell_type": "code",
   "execution_count": 44,
   "metadata": {
    "collapsed": false
   },
   "outputs": [
    {
     "data": {
      "text/plain": [
       "122"
      ]
     },
     "execution_count": 44,
     "metadata": {},
     "output_type": "execute_result"
    }
   ],
   "source": [
    "len(fa_group)"
   ]
  },
  {
   "cell_type": "code",
   "execution_count": 45,
   "metadata": {
    "collapsed": false
   },
   "outputs": [
    {
     "data": {
      "text/plain": [
       "126.04098360655738"
      ]
     },
     "execution_count": 45,
     "metadata": {},
     "output_type": "execute_result"
    }
   ],
   "source": [
    "fa_group.mean()"
   ]
  },
  {
   "cell_type": "code",
   "execution_count": 46,
   "metadata": {
    "collapsed": false
   },
   "outputs": [
    {
     "data": {
      "text/plain": [
       "69"
      ]
     },
     "execution_count": 46,
     "metadata": {},
     "output_type": "execute_result"
    }
   ],
   "source": [
    "len (fa_group[fa_group < 10] )"
   ]
  },
  {
   "cell_type": "code",
   "execution_count": 47,
   "metadata": {
    "collapsed": false
   },
   "outputs": [
    {
     "ename": "ValueError",
     "evalue": "The truth value of a Series is ambiguous. Use a.empty, a.bool(), a.item(), a.any() or a.all().",
     "output_type": "error",
     "traceback": [
      "\u001b[1;31m---------------------------------------------------------------------------\u001b[0m",
      "\u001b[1;31mValueError\u001b[0m                                Traceback (most recent call last)",
      "\u001b[1;32m<ipython-input-47-d3b3460255cf>\u001b[0m in \u001b[0;36m<module>\u001b[1;34m()\u001b[0m\n\u001b[1;32m----> 1\u001b[1;33m \u001b[0mlen\u001b[0m \u001b[1;33m(\u001b[0m \u001b[0mfa_group\u001b[0m\u001b[1;33m[\u001b[0m\u001b[0mfa_group\u001b[0m \u001b[1;33m>\u001b[0m\u001b[1;36m10\u001b[0m\u001b[1;33m]\u001b[0m \u001b[1;32mand\u001b[0m \u001b[0mfa_group\u001b[0m\u001b[1;33m[\u001b[0m\u001b[0mfa_group\u001b[0m \u001b[1;33m<\u001b[0m\u001b[1;36m100\u001b[0m\u001b[1;33m]\u001b[0m \u001b[1;33m)\u001b[0m\u001b[1;33m\u001b[0m\u001b[0m\n\u001b[0m",
      "\u001b[1;32m/home/esadrfa/anaconda3/lib/python3.5/site-packages/pandas/core/generic.py\u001b[0m in \u001b[0;36m__nonzero__\u001b[1;34m(self)\u001b[0m\n\u001b[0;32m    885\u001b[0m         raise ValueError(\"The truth value of a {0} is ambiguous. \"\n\u001b[0;32m    886\u001b[0m                          \u001b[1;34m\"Use a.empty, a.bool(), a.item(), a.any() or a.all().\"\u001b[0m\u001b[1;33m\u001b[0m\u001b[0m\n\u001b[1;32m--> 887\u001b[1;33m                          .format(self.__class__.__name__))\n\u001b[0m\u001b[0;32m    888\u001b[0m \u001b[1;33m\u001b[0m\u001b[0m\n\u001b[0;32m    889\u001b[0m     \u001b[0m__bool__\u001b[0m \u001b[1;33m=\u001b[0m \u001b[0m__nonzero__\u001b[0m\u001b[1;33m\u001b[0m\u001b[0m\n",
      "\u001b[1;31mValueError\u001b[0m: The truth value of a Series is ambiguous. Use a.empty, a.bool(), a.item(), a.any() or a.all()."
     ]
    }
   ],
   "source": [
    "len ( fa_group[fa_group >10] and fa_group[fa_group <100] )"
   ]
  },
  {
   "cell_type": "code",
   "execution_count": null,
   "metadata": {
    "collapsed": false
   },
   "outputs": [],
   "source": [
    "len (fa_group[fa_group < 10] )"
   ]
  },
  {
   "cell_type": "code",
   "execution_count": null,
   "metadata": {
    "collapsed": true
   },
   "outputs": [],
   "source": []
  },
  {
   "cell_type": "code",
   "execution_count": null,
   "metadata": {
    "collapsed": true
   },
   "outputs": [],
   "source": []
  },
  {
   "cell_type": "code",
   "execution_count": null,
   "metadata": {
    "collapsed": true
   },
   "outputs": [],
   "source": []
  },
  {
   "cell_type": "code",
   "execution_count": null,
   "metadata": {
    "collapsed": true
   },
   "outputs": [],
   "source": []
  },
  {
   "cell_type": "code",
   "execution_count": null,
   "metadata": {
    "collapsed": true
   },
   "outputs": [],
   "source": []
  },
  {
   "cell_type": "code",
   "execution_count": null,
   "metadata": {
    "collapsed": true
   },
   "outputs": [],
   "source": []
  },
  {
   "cell_type": "code",
   "execution_count": null,
   "metadata": {
    "collapsed": true
   },
   "outputs": [],
   "source": []
  },
  {
   "cell_type": "code",
   "execution_count": null,
   "metadata": {
    "collapsed": true
   },
   "outputs": [],
   "source": []
  },
  {
   "cell_type": "code",
   "execution_count": null,
   "metadata": {
    "collapsed": true
   },
   "outputs": [],
   "source": []
  },
  {
   "cell_type": "code",
   "execution_count": null,
   "metadata": {
    "collapsed": true
   },
   "outputs": [],
   "source": []
  },
  {
   "cell_type": "code",
   "execution_count": null,
   "metadata": {
    "collapsed": true
   },
   "outputs": [],
   "source": []
  },
  {
   "cell_type": "code",
   "execution_count": null,
   "metadata": {
    "collapsed": true
   },
   "outputs": [],
   "source": []
  },
  {
   "cell_type": "code",
   "execution_count": null,
   "metadata": {
    "collapsed": true
   },
   "outputs": [],
   "source": []
  }
 ],
 "metadata": {
  "kernelspec": {
   "display_name": "Python 3",
   "language": "python",
   "name": "python3"
  },
  "language_info": {
   "codemirror_mode": {
    "name": "ipython",
    "version": 3
   },
   "file_extension": ".py",
   "mimetype": "text/x-python",
   "name": "python",
   "nbconvert_exporter": "python",
   "pygments_lexer": "ipython3",
   "version": "3.5.1"
  }
 },
 "nbformat": 4,
 "nbformat_minor": 0
}
